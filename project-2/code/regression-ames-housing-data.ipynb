{
 "cells": [
  {
   "cell_type": "markdown",
   "metadata": {},
   "source": [
    "# Project 2 - Ames Housing Data and Kaggle Challenge\n",
    "\n",
    "\n",
    "## Problem Statement\n",
    "The intend of this project is to create and select the best regression model for predicting housing sales price."
   ]
  },
  {
   "cell_type": "markdown",
   "metadata": {},
   "source": [
    "### General approach\n",
    "\n",
    "- [Load train data](#Load-Data)\n",
    "- [Data Imputation ](#Data-Imputation)\n",
    "- [Speparating variable types (nominal, ordinal, discrete, continuous)](#Separating-variable-types)\n",
    "- [Within each types, filter out columns that are not relevant accordingly based on point 5 and 6](#Dropping-features-with-low-variance)\n",
    "- [For categorial variables, filter out columns that have high frequency of the same category, based on a threshold value (can be tweaked)](#Dropping-features-with-low-variance)\n",
    "- [EDA scatter plots and histograms](#Feature-engineering)\n",
    "- [Dropping outliers](#Dropping-outliers)\n",
    "- [Label encoding ordinal categorial variables](#Label-Encoding-for-Ordinal-Categories)\n",
    "- [One hot encoding nominal categorial variables](#One-hot-encoding-on-nominal-category)\n",
    "- [For continuous variables, use correlation with sales prices to narrow down features](#Filtering-continuous-data-using-sales-price-correlation)\n",
    "- [Adding polynominal features](#Adding-polynomial-features)\n",
    "- [Train-test split, standard scaling and cross validation](#Train-test-split)\n",
    "- [Model scoring and selection](#Model-scoring)\n",
    "- [Cleaning test data](#Cleaning-test-data)\n",
    "- [Fitting test data with best selected model](#Fitting-test-data)\n",
    "- [Visualize top lasso/ridge coefficients](#Top-coefficients)\n",
    "- [Output predicted sales price to csv for kaggle submission](#Output-results-to-csv)"
   ]
  },
  {
   "cell_type": "code",
   "execution_count": 1,
   "metadata": {},
   "outputs": [],
   "source": [
    "import pandas as pd\n",
    "import numpy as np\n",
    "import seaborn as sns\n",
    "import matplotlib.pyplot as plt\n",
    "from scipy.stats import skew \n",
    "from sklearn.linear_model import LinearRegression, LassoCV, RidgeCV\n",
    "from sklearn.preprocessing import PolynomialFeatures, StandardScaler\n",
    "from sklearn.model_selection import train_test_split, cross_val_score\n",
    "from sklearn.metrics import r2_score, mean_squared_error\n",
    "\n",
    "%matplotlib inline"
   ]
  },
  {
   "cell_type": "markdown",
   "metadata": {},
   "source": [
    "### Load Data"
   ]
  },
  {
   "cell_type": "code",
   "execution_count": 2,
   "metadata": {},
   "outputs": [],
   "source": [
    "df = pd.read_csv('../data/train.csv')"
   ]
  },
  {
   "cell_type": "code",
   "execution_count": 3,
   "metadata": {},
   "outputs": [
    {
     "data": {
      "text/html": [
       "<div>\n",
       "<style scoped>\n",
       "    .dataframe tbody tr th:only-of-type {\n",
       "        vertical-align: middle;\n",
       "    }\n",
       "\n",
       "    .dataframe tbody tr th {\n",
       "        vertical-align: top;\n",
       "    }\n",
       "\n",
       "    .dataframe thead th {\n",
       "        text-align: right;\n",
       "    }\n",
       "</style>\n",
       "<table border=\"1\" class=\"dataframe\">\n",
       "  <thead>\n",
       "    <tr style=\"text-align: right;\">\n",
       "      <th></th>\n",
       "      <th>Id</th>\n",
       "      <th>PID</th>\n",
       "      <th>MS SubClass</th>\n",
       "      <th>MS Zoning</th>\n",
       "      <th>Lot Frontage</th>\n",
       "      <th>Lot Area</th>\n",
       "      <th>Street</th>\n",
       "      <th>Alley</th>\n",
       "      <th>Lot Shape</th>\n",
       "      <th>Land Contour</th>\n",
       "      <th>...</th>\n",
       "      <th>Screen Porch</th>\n",
       "      <th>Pool Area</th>\n",
       "      <th>Pool QC</th>\n",
       "      <th>Fence</th>\n",
       "      <th>Misc Feature</th>\n",
       "      <th>Misc Val</th>\n",
       "      <th>Mo Sold</th>\n",
       "      <th>Yr Sold</th>\n",
       "      <th>Sale Type</th>\n",
       "      <th>SalePrice</th>\n",
       "    </tr>\n",
       "  </thead>\n",
       "  <tbody>\n",
       "    <tr>\n",
       "      <td>0</td>\n",
       "      <td>109</td>\n",
       "      <td>533352170</td>\n",
       "      <td>60</td>\n",
       "      <td>RL</td>\n",
       "      <td>NaN</td>\n",
       "      <td>13517</td>\n",
       "      <td>Pave</td>\n",
       "      <td>NaN</td>\n",
       "      <td>IR1</td>\n",
       "      <td>Lvl</td>\n",
       "      <td>...</td>\n",
       "      <td>0</td>\n",
       "      <td>0</td>\n",
       "      <td>NaN</td>\n",
       "      <td>NaN</td>\n",
       "      <td>NaN</td>\n",
       "      <td>0</td>\n",
       "      <td>3</td>\n",
       "      <td>2010</td>\n",
       "      <td>WD</td>\n",
       "      <td>130500</td>\n",
       "    </tr>\n",
       "    <tr>\n",
       "      <td>1</td>\n",
       "      <td>544</td>\n",
       "      <td>531379050</td>\n",
       "      <td>60</td>\n",
       "      <td>RL</td>\n",
       "      <td>43.0</td>\n",
       "      <td>11492</td>\n",
       "      <td>Pave</td>\n",
       "      <td>NaN</td>\n",
       "      <td>IR1</td>\n",
       "      <td>Lvl</td>\n",
       "      <td>...</td>\n",
       "      <td>0</td>\n",
       "      <td>0</td>\n",
       "      <td>NaN</td>\n",
       "      <td>NaN</td>\n",
       "      <td>NaN</td>\n",
       "      <td>0</td>\n",
       "      <td>4</td>\n",
       "      <td>2009</td>\n",
       "      <td>WD</td>\n",
       "      <td>220000</td>\n",
       "    </tr>\n",
       "    <tr>\n",
       "      <td>2</td>\n",
       "      <td>153</td>\n",
       "      <td>535304180</td>\n",
       "      <td>20</td>\n",
       "      <td>RL</td>\n",
       "      <td>68.0</td>\n",
       "      <td>7922</td>\n",
       "      <td>Pave</td>\n",
       "      <td>NaN</td>\n",
       "      <td>Reg</td>\n",
       "      <td>Lvl</td>\n",
       "      <td>...</td>\n",
       "      <td>0</td>\n",
       "      <td>0</td>\n",
       "      <td>NaN</td>\n",
       "      <td>NaN</td>\n",
       "      <td>NaN</td>\n",
       "      <td>0</td>\n",
       "      <td>1</td>\n",
       "      <td>2010</td>\n",
       "      <td>WD</td>\n",
       "      <td>109000</td>\n",
       "    </tr>\n",
       "    <tr>\n",
       "      <td>3</td>\n",
       "      <td>318</td>\n",
       "      <td>916386060</td>\n",
       "      <td>60</td>\n",
       "      <td>RL</td>\n",
       "      <td>73.0</td>\n",
       "      <td>9802</td>\n",
       "      <td>Pave</td>\n",
       "      <td>NaN</td>\n",
       "      <td>Reg</td>\n",
       "      <td>Lvl</td>\n",
       "      <td>...</td>\n",
       "      <td>0</td>\n",
       "      <td>0</td>\n",
       "      <td>NaN</td>\n",
       "      <td>NaN</td>\n",
       "      <td>NaN</td>\n",
       "      <td>0</td>\n",
       "      <td>4</td>\n",
       "      <td>2010</td>\n",
       "      <td>WD</td>\n",
       "      <td>174000</td>\n",
       "    </tr>\n",
       "    <tr>\n",
       "      <td>4</td>\n",
       "      <td>255</td>\n",
       "      <td>906425045</td>\n",
       "      <td>50</td>\n",
       "      <td>RL</td>\n",
       "      <td>82.0</td>\n",
       "      <td>14235</td>\n",
       "      <td>Pave</td>\n",
       "      <td>NaN</td>\n",
       "      <td>IR1</td>\n",
       "      <td>Lvl</td>\n",
       "      <td>...</td>\n",
       "      <td>0</td>\n",
       "      <td>0</td>\n",
       "      <td>NaN</td>\n",
       "      <td>NaN</td>\n",
       "      <td>NaN</td>\n",
       "      <td>0</td>\n",
       "      <td>3</td>\n",
       "      <td>2010</td>\n",
       "      <td>WD</td>\n",
       "      <td>138500</td>\n",
       "    </tr>\n",
       "  </tbody>\n",
       "</table>\n",
       "<p>5 rows × 81 columns</p>\n",
       "</div>"
      ],
      "text/plain": [
       "    Id        PID  MS SubClass MS Zoning  Lot Frontage  Lot Area Street Alley  \\\n",
       "0  109  533352170           60        RL           NaN     13517   Pave   NaN   \n",
       "1  544  531379050           60        RL          43.0     11492   Pave   NaN   \n",
       "2  153  535304180           20        RL          68.0      7922   Pave   NaN   \n",
       "3  318  916386060           60        RL          73.0      9802   Pave   NaN   \n",
       "4  255  906425045           50        RL          82.0     14235   Pave   NaN   \n",
       "\n",
       "  Lot Shape Land Contour  ... Screen Porch Pool Area Pool QC Fence  \\\n",
       "0       IR1          Lvl  ...            0         0     NaN   NaN   \n",
       "1       IR1          Lvl  ...            0         0     NaN   NaN   \n",
       "2       Reg          Lvl  ...            0         0     NaN   NaN   \n",
       "3       Reg          Lvl  ...            0         0     NaN   NaN   \n",
       "4       IR1          Lvl  ...            0         0     NaN   NaN   \n",
       "\n",
       "  Misc Feature Misc Val Mo Sold Yr Sold  Sale Type  SalePrice  \n",
       "0          NaN        0       3    2010        WD      130500  \n",
       "1          NaN        0       4    2009        WD      220000  \n",
       "2          NaN        0       1    2010        WD      109000  \n",
       "3          NaN        0       4    2010        WD      174000  \n",
       "4          NaN        0       3    2010        WD      138500  \n",
       "\n",
       "[5 rows x 81 columns]"
      ]
     },
     "execution_count": 3,
     "metadata": {},
     "output_type": "execute_result"
    }
   ],
   "source": [
    "df.head()"
   ]
  },
  {
   "cell_type": "code",
   "execution_count": 4,
   "metadata": {},
   "outputs": [],
   "source": [
    "df.drop(['Id', 'PID'], axis = 1, inplace = True) # Drop ID columns"
   ]
  },
  {
   "cell_type": "markdown",
   "metadata": {},
   "source": [
    "### Data Imputation"
   ]
  },
  {
   "cell_type": "markdown",
   "metadata": {},
   "source": [
    "Find out columns with missing values and the percentage of missing data"
   ]
  },
  {
   "cell_type": "code",
   "execution_count": 5,
   "metadata": {},
   "outputs": [],
   "source": [
    "def get_missing_cols(df):\n",
    "    total = df.isnull().sum().sort_values(ascending=False)\n",
    "    percent = (df.isnull().sum()/df.isnull().count()*100).sort_values(ascending=False)\n",
    "    missing = pd.concat([total, percent], axis=1, keys=['missing_count', 'missing_percentage'])\n",
    "    missing_df = missing[missing['missing_percentage'] > 0]\n",
    "    return missing_df"
   ]
  },
  {
   "cell_type": "code",
   "execution_count": 6,
   "metadata": {},
   "outputs": [
    {
     "data": {
      "text/html": [
       "<div>\n",
       "<style scoped>\n",
       "    .dataframe tbody tr th:only-of-type {\n",
       "        vertical-align: middle;\n",
       "    }\n",
       "\n",
       "    .dataframe tbody tr th {\n",
       "        vertical-align: top;\n",
       "    }\n",
       "\n",
       "    .dataframe thead th {\n",
       "        text-align: right;\n",
       "    }\n",
       "</style>\n",
       "<table border=\"1\" class=\"dataframe\">\n",
       "  <thead>\n",
       "    <tr style=\"text-align: right;\">\n",
       "      <th></th>\n",
       "      <th>missing_count</th>\n",
       "      <th>missing_percentage</th>\n",
       "    </tr>\n",
       "  </thead>\n",
       "  <tbody>\n",
       "    <tr>\n",
       "      <td>Pool QC</td>\n",
       "      <td>2042</td>\n",
       "      <td>99.561190</td>\n",
       "    </tr>\n",
       "    <tr>\n",
       "      <td>Misc Feature</td>\n",
       "      <td>1986</td>\n",
       "      <td>96.830814</td>\n",
       "    </tr>\n",
       "    <tr>\n",
       "      <td>Alley</td>\n",
       "      <td>1911</td>\n",
       "      <td>93.174061</td>\n",
       "    </tr>\n",
       "    <tr>\n",
       "      <td>Fence</td>\n",
       "      <td>1651</td>\n",
       "      <td>80.497318</td>\n",
       "    </tr>\n",
       "    <tr>\n",
       "      <td>Fireplace Qu</td>\n",
       "      <td>1000</td>\n",
       "      <td>48.756704</td>\n",
       "    </tr>\n",
       "    <tr>\n",
       "      <td>Lot Frontage</td>\n",
       "      <td>330</td>\n",
       "      <td>16.089712</td>\n",
       "    </tr>\n",
       "    <tr>\n",
       "      <td>Garage Qual</td>\n",
       "      <td>114</td>\n",
       "      <td>5.558264</td>\n",
       "    </tr>\n",
       "    <tr>\n",
       "      <td>Garage Cond</td>\n",
       "      <td>114</td>\n",
       "      <td>5.558264</td>\n",
       "    </tr>\n",
       "    <tr>\n",
       "      <td>Garage Yr Blt</td>\n",
       "      <td>114</td>\n",
       "      <td>5.558264</td>\n",
       "    </tr>\n",
       "    <tr>\n",
       "      <td>Garage Finish</td>\n",
       "      <td>114</td>\n",
       "      <td>5.558264</td>\n",
       "    </tr>\n",
       "    <tr>\n",
       "      <td>Garage Type</td>\n",
       "      <td>113</td>\n",
       "      <td>5.509508</td>\n",
       "    </tr>\n",
       "    <tr>\n",
       "      <td>Bsmt Exposure</td>\n",
       "      <td>58</td>\n",
       "      <td>2.827889</td>\n",
       "    </tr>\n",
       "    <tr>\n",
       "      <td>BsmtFin Type 2</td>\n",
       "      <td>56</td>\n",
       "      <td>2.730375</td>\n",
       "    </tr>\n",
       "    <tr>\n",
       "      <td>Bsmt Qual</td>\n",
       "      <td>55</td>\n",
       "      <td>2.681619</td>\n",
       "    </tr>\n",
       "    <tr>\n",
       "      <td>BsmtFin Type 1</td>\n",
       "      <td>55</td>\n",
       "      <td>2.681619</td>\n",
       "    </tr>\n",
       "    <tr>\n",
       "      <td>Bsmt Cond</td>\n",
       "      <td>55</td>\n",
       "      <td>2.681619</td>\n",
       "    </tr>\n",
       "    <tr>\n",
       "      <td>Mas Vnr Type</td>\n",
       "      <td>22</td>\n",
       "      <td>1.072647</td>\n",
       "    </tr>\n",
       "    <tr>\n",
       "      <td>Mas Vnr Area</td>\n",
       "      <td>22</td>\n",
       "      <td>1.072647</td>\n",
       "    </tr>\n",
       "    <tr>\n",
       "      <td>Bsmt Half Bath</td>\n",
       "      <td>2</td>\n",
       "      <td>0.097513</td>\n",
       "    </tr>\n",
       "    <tr>\n",
       "      <td>Bsmt Full Bath</td>\n",
       "      <td>2</td>\n",
       "      <td>0.097513</td>\n",
       "    </tr>\n",
       "    <tr>\n",
       "      <td>Bsmt Unf SF</td>\n",
       "      <td>1</td>\n",
       "      <td>0.048757</td>\n",
       "    </tr>\n",
       "    <tr>\n",
       "      <td>Total Bsmt SF</td>\n",
       "      <td>1</td>\n",
       "      <td>0.048757</td>\n",
       "    </tr>\n",
       "    <tr>\n",
       "      <td>BsmtFin SF 1</td>\n",
       "      <td>1</td>\n",
       "      <td>0.048757</td>\n",
       "    </tr>\n",
       "    <tr>\n",
       "      <td>BsmtFin SF 2</td>\n",
       "      <td>1</td>\n",
       "      <td>0.048757</td>\n",
       "    </tr>\n",
       "    <tr>\n",
       "      <td>Garage Cars</td>\n",
       "      <td>1</td>\n",
       "      <td>0.048757</td>\n",
       "    </tr>\n",
       "    <tr>\n",
       "      <td>Garage Area</td>\n",
       "      <td>1</td>\n",
       "      <td>0.048757</td>\n",
       "    </tr>\n",
       "  </tbody>\n",
       "</table>\n",
       "</div>"
      ],
      "text/plain": [
       "                missing_count  missing_percentage\n",
       "Pool QC                  2042           99.561190\n",
       "Misc Feature             1986           96.830814\n",
       "Alley                    1911           93.174061\n",
       "Fence                    1651           80.497318\n",
       "Fireplace Qu             1000           48.756704\n",
       "Lot Frontage              330           16.089712\n",
       "Garage Qual               114            5.558264\n",
       "Garage Cond               114            5.558264\n",
       "Garage Yr Blt             114            5.558264\n",
       "Garage Finish             114            5.558264\n",
       "Garage Type               113            5.509508\n",
       "Bsmt Exposure              58            2.827889\n",
       "BsmtFin Type 2             56            2.730375\n",
       "Bsmt Qual                  55            2.681619\n",
       "BsmtFin Type 1             55            2.681619\n",
       "Bsmt Cond                  55            2.681619\n",
       "Mas Vnr Type               22            1.072647\n",
       "Mas Vnr Area               22            1.072647\n",
       "Bsmt Half Bath              2            0.097513\n",
       "Bsmt Full Bath              2            0.097513\n",
       "Bsmt Unf SF                 1            0.048757\n",
       "Total Bsmt SF               1            0.048757\n",
       "BsmtFin SF 1                1            0.048757\n",
       "BsmtFin SF 2                1            0.048757\n",
       "Garage Cars                 1            0.048757\n",
       "Garage Area                 1            0.048757"
      ]
     },
     "execution_count": 6,
     "metadata": {},
     "output_type": "execute_result"
    }
   ],
   "source": [
    "missing_cols = get_missing_cols(df)\n",
    "missing_cols"
   ]
  },
  {
   "cell_type": "markdown",
   "metadata": {},
   "source": [
    "Null cols with less than 0.1% of data can be filtered and dropped"
   ]
  },
  {
   "cell_type": "code",
   "execution_count": 7,
   "metadata": {},
   "outputs": [
    {
     "data": {
      "text/plain": [
       "{616, 1327, 1712}"
      ]
     },
     "execution_count": 7,
     "metadata": {},
     "output_type": "execute_result"
    }
   ],
   "source": [
    "rowid_to_remove = set(df[df[col].isnull()].index[0] \n",
    "                       for col in missing_cols[missing_cols['missing_percentage'] < 1].index)\n",
    "rowid_to_remove"
   ]
  },
  {
   "cell_type": "code",
   "execution_count": 8,
   "metadata": {},
   "outputs": [
    {
     "data": {
      "text/plain": [
       "(2051, 79)"
      ]
     },
     "execution_count": 8,
     "metadata": {},
     "output_type": "execute_result"
    }
   ],
   "source": [
    "df.shape"
   ]
  },
  {
   "cell_type": "code",
   "execution_count": 9,
   "metadata": {},
   "outputs": [
    {
     "data": {
      "text/plain": [
       "(2048, 79)"
      ]
     },
     "execution_count": 9,
     "metadata": {},
     "output_type": "execute_result"
    }
   ],
   "source": [
    "df.drop(rowid_to_remove, inplace=True) # drop null rows that are less than 1% missing percentage\n",
    "df.shape"
   ]
  },
  {
   "cell_type": "markdown",
   "metadata": {},
   "source": [
    "Filling missing data:\n",
    "- Missing values most likely means the house does not come with basement or garage hence it is safe to fill them with 0 or 'None'.\n",
    "\n",
    "- Making assumption that houses in same neighbourhood likely have similar Lot frontage"
   ]
  },
  {
   "cell_type": "code",
   "execution_count": 10,
   "metadata": {},
   "outputs": [],
   "source": [
    "def handle_missing_data(df, missing_cols):\n",
    "    \n",
    "    missing_str_cols = df[missing_cols.index].select_dtypes(include='object').columns # Missing cols with string type\n",
    "    missing_num_cols = df[missing_cols.index].select_dtypes(exclude='object').columns # Missing cols with numeric type\n",
    "    \n",
    "    # Using neighbourhood median to determine Lot frontage\n",
    "    df.groupby(\"Neighborhood\")[\"Lot Frontage\"].transform(lambda x: x.fillna(x.median()))\n",
    "    \n",
    "    # Fill rest of string missing value with None\n",
    "    for col in missing_str_cols: \n",
    "        df[col] = df[col].fillna(\"None\")\n",
    "        \n",
    "    # Fill rest of numeric missing value with 0\n",
    "    for col in missing_num_cols: \n",
    "        df[col] = df[col].fillna(0)\n",
    "    \n",
    "    return df"
   ]
  },
  {
   "cell_type": "code",
   "execution_count": 11,
   "metadata": {},
   "outputs": [],
   "source": [
    "handle_missing_data(df, missing_cols);"
   ]
  },
  {
   "cell_type": "code",
   "execution_count": 12,
   "metadata": {},
   "outputs": [
    {
     "data": {
      "text/plain": [
       "0"
      ]
     },
     "execution_count": 12,
     "metadata": {},
     "output_type": "execute_result"
    }
   ],
   "source": [
    "# Verify that there is no more missing values\n",
    "df.isnull().sum().sum()"
   ]
  },
  {
   "cell_type": "markdown",
   "metadata": {},
   "source": [
    "### Separating variable types"
   ]
  },
  {
   "cell_type": "code",
   "execution_count": 13,
   "metadata": {},
   "outputs": [],
   "source": [
    "# List of cols with nominal variables\n",
    "nominal_cols = [\n",
    "    'MS SubClass',\n",
    "    'MS Zoning',\n",
    "    'Street',\n",
    "    'Alley',\n",
    "    'Land Contour',\n",
    "    'Lot Config',\n",
    "    'Neighborhood',\n",
    "    'Condition 1',\n",
    "    'Condition 2',\n",
    "    'Bldg Type',\n",
    "    'House Style',\n",
    "    'Roof Style',\n",
    "    'Roof Matl',\n",
    "    'Exterior 1st',\n",
    "    'Exterior 2nd',\n",
    "    'Mas Vnr Type',\n",
    "    'Foundation',\n",
    "    'Heating',\n",
    "    'Central Air',\n",
    "    'Garage Type',\n",
    "    'Misc Feature',\n",
    "    'Sale Type'\n",
    "]"
   ]
  },
  {
   "cell_type": "code",
   "execution_count": 14,
   "metadata": {},
   "outputs": [],
   "source": [
    "# List of cols with ordinal variables\n",
    "ordinal_cols = [\n",
    "    'Lot Shape',\n",
    "    'Utilities',\n",
    "    'Land Slope',\n",
    "    'Overall Qual',\n",
    "    'Overall Cond',\n",
    "    'Exter Qual',\n",
    "    'Exter Cond',\n",
    "    'Bsmt Qual',\n",
    "    'Bsmt Cond',\n",
    "    'Bsmt Exposure',\n",
    "    'BsmtFin Type 1',\n",
    "    'BsmtFin Type 2',\n",
    "    'Heating QC',\n",
    "    'Electrical',\n",
    "    'Kitchen Qual',\n",
    "    'Functional',\n",
    "    'Fireplace Qu',\n",
    "    'Garage Finish',\n",
    "    'Garage Qual',\n",
    "    'Garage Cond',\n",
    "    'Paved Drive',\n",
    "    'Pool QC',\n",
    "    'Fence'\n",
    "]\n"
   ]
  },
  {
   "cell_type": "code",
   "execution_count": 15,
   "metadata": {},
   "outputs": [],
   "source": [
    "# List of cols with discrete variables\n",
    "discrete_cols = [\n",
    "    'Year Built',\n",
    "    'Year Remod/Add',\n",
    "    'Bsmt Full Bath',\n",
    "    'Bsmt Half Bath',\n",
    "    'Full Bath',\n",
    "    'Half Bath',\n",
    "    'Bedroom AbvGr',\n",
    "    'Kitchen AbvGr',\n",
    "    'TotRms AbvGrd',\n",
    "    'Fireplaces',\n",
    "    'Garage Yr Blt',\n",
    "    'Garage Cars',\n",
    "    'Mo Sold',\n",
    "    'Yr Sold'\n",
    "]"
   ]
  },
  {
   "cell_type": "code",
   "execution_count": 16,
   "metadata": {},
   "outputs": [],
   "source": [
    "# List of cols with continuous variables\n",
    "continuous_cols = [\n",
    "    'Lot Frontage',\n",
    "    'Lot Area',\n",
    "    'Mas Vnr Area',\n",
    "    'BsmtFin SF 1',\n",
    "    'BsmtFin SF 2',\n",
    "    'Bsmt Unf SF',\n",
    "    'Total Bsmt SF',\n",
    "    '1st Flr SF',\n",
    "    '2nd Flr SF',\n",
    "    'Low Qual Fin SF',\n",
    "    'Gr Liv Area',\n",
    "    'Garage Area',\n",
    "    'Wood Deck SF',\n",
    "    'Open Porch SF',\n",
    "    'Enclosed Porch',\n",
    "    '3Ssn Porch',\n",
    "    'Screen Porch',\n",
    "    'Pool Area',\n",
    "    'Misc Val',\n",
    "    'SalePrice'\n",
    "]"
   ]
  },
  {
   "cell_type": "markdown",
   "metadata": {},
   "source": [
    "### Dropping features with low variance"
   ]
  },
  {
   "cell_type": "code",
   "execution_count": 17,
   "metadata": {},
   "outputs": [],
   "source": [
    "def filter_categorical_cols(df, lower_bound = 0.1, upper_bound = 0.9):\n",
    "    \"\"\"\n",
    "    Filters out columns with low variance. \n",
    "    \"\"\"\n",
    "    filtered_cols = []\n",
    "    max_row = df.shape[0]\n",
    "    for col in df.columns:\n",
    "        max_value_count = df[col].value_counts().max()\n",
    "        if (max_value_count/max_row) > lower_bound and (max_value_count/max_row) < upper_bound:\n",
    "            filtered_cols.append(col)\n",
    "    return filtered_cols"
   ]
  },
  {
   "cell_type": "code",
   "execution_count": 18,
   "metadata": {},
   "outputs": [],
   "source": [
    "def filter_discrete_cols(df, threshold = 14, lower_bound = 0.1, upper_bound = 0.9):\n",
    "    \"\"\"\n",
    "    Filters out columns with low variance\n",
    "    \"\"\"\n",
    "    filtered_cols = []\n",
    "    max_row = df.shape[0]\n",
    "    \n",
    "    for col in df.columns:\n",
    "        if df[col].value_counts().count() > threshold:\n",
    "            filtered_cols.append(col)\n",
    "        else:\n",
    "            max_value_count = df[col].value_counts().max()\n",
    "            len_value_count = df[col].value_counts().count()\n",
    "            if (max_value_count/max_row) > lower_bound and (max_value_count/max_row) < upper_bound:\n",
    "                filtered_cols.append(col)       \n",
    "    return filtered_cols"
   ]
  },
  {
   "cell_type": "code",
   "execution_count": 19,
   "metadata": {},
   "outputs": [],
   "source": [
    "def filter_continuous_cols(df, skew_threshold = 4):\n",
    "    \"\"\"\n",
    "    Filter out continuous variable columns with low variance and high skewness with the help of scipy.stats\n",
    "    Parameters: \n",
    "        - df = the pandas DataFrame to read in for filtering\n",
    "        - skew_threshold = high skew_threshold means getting cols even with very skewed data\n",
    "    Returns:\n",
    "        Filtered continuous columns\n",
    "    \"\"\"\n",
    "    return [col for col in df.columns if -skew_threshold <= skew(df[col]) <= skew_threshold]\n"
   ]
  },
  {
   "cell_type": "code",
   "execution_count": 20,
   "metadata": {},
   "outputs": [],
   "source": [
    "def subplot_histograms(df):\n",
    "    list_of_columns = df.columns\n",
    "    nrows = int(np.ceil(len(list_of_columns)/4))\n",
    "    fig, ax = plt.subplots(nrows=nrows, ncols=4, figsize=(20,20))\n",
    "    ax = ax.ravel()\n",
    "    for i, column in enumerate(list_of_columns):\n",
    "        ax[i].hist(df[column], bins=15)\n",
    "        ax[i].set_title(list_of_columns[i])\n",
    "        ax[i].axvline(np.mean(df[column]), color='black', linestyle='--', lw=3);"
   ]
  },
  {
   "cell_type": "markdown",
   "metadata": {},
   "source": [
    "Dropping categorical cols where 90% or more of the values are the same (low variance)"
   ]
  },
  {
   "cell_type": "code",
   "execution_count": 21,
   "metadata": {},
   "outputs": [],
   "source": [
    "# Filter Categorical variable columns \n",
    "filtered_ordinal_cols = filter_categorical_cols(df[ordinal_cols])\n",
    "filtered_nominal_cols = filter_categorical_cols(df[nominal_cols])"
   ]
  },
  {
   "cell_type": "markdown",
   "metadata": {},
   "source": [
    "Quick view of how the continuous variable columns are skewed"
   ]
  },
  {
   "cell_type": "code",
   "execution_count": 22,
   "metadata": {},
   "outputs": [
    {
     "data": {
      "image/png": "[encoded data removed]",
      "text/plain": [
       "<Figure size 1440x1440 with 20 Axes>"
      ]
     },
     "metadata": {
      "needs_background": "light"
     },
     "output_type": "display_data"
    }
   ],
   "source": [
    "subplot_histograms(df[continuous_cols])"
   ]
  },
  {
   "cell_type": "code",
   "execution_count": 23,
   "metadata": {},
   "outputs": [
    {
     "data": {
      "text/plain": [
       "['Lot Frontage',\n",
       " 'Mas Vnr Area',\n",
       " 'BsmtFin SF 1',\n",
       " 'Bsmt Unf SF',\n",
       " 'Total Bsmt SF',\n",
       " '1st Flr SF',\n",
       " '2nd Flr SF',\n",
       " 'Gr Liv Area',\n",
       " 'Garage Area',\n",
       " 'Wood Deck SF',\n",
       " 'Open Porch SF',\n",
       " 'Enclosed Porch',\n",
       " 'Screen Porch',\n",
       " 'SalePrice']"
      ]
     },
     "execution_count": 23,
     "metadata": {},
     "output_type": "execute_result"
    }
   ],
   "source": [
    "# Filter Continuous variable columns\n",
    "filtered_continuous_cols = filter_continuous_cols(df[continuous_cols])\n",
    "filtered_continuous_cols # Compare output with subplot above"
   ]
  },
  {
   "cell_type": "markdown",
   "metadata": {},
   "source": [
    "Quick view of how discrete variable columns are skewed"
   ]
  },
  {
   "cell_type": "code",
   "execution_count": 24,
   "metadata": {},
   "outputs": [
    {
     "data": {
      "text/html": [
       "<div>\n",
       "<style scoped>\n",
       "    .dataframe tbody tr th:only-of-type {\n",
       "        vertical-align: middle;\n",
       "    }\n",
       "\n",
       "    .dataframe tbody tr th {\n",
       "        vertical-align: top;\n",
       "    }\n",
       "\n",
       "    .dataframe thead th {\n",
       "        text-align: right;\n",
       "    }\n",
       "</style>\n",
       "<table border=\"1\" class=\"dataframe\">\n",
       "  <thead>\n",
       "    <tr style=\"text-align: right;\">\n",
       "      <th></th>\n",
       "      <th>Year Built</th>\n",
       "      <th>Year Remod/Add</th>\n",
       "      <th>Bsmt Full Bath</th>\n",
       "      <th>Bsmt Half Bath</th>\n",
       "      <th>Full Bath</th>\n",
       "      <th>Half Bath</th>\n",
       "      <th>Bedroom AbvGr</th>\n",
       "      <th>Kitchen AbvGr</th>\n",
       "      <th>TotRms AbvGrd</th>\n",
       "      <th>Fireplaces</th>\n",
       "      <th>Garage Yr Blt</th>\n",
       "      <th>Garage Cars</th>\n",
       "      <th>Mo Sold</th>\n",
       "      <th>Yr Sold</th>\n",
       "    </tr>\n",
       "  </thead>\n",
       "  <tbody>\n",
       "    <tr>\n",
       "      <td>0</td>\n",
       "      <td>1976</td>\n",
       "      <td>2005</td>\n",
       "      <td>0.0</td>\n",
       "      <td>0.0</td>\n",
       "      <td>2</td>\n",
       "      <td>1</td>\n",
       "      <td>3</td>\n",
       "      <td>1</td>\n",
       "      <td>6</td>\n",
       "      <td>0</td>\n",
       "      <td>1976.0</td>\n",
       "      <td>2.0</td>\n",
       "      <td>3</td>\n",
       "      <td>2010</td>\n",
       "    </tr>\n",
       "    <tr>\n",
       "      <td>1</td>\n",
       "      <td>1996</td>\n",
       "      <td>1997</td>\n",
       "      <td>1.0</td>\n",
       "      <td>0.0</td>\n",
       "      <td>2</td>\n",
       "      <td>1</td>\n",
       "      <td>4</td>\n",
       "      <td>1</td>\n",
       "      <td>8</td>\n",
       "      <td>1</td>\n",
       "      <td>1997.0</td>\n",
       "      <td>2.0</td>\n",
       "      <td>4</td>\n",
       "      <td>2009</td>\n",
       "    </tr>\n",
       "    <tr>\n",
       "      <td>2</td>\n",
       "      <td>1953</td>\n",
       "      <td>2007</td>\n",
       "      <td>1.0</td>\n",
       "      <td>0.0</td>\n",
       "      <td>1</td>\n",
       "      <td>0</td>\n",
       "      <td>3</td>\n",
       "      <td>1</td>\n",
       "      <td>5</td>\n",
       "      <td>0</td>\n",
       "      <td>1953.0</td>\n",
       "      <td>1.0</td>\n",
       "      <td>1</td>\n",
       "      <td>2010</td>\n",
       "    </tr>\n",
       "    <tr>\n",
       "      <td>3</td>\n",
       "      <td>2006</td>\n",
       "      <td>2007</td>\n",
       "      <td>0.0</td>\n",
       "      <td>0.0</td>\n",
       "      <td>2</td>\n",
       "      <td>1</td>\n",
       "      <td>3</td>\n",
       "      <td>1</td>\n",
       "      <td>7</td>\n",
       "      <td>0</td>\n",
       "      <td>2007.0</td>\n",
       "      <td>2.0</td>\n",
       "      <td>4</td>\n",
       "      <td>2010</td>\n",
       "    </tr>\n",
       "    <tr>\n",
       "      <td>4</td>\n",
       "      <td>1900</td>\n",
       "      <td>1993</td>\n",
       "      <td>0.0</td>\n",
       "      <td>0.0</td>\n",
       "      <td>2</td>\n",
       "      <td>0</td>\n",
       "      <td>3</td>\n",
       "      <td>1</td>\n",
       "      <td>6</td>\n",
       "      <td>0</td>\n",
       "      <td>1957.0</td>\n",
       "      <td>2.0</td>\n",
       "      <td>3</td>\n",
       "      <td>2010</td>\n",
       "    </tr>\n",
       "  </tbody>\n",
       "</table>\n",
       "</div>"
      ],
      "text/plain": [
       "   Year Built  Year Remod/Add  Bsmt Full Bath  Bsmt Half Bath  Full Bath  \\\n",
       "0        1976            2005             0.0             0.0          2   \n",
       "1        1996            1997             1.0             0.0          2   \n",
       "2        1953            2007             1.0             0.0          1   \n",
       "3        2006            2007             0.0             0.0          2   \n",
       "4        1900            1993             0.0             0.0          2   \n",
       "\n",
       "   Half Bath  Bedroom AbvGr  Kitchen AbvGr  TotRms AbvGrd  Fireplaces  \\\n",
       "0          1              3              1              6           0   \n",
       "1          1              4              1              8           1   \n",
       "2          0              3              1              5           0   \n",
       "3          1              3              1              7           0   \n",
       "4          0              3              1              6           0   \n",
       "\n",
       "   Garage Yr Blt  Garage Cars  Mo Sold  Yr Sold  \n",
       "0         1976.0          2.0        3     2010  \n",
       "1         1997.0          2.0        4     2009  \n",
       "2         1953.0          1.0        1     2010  \n",
       "3         2007.0          2.0        4     2010  \n",
       "4         1957.0          2.0        3     2010  "
      ]
     },
     "execution_count": 24,
     "metadata": {},
     "output_type": "execute_result"
    }
   ],
   "source": [
    "df[discrete_cols].head()"
   ]
  },
  {
   "cell_type": "code",
   "execution_count": 25,
   "metadata": {},
   "outputs": [
    {
     "data": {
      "image/png": "[encoded data removed]",
      "text/plain": [
       "<Figure size 1440x1440 with 16 Axes>"
      ]
     },
     "metadata": {
      "needs_background": "light"
     },
     "output_type": "display_data"
    }
   ],
   "source": [
    "subplot_histograms(df[discrete_cols])"
   ]
  },
  {
   "cell_type": "code",
   "execution_count": 26,
   "metadata": {},
   "outputs": [
    {
     "data": {
      "text/plain": [
       "['Year Built',\n",
       " 'Year Remod/Add',\n",
       " 'Bsmt Full Bath',\n",
       " 'Full Bath',\n",
       " 'Half Bath',\n",
       " 'Bedroom AbvGr',\n",
       " 'TotRms AbvGrd',\n",
       " 'Fireplaces',\n",
       " 'Garage Yr Blt',\n",
       " 'Garage Cars',\n",
       " 'Mo Sold',\n",
       " 'Yr Sold']"
      ]
     },
     "execution_count": 26,
     "metadata": {},
     "output_type": "execute_result"
    }
   ],
   "source": [
    "# Filter discrete variable columns\n",
    "filtered_discrete_cols = filter_discrete_cols(df[discrete_cols])\n",
    "filtered_discrete_cols # Compare output with subplot above"
   ]
  },
  {
   "cell_type": "code",
   "execution_count": 27,
   "metadata": {},
   "outputs": [],
   "source": [
    "filtered_discrete_cols.remove('Garage Yr Blt') # Low variance data"
   ]
  },
  {
   "cell_type": "markdown",
   "metadata": {},
   "source": [
    "First Cut Remaining Features"
   ]
  },
  {
   "cell_type": "code",
   "execution_count": 28,
   "metadata": {},
   "outputs": [],
   "source": [
    "features = filtered_discrete_cols + filtered_continuous_cols + filtered_nominal_cols + filtered_ordinal_cols"
   ]
  },
  {
   "cell_type": "code",
   "execution_count": 29,
   "metadata": {},
   "outputs": [
    {
     "data": {
      "text/plain": [
       "56"
      ]
     },
     "execution_count": 29,
     "metadata": {},
     "output_type": "execute_result"
    }
   ],
   "source": [
    "len(features)"
   ]
  },
  {
   "cell_type": "markdown",
   "metadata": {},
   "source": [
    "### Feature engineering"
   ]
  },
  {
   "cell_type": "code",
   "execution_count": 30,
   "metadata": {},
   "outputs": [],
   "source": [
    "def subplot_scatters(df):\n",
    "    list_of_columns = df.columns\n",
    "    nrows = int(np.ceil(len(list_of_columns)/3))\n",
    "    fig, ax = plt.subplots(nrows=nrows, ncols=3, figsize=(20,20))\n",
    "    ax = ax.ravel()\n",
    "    for i, column in enumerate(list_of_columns):\n",
    "        ax[i].scatter(df[column], df['SalePrice'])\n",
    "        ax[i].set_title(list_of_columns[i]);"
   ]
  },
  {
   "cell_type": "markdown",
   "metadata": {},
   "source": [
    "Scatter Plot of different continuous variable and Sale Price to find outliers"
   ]
  },
  {
   "cell_type": "code",
   "execution_count": 31,
   "metadata": {},
   "outputs": [
    {
     "data": {
      "image/png": "[encoded data removed]",
      "text/plain": [
       "<Figure size 1440x1440 with 15 Axes>"
      ]
     },
     "metadata": {
      "needs_background": "light"
     },
     "output_type": "display_data"
    }
   ],
   "source": [
    "subplot_scatters(df[filtered_continuous_cols])"
   ]
  },
  {
   "cell_type": "markdown",
   "metadata": {},
   "source": [
    "### Dropping outliers"
   ]
  },
  {
   "cell_type": "code",
   "execution_count": 32,
   "metadata": {},
   "outputs": [],
   "source": [
    "outlier_rows_index = set(list(df[df['Gr Liv Area'] > 4000].index) +\n",
    "                         list(df[df['BsmtFin SF 1'] > 3000].index) +\n",
    "                         list(df[df['Total Bsmt SF'] > 4000].index) +\n",
    "                         list(df[df['Lot Frontage'] > 175].index) +\n",
    "                         list(df[df['1st Flr SF'] > 3500].index))"
   ]
  },
  {
   "cell_type": "code",
   "execution_count": 33,
   "metadata": {},
   "outputs": [
    {
     "data": {
      "text/plain": [
       "{441, 960, 1335, 1875, 1885}"
      ]
     },
     "execution_count": 33,
     "metadata": {},
     "output_type": "execute_result"
    }
   ],
   "source": [
    "outlier_rows_index"
   ]
  },
  {
   "cell_type": "code",
   "execution_count": 34,
   "metadata": {},
   "outputs": [],
   "source": [
    "df.drop(outlier_rows_index, inplace=True) # drop outlier rows"
   ]
  },
  {
   "cell_type": "code",
   "execution_count": 35,
   "metadata": {},
   "outputs": [
    {
     "data": {
      "text/plain": [
       "(2043, 79)"
      ]
     },
     "execution_count": 35,
     "metadata": {},
     "output_type": "execute_result"
    }
   ],
   "source": [
    "df.shape"
   ]
  },
  {
   "cell_type": "code",
   "execution_count": 36,
   "metadata": {},
   "outputs": [
    {
     "data": {
      "image/png": "[encoded data removed]",
      "text/plain": [
       "<Figure size 1440x1440 with 15 Axes>"
      ]
     },
     "metadata": {
      "needs_background": "light"
     },
     "output_type": "display_data"
    }
   ],
   "source": [
    "subplot_scatters(df[filtered_continuous_cols])"
   ]
  },
  {
   "cell_type": "markdown",
   "metadata": {},
   "source": [
    "Dropping more outliers"
   ]
  },
  {
   "cell_type": "code",
   "execution_count": 37,
   "metadata": {},
   "outputs": [],
   "source": [
    "outlier_rows_index = set(list(df[df['Wood Deck SF'] > 1200].index) +\n",
    "                         list(df[df['Mas Vnr Area'] > 1400].index))"
   ]
  },
  {
   "cell_type": "code",
   "execution_count": 38,
   "metadata": {},
   "outputs": [
    {
     "data": {
      "text/plain": [
       "{966, 1409}"
      ]
     },
     "execution_count": 38,
     "metadata": {},
     "output_type": "execute_result"
    }
   ],
   "source": [
    "outlier_rows_index"
   ]
  },
  {
   "cell_type": "code",
   "execution_count": 39,
   "metadata": {},
   "outputs": [],
   "source": [
    "df.drop(outlier_rows_index, inplace=True) # drop outlier rows"
   ]
  },
  {
   "cell_type": "code",
   "execution_count": 40,
   "metadata": {},
   "outputs": [
    {
     "data": {
      "text/plain": [
       "(2041, 79)"
      ]
     },
     "execution_count": 40,
     "metadata": {},
     "output_type": "execute_result"
    }
   ],
   "source": [
    "df.shape"
   ]
  },
  {
   "cell_type": "markdown",
   "metadata": {},
   "source": [
    "### EDA on year built"
   ]
  },
  {
   "cell_type": "code",
   "execution_count": 41,
   "metadata": {},
   "outputs": [],
   "source": [
    "year_step_size = 5 \n",
    "labels = [\"{0} - {1}\".format(i, i + year_step_size - 1) for i in range(1870, 2015, year_step_size)]\n",
    "df['year_built_bin'] = pd.cut(df['Year Built'], bins=range(1870, 2020, year_step_size), labels= labels)\n",
    "\n",
    "labels = [\"{0} - {1}\".format(i, i + year_step_size - 1) for i in range(1945, 2010, year_step_size)]\n",
    "df['year_remod_add_bin'] = pd.cut(df['Year Remod/Add'], bins=range(1945, 2015, year_step_size), labels= labels)"
   ]
  },
  {
   "cell_type": "code",
   "execution_count": 42,
   "metadata": {},
   "outputs": [
    {
     "data": {
      "image/png": "[encoded data removed]",
      "text/plain": [
       "<Figure size 1440x720 with 1 Axes>"
      ]
     },
     "metadata": {
      "needs_background": "light"
     },
     "output_type": "display_data"
    }
   ],
   "source": [
    "plt.figure(figsize=(20,10))\n",
    "plt.bar(np.array(df.groupby('year_built_bin', as_index=False)['SalePrice'].mean()['year_built_bin'])\n",
    "        ,df.groupby('year_built_bin', as_index=False)['SalePrice'].mean()['SalePrice'])\n",
    "plt.ylabel('Sales Price', fontsize=18)\n",
    "plt.xlabel('Years', fontsize=18);"
   ]
  },
  {
   "cell_type": "code",
   "execution_count": 43,
   "metadata": {},
   "outputs": [
    {
     "data": {
      "image/png": "[encoded data removed]",
      "text/plain": [
       "<Figure size 1440x720 with 1 Axes>"
      ]
     },
     "metadata": {
      "needs_background": "light"
     },
     "output_type": "display_data"
    }
   ],
   "source": [
    "plt.figure(figsize=(20,10))\n",
    "plt.bar(np.array(df.groupby('year_remod_add_bin', as_index=False)['SalePrice'].mean()['year_remod_add_bin'])\n",
    "        ,df.groupby('year_remod_add_bin', as_index=False)['SalePrice'].mean()['SalePrice'])\n",
    "plt.ylabel('Sales Price', fontsize=18)\n",
    "plt.xlabel('Years', fontsize=18);"
   ]
  },
  {
   "cell_type": "markdown",
   "metadata": {},
   "source": [
    "Tried binning years and fit in model but results does not show any improvement hence not included"
   ]
  },
  {
   "cell_type": "code",
   "execution_count": 44,
   "metadata": {},
   "outputs": [],
   "source": [
    "# df['year_built_bin'] = df['year_built_bin'].map(lambda x: list(range(1870, 2015, 5)).index(int(str(x).split('-')[0])) + 1)"
   ]
  },
  {
   "cell_type": "code",
   "execution_count": 45,
   "metadata": {},
   "outputs": [],
   "source": [
    "# df['year_remod_add_bin'] = df['year_remod_add_bin'].map(lambda x: list(range(1945, 2010, 5)).index(int(str(x).split('-')[0])) + 1)"
   ]
  },
  {
   "cell_type": "code",
   "execution_count": 46,
   "metadata": {},
   "outputs": [],
   "source": [
    "# filtered_discrete_cols.remove('Year Built')\n",
    "# filtered_discrete_cols.remove('Year Remod/Add')\n",
    "# filtered_ordinal_cols.extend(['year_built_bin', 'year_remod_add_bin']) # Convert discrete data to ordinal categorical"
   ]
  },
  {
   "cell_type": "markdown",
   "metadata": {},
   "source": [
    "### Adding new features by combining certain cols"
   ]
  },
  {
   "cell_type": "markdown",
   "metadata": {},
   "source": [
    "Model not showing any improvements hence not included"
   ]
  },
  {
   "cell_type": "code",
   "execution_count": 47,
   "metadata": {},
   "outputs": [],
   "source": [
    "# total_sq_ft = df['1st Flr SF'] + df['2nd Flr SF'] + df['Total Bsmt SF']\n",
    "# df['total_sf'] = total_sq_ft\n",
    "# filtered_continuous_cols.append('total_sf')\n",
    "# filtered_continuous_cols.remove('1st Flr SF')\n",
    "# filtered_continuous_cols.remove('2nd Flr SF')\n",
    "# filtered_continuous_cols.remove('Total Bsmt SF')"
   ]
  },
  {
   "cell_type": "markdown",
   "metadata": {},
   "source": [
    "### Label Encoding for Ordinal Categories"
   ]
  },
  {
   "cell_type": "code",
   "execution_count": 48,
   "metadata": {},
   "outputs": [
    {
     "data": {
      "text/html": [
       "<div>\n",
       "<style scoped>\n",
       "    .dataframe tbody tr th:only-of-type {\n",
       "        vertical-align: middle;\n",
       "    }\n",
       "\n",
       "    .dataframe tbody tr th {\n",
       "        vertical-align: top;\n",
       "    }\n",
       "\n",
       "    .dataframe thead th {\n",
       "        text-align: right;\n",
       "    }\n",
       "</style>\n",
       "<table border=\"1\" class=\"dataframe\">\n",
       "  <thead>\n",
       "    <tr style=\"text-align: right;\">\n",
       "      <th></th>\n",
       "      <th>Lot Shape</th>\n",
       "      <th>Overall Qual</th>\n",
       "      <th>Overall Cond</th>\n",
       "      <th>Exter Qual</th>\n",
       "      <th>Exter Cond</th>\n",
       "      <th>Bsmt Qual</th>\n",
       "      <th>Bsmt Cond</th>\n",
       "      <th>Bsmt Exposure</th>\n",
       "      <th>BsmtFin Type 1</th>\n",
       "      <th>BsmtFin Type 2</th>\n",
       "      <th>Heating QC</th>\n",
       "      <th>Kitchen Qual</th>\n",
       "      <th>Fireplace Qu</th>\n",
       "      <th>Garage Finish</th>\n",
       "      <th>Garage Qual</th>\n",
       "      <th>Fence</th>\n",
       "    </tr>\n",
       "  </thead>\n",
       "  <tbody>\n",
       "    <tr>\n",
       "      <td>0</td>\n",
       "      <td>IR1</td>\n",
       "      <td>6</td>\n",
       "      <td>8</td>\n",
       "      <td>Gd</td>\n",
       "      <td>TA</td>\n",
       "      <td>TA</td>\n",
       "      <td>TA</td>\n",
       "      <td>No</td>\n",
       "      <td>GLQ</td>\n",
       "      <td>Unf</td>\n",
       "      <td>Ex</td>\n",
       "      <td>Gd</td>\n",
       "      <td>None</td>\n",
       "      <td>RFn</td>\n",
       "      <td>TA</td>\n",
       "      <td>None</td>\n",
       "    </tr>\n",
       "    <tr>\n",
       "      <td>1</td>\n",
       "      <td>IR1</td>\n",
       "      <td>7</td>\n",
       "      <td>5</td>\n",
       "      <td>Gd</td>\n",
       "      <td>TA</td>\n",
       "      <td>Gd</td>\n",
       "      <td>TA</td>\n",
       "      <td>No</td>\n",
       "      <td>GLQ</td>\n",
       "      <td>Unf</td>\n",
       "      <td>Ex</td>\n",
       "      <td>Gd</td>\n",
       "      <td>TA</td>\n",
       "      <td>RFn</td>\n",
       "      <td>TA</td>\n",
       "      <td>None</td>\n",
       "    </tr>\n",
       "    <tr>\n",
       "      <td>2</td>\n",
       "      <td>Reg</td>\n",
       "      <td>5</td>\n",
       "      <td>7</td>\n",
       "      <td>TA</td>\n",
       "      <td>Gd</td>\n",
       "      <td>TA</td>\n",
       "      <td>TA</td>\n",
       "      <td>No</td>\n",
       "      <td>GLQ</td>\n",
       "      <td>Unf</td>\n",
       "      <td>TA</td>\n",
       "      <td>Gd</td>\n",
       "      <td>None</td>\n",
       "      <td>Unf</td>\n",
       "      <td>TA</td>\n",
       "      <td>None</td>\n",
       "    </tr>\n",
       "    <tr>\n",
       "      <td>3</td>\n",
       "      <td>Reg</td>\n",
       "      <td>5</td>\n",
       "      <td>5</td>\n",
       "      <td>TA</td>\n",
       "      <td>TA</td>\n",
       "      <td>Gd</td>\n",
       "      <td>TA</td>\n",
       "      <td>No</td>\n",
       "      <td>Unf</td>\n",
       "      <td>Unf</td>\n",
       "      <td>Gd</td>\n",
       "      <td>TA</td>\n",
       "      <td>None</td>\n",
       "      <td>Fin</td>\n",
       "      <td>TA</td>\n",
       "      <td>None</td>\n",
       "    </tr>\n",
       "    <tr>\n",
       "      <td>4</td>\n",
       "      <td>IR1</td>\n",
       "      <td>6</td>\n",
       "      <td>8</td>\n",
       "      <td>TA</td>\n",
       "      <td>TA</td>\n",
       "      <td>Fa</td>\n",
       "      <td>Gd</td>\n",
       "      <td>No</td>\n",
       "      <td>Unf</td>\n",
       "      <td>Unf</td>\n",
       "      <td>TA</td>\n",
       "      <td>TA</td>\n",
       "      <td>None</td>\n",
       "      <td>Unf</td>\n",
       "      <td>TA</td>\n",
       "      <td>None</td>\n",
       "    </tr>\n",
       "  </tbody>\n",
       "</table>\n",
       "</div>"
      ],
      "text/plain": [
       "  Lot Shape  Overall Qual  Overall Cond Exter Qual Exter Cond Bsmt Qual  \\\n",
       "0       IR1             6             8         Gd         TA        TA   \n",
       "1       IR1             7             5         Gd         TA        Gd   \n",
       "2       Reg             5             7         TA         Gd        TA   \n",
       "3       Reg             5             5         TA         TA        Gd   \n",
       "4       IR1             6             8         TA         TA        Fa   \n",
       "\n",
       "  Bsmt Cond Bsmt Exposure BsmtFin Type 1 BsmtFin Type 2 Heating QC  \\\n",
       "0        TA            No            GLQ            Unf         Ex   \n",
       "1        TA            No            GLQ            Unf         Ex   \n",
       "2        TA            No            GLQ            Unf         TA   \n",
       "3        TA            No            Unf            Unf         Gd   \n",
       "4        Gd            No            Unf            Unf         TA   \n",
       "\n",
       "  Kitchen Qual Fireplace Qu Garage Finish Garage Qual Fence  \n",
       "0           Gd         None           RFn          TA  None  \n",
       "1           Gd           TA           RFn          TA  None  \n",
       "2           Gd         None           Unf          TA  None  \n",
       "3           TA         None           Fin          TA  None  \n",
       "4           TA         None           Unf          TA  None  "
      ]
     },
     "execution_count": 48,
     "metadata": {},
     "output_type": "execute_result"
    }
   ],
   "source": [
    "df[filtered_ordinal_cols].head()"
   ]
  },
  {
   "cell_type": "code",
   "execution_count": 49,
   "metadata": {},
   "outputs": [
    {
     "data": {
      "text/plain": [
       "Index(['Lot Shape', 'Overall Qual', 'Overall Cond', 'Exter Qual', 'Exter Cond',\n",
       "       'Bsmt Qual', 'Bsmt Cond', 'Bsmt Exposure', 'BsmtFin Type 1',\n",
       "       'BsmtFin Type 2', 'Heating QC', 'Kitchen Qual', 'Fireplace Qu',\n",
       "       'Garage Finish', 'Garage Qual', 'Fence'],\n",
       "      dtype='object')"
      ]
     },
     "execution_count": 49,
     "metadata": {},
     "output_type": "execute_result"
    }
   ],
   "source": [
    "df[filtered_ordinal_cols].columns"
   ]
  },
  {
   "cell_type": "code",
   "execution_count": 50,
   "metadata": {},
   "outputs": [],
   "source": [
    "ordinal_cat_ranking = {\n",
    "    'Lot Shape': ['IR3', 'IR2','IR1','Reg'],\n",
    "    'Exter Qual': ['Po','Fa','TA','Gd','Ex'], \n",
    "    'Exter Cond': ['Po','Fa','TA','Gd','Ex'], \n",
    "    'Bsmt Qual': ['None','Po','Fa','TA','Gd','Ex'], \n",
    "    'Bsmt Cond': ['None','Po','Fa','TA','Gd','Ex'], \n",
    "    'Bsmt Exposure': ['None','No','Mn','Av','Gd'], \n",
    "    'BsmtFin Type 1': ['None','Unf','LwQ','Rec','BLQ','ALQ','GLQ'], \n",
    "    'BsmtFin Type 2': ['None','Unf','LwQ','Rec','BLQ','ALQ','GLQ'],\n",
    "    'Heating QC': ['Po','Fa','TA','Gd','Ex'],\n",
    "    'Kitchen Qual': ['Po','Fa','TA','Gd','Ex'],\n",
    "    'Fireplace Qu': ['None','Po','Fa','TA','Gd','Ex'],\n",
    "    'Garage Finish': ['None','Unf','RFn','Fin'],\n",
    "    'Garage Qual': ['None','Po','Fa','TA','Gd','Ex'],\n",
    "    'Fence': ['None','MnWw','GdWo','MnPrv','GdPrv']             \n",
    "}"
   ]
  },
  {
   "cell_type": "code",
   "execution_count": 51,
   "metadata": {},
   "outputs": [],
   "source": [
    "# Label Encode\n",
    "for col in ordinal_cat_ranking:\n",
    "    df[col] = df[col].map(lambda x: ordinal_cat_ranking[col].index(x) + 1)"
   ]
  },
  {
   "cell_type": "code",
   "execution_count": 52,
   "metadata": {},
   "outputs": [
    {
     "data": {
      "text/html": [
       "<div>\n",
       "<style scoped>\n",
       "    .dataframe tbody tr th:only-of-type {\n",
       "        vertical-align: middle;\n",
       "    }\n",
       "\n",
       "    .dataframe tbody tr th {\n",
       "        vertical-align: top;\n",
       "    }\n",
       "\n",
       "    .dataframe thead th {\n",
       "        text-align: right;\n",
       "    }\n",
       "</style>\n",
       "<table border=\"1\" class=\"dataframe\">\n",
       "  <thead>\n",
       "    <tr style=\"text-align: right;\">\n",
       "      <th></th>\n",
       "      <th>Lot Shape</th>\n",
       "      <th>Overall Qual</th>\n",
       "      <th>Overall Cond</th>\n",
       "      <th>Exter Qual</th>\n",
       "      <th>Exter Cond</th>\n",
       "      <th>Bsmt Qual</th>\n",
       "      <th>Bsmt Cond</th>\n",
       "      <th>Bsmt Exposure</th>\n",
       "      <th>BsmtFin Type 1</th>\n",
       "      <th>BsmtFin Type 2</th>\n",
       "      <th>Heating QC</th>\n",
       "      <th>Kitchen Qual</th>\n",
       "      <th>Fireplace Qu</th>\n",
       "      <th>Garage Finish</th>\n",
       "      <th>Garage Qual</th>\n",
       "      <th>Fence</th>\n",
       "    </tr>\n",
       "  </thead>\n",
       "  <tbody>\n",
       "    <tr>\n",
       "      <td>0</td>\n",
       "      <td>3</td>\n",
       "      <td>6</td>\n",
       "      <td>8</td>\n",
       "      <td>4</td>\n",
       "      <td>3</td>\n",
       "      <td>4</td>\n",
       "      <td>4</td>\n",
       "      <td>2</td>\n",
       "      <td>7</td>\n",
       "      <td>2</td>\n",
       "      <td>5</td>\n",
       "      <td>4</td>\n",
       "      <td>1</td>\n",
       "      <td>3</td>\n",
       "      <td>4</td>\n",
       "      <td>1</td>\n",
       "    </tr>\n",
       "    <tr>\n",
       "      <td>1</td>\n",
       "      <td>3</td>\n",
       "      <td>7</td>\n",
       "      <td>5</td>\n",
       "      <td>4</td>\n",
       "      <td>3</td>\n",
       "      <td>5</td>\n",
       "      <td>4</td>\n",
       "      <td>2</td>\n",
       "      <td>7</td>\n",
       "      <td>2</td>\n",
       "      <td>5</td>\n",
       "      <td>4</td>\n",
       "      <td>4</td>\n",
       "      <td>3</td>\n",
       "      <td>4</td>\n",
       "      <td>1</td>\n",
       "    </tr>\n",
       "    <tr>\n",
       "      <td>2</td>\n",
       "      <td>4</td>\n",
       "      <td>5</td>\n",
       "      <td>7</td>\n",
       "      <td>3</td>\n",
       "      <td>4</td>\n",
       "      <td>4</td>\n",
       "      <td>4</td>\n",
       "      <td>2</td>\n",
       "      <td>7</td>\n",
       "      <td>2</td>\n",
       "      <td>3</td>\n",
       "      <td>4</td>\n",
       "      <td>1</td>\n",
       "      <td>2</td>\n",
       "      <td>4</td>\n",
       "      <td>1</td>\n",
       "    </tr>\n",
       "    <tr>\n",
       "      <td>3</td>\n",
       "      <td>4</td>\n",
       "      <td>5</td>\n",
       "      <td>5</td>\n",
       "      <td>3</td>\n",
       "      <td>3</td>\n",
       "      <td>5</td>\n",
       "      <td>4</td>\n",
       "      <td>2</td>\n",
       "      <td>2</td>\n",
       "      <td>2</td>\n",
       "      <td>4</td>\n",
       "      <td>3</td>\n",
       "      <td>1</td>\n",
       "      <td>4</td>\n",
       "      <td>4</td>\n",
       "      <td>1</td>\n",
       "    </tr>\n",
       "    <tr>\n",
       "      <td>4</td>\n",
       "      <td>3</td>\n",
       "      <td>6</td>\n",
       "      <td>8</td>\n",
       "      <td>3</td>\n",
       "      <td>3</td>\n",
       "      <td>3</td>\n",
       "      <td>5</td>\n",
       "      <td>2</td>\n",
       "      <td>2</td>\n",
       "      <td>2</td>\n",
       "      <td>3</td>\n",
       "      <td>3</td>\n",
       "      <td>1</td>\n",
       "      <td>2</td>\n",
       "      <td>4</td>\n",
       "      <td>1</td>\n",
       "    </tr>\n",
       "  </tbody>\n",
       "</table>\n",
       "</div>"
      ],
      "text/plain": [
       "   Lot Shape  Overall Qual  Overall Cond  Exter Qual  Exter Cond  Bsmt Qual  \\\n",
       "0          3             6             8           4           3          4   \n",
       "1          3             7             5           4           3          5   \n",
       "2          4             5             7           3           4          4   \n",
       "3          4             5             5           3           3          5   \n",
       "4          3             6             8           3           3          3   \n",
       "\n",
       "   Bsmt Cond  Bsmt Exposure  BsmtFin Type 1  BsmtFin Type 2  Heating QC  \\\n",
       "0          4              2               7               2           5   \n",
       "1          4              2               7               2           5   \n",
       "2          4              2               7               2           3   \n",
       "3          4              2               2               2           4   \n",
       "4          5              2               2               2           3   \n",
       "\n",
       "   Kitchen Qual  Fireplace Qu  Garage Finish  Garage Qual  Fence  \n",
       "0             4             1              3            4      1  \n",
       "1             4             4              3            4      1  \n",
       "2             4             1              2            4      1  \n",
       "3             3             1              4            4      1  \n",
       "4             3             1              2            4      1  "
      ]
     },
     "execution_count": 52,
     "metadata": {},
     "output_type": "execute_result"
    }
   ],
   "source": [
    "df[filtered_ordinal_cols].head()"
   ]
  },
  {
   "cell_type": "markdown",
   "metadata": {},
   "source": [
    "### Convert discrete cols to integers"
   ]
  },
  {
   "cell_type": "code",
   "execution_count": 53,
   "metadata": {},
   "outputs": [],
   "source": [
    "df[filtered_discrete_cols] = df[filtered_discrete_cols].astype(int) # Convert all discrete values to integer"
   ]
  },
  {
   "cell_type": "markdown",
   "metadata": {},
   "source": [
    "### One hot encoding on nominal category"
   ]
  },
  {
   "cell_type": "markdown",
   "metadata": {},
   "source": [
    "1. Filter out nominal category that have low variance of mean price per category"
   ]
  },
  {
   "cell_type": "code",
   "execution_count": 54,
   "metadata": {},
   "outputs": [
    {
     "data": {
      "text/html": [
       "<div>\n",
       "<style scoped>\n",
       "    .dataframe tbody tr th:only-of-type {\n",
       "        vertical-align: middle;\n",
       "    }\n",
       "\n",
       "    .dataframe tbody tr th {\n",
       "        vertical-align: top;\n",
       "    }\n",
       "\n",
       "    .dataframe thead th {\n",
       "        text-align: right;\n",
       "    }\n",
       "</style>\n",
       "<table border=\"1\" class=\"dataframe\">\n",
       "  <thead>\n",
       "    <tr style=\"text-align: right;\">\n",
       "      <th></th>\n",
       "      <th>MS SubClass</th>\n",
       "      <th>MS Zoning</th>\n",
       "      <th>Land Contour</th>\n",
       "      <th>Lot Config</th>\n",
       "      <th>Neighborhood</th>\n",
       "      <th>Condition 1</th>\n",
       "      <th>Bldg Type</th>\n",
       "      <th>House Style</th>\n",
       "      <th>Roof Style</th>\n",
       "      <th>Exterior 1st</th>\n",
       "      <th>Exterior 2nd</th>\n",
       "      <th>Mas Vnr Type</th>\n",
       "      <th>Foundation</th>\n",
       "      <th>Garage Type</th>\n",
       "      <th>Sale Type</th>\n",
       "    </tr>\n",
       "  </thead>\n",
       "  <tbody>\n",
       "    <tr>\n",
       "      <td>0</td>\n",
       "      <td>60</td>\n",
       "      <td>RL</td>\n",
       "      <td>Lvl</td>\n",
       "      <td>CulDSac</td>\n",
       "      <td>Sawyer</td>\n",
       "      <td>RRAe</td>\n",
       "      <td>1Fam</td>\n",
       "      <td>2Story</td>\n",
       "      <td>Gable</td>\n",
       "      <td>HdBoard</td>\n",
       "      <td>Plywood</td>\n",
       "      <td>BrkFace</td>\n",
       "      <td>CBlock</td>\n",
       "      <td>Attchd</td>\n",
       "      <td>WD</td>\n",
       "    </tr>\n",
       "    <tr>\n",
       "      <td>1</td>\n",
       "      <td>60</td>\n",
       "      <td>RL</td>\n",
       "      <td>Lvl</td>\n",
       "      <td>CulDSac</td>\n",
       "      <td>SawyerW</td>\n",
       "      <td>Norm</td>\n",
       "      <td>1Fam</td>\n",
       "      <td>2Story</td>\n",
       "      <td>Gable</td>\n",
       "      <td>VinylSd</td>\n",
       "      <td>VinylSd</td>\n",
       "      <td>BrkFace</td>\n",
       "      <td>PConc</td>\n",
       "      <td>Attchd</td>\n",
       "      <td>WD</td>\n",
       "    </tr>\n",
       "    <tr>\n",
       "      <td>2</td>\n",
       "      <td>20</td>\n",
       "      <td>RL</td>\n",
       "      <td>Lvl</td>\n",
       "      <td>Inside</td>\n",
       "      <td>NAmes</td>\n",
       "      <td>Norm</td>\n",
       "      <td>1Fam</td>\n",
       "      <td>1Story</td>\n",
       "      <td>Gable</td>\n",
       "      <td>VinylSd</td>\n",
       "      <td>VinylSd</td>\n",
       "      <td>None</td>\n",
       "      <td>CBlock</td>\n",
       "      <td>Detchd</td>\n",
       "      <td>WD</td>\n",
       "    </tr>\n",
       "    <tr>\n",
       "      <td>3</td>\n",
       "      <td>60</td>\n",
       "      <td>RL</td>\n",
       "      <td>Lvl</td>\n",
       "      <td>Inside</td>\n",
       "      <td>Timber</td>\n",
       "      <td>Norm</td>\n",
       "      <td>1Fam</td>\n",
       "      <td>2Story</td>\n",
       "      <td>Gable</td>\n",
       "      <td>VinylSd</td>\n",
       "      <td>VinylSd</td>\n",
       "      <td>None</td>\n",
       "      <td>PConc</td>\n",
       "      <td>BuiltIn</td>\n",
       "      <td>WD</td>\n",
       "    </tr>\n",
       "    <tr>\n",
       "      <td>4</td>\n",
       "      <td>50</td>\n",
       "      <td>RL</td>\n",
       "      <td>Lvl</td>\n",
       "      <td>Inside</td>\n",
       "      <td>SawyerW</td>\n",
       "      <td>Norm</td>\n",
       "      <td>1Fam</td>\n",
       "      <td>1.5Fin</td>\n",
       "      <td>Gable</td>\n",
       "      <td>Wd Sdng</td>\n",
       "      <td>Plywood</td>\n",
       "      <td>None</td>\n",
       "      <td>PConc</td>\n",
       "      <td>Detchd</td>\n",
       "      <td>WD</td>\n",
       "    </tr>\n",
       "  </tbody>\n",
       "</table>\n",
       "</div>"
      ],
      "text/plain": [
       "   MS SubClass MS Zoning Land Contour Lot Config Neighborhood Condition 1  \\\n",
       "0           60        RL          Lvl    CulDSac       Sawyer        RRAe   \n",
       "1           60        RL          Lvl    CulDSac      SawyerW        Norm   \n",
       "2           20        RL          Lvl     Inside        NAmes        Norm   \n",
       "3           60        RL          Lvl     Inside       Timber        Norm   \n",
       "4           50        RL          Lvl     Inside      SawyerW        Norm   \n",
       "\n",
       "  Bldg Type House Style Roof Style Exterior 1st Exterior 2nd Mas Vnr Type  \\\n",
       "0      1Fam      2Story      Gable      HdBoard      Plywood      BrkFace   \n",
       "1      1Fam      2Story      Gable      VinylSd      VinylSd      BrkFace   \n",
       "2      1Fam      1Story      Gable      VinylSd      VinylSd         None   \n",
       "3      1Fam      2Story      Gable      VinylSd      VinylSd         None   \n",
       "4      1Fam      1.5Fin      Gable      Wd Sdng      Plywood         None   \n",
       "\n",
       "  Foundation Garage Type Sale Type  \n",
       "0     CBlock      Attchd       WD   \n",
       "1      PConc      Attchd       WD   \n",
       "2     CBlock      Detchd       WD   \n",
       "3      PConc     BuiltIn       WD   \n",
       "4      PConc      Detchd       WD   "
      ]
     },
     "execution_count": 54,
     "metadata": {},
     "output_type": "execute_result"
    }
   ],
   "source": [
    "df[filtered_nominal_cols].head()"
   ]
  },
  {
   "cell_type": "code",
   "execution_count": 55,
   "metadata": {},
   "outputs": [
    {
     "data": {
      "text/html": [
       "<div>\n",
       "<style scoped>\n",
       "    .dataframe tbody tr th:only-of-type {\n",
       "        vertical-align: middle;\n",
       "    }\n",
       "\n",
       "    .dataframe tbody tr th {\n",
       "        vertical-align: top;\n",
       "    }\n",
       "\n",
       "    .dataframe thead th {\n",
       "        text-align: right;\n",
       "    }\n",
       "</style>\n",
       "<table border=\"1\" class=\"dataframe\">\n",
       "  <thead>\n",
       "    <tr style=\"text-align: right;\">\n",
       "      <th></th>\n",
       "      <th>Count</th>\n",
       "      <th>SalePrice</th>\n",
       "    </tr>\n",
       "    <tr>\n",
       "      <th>MS Zoning</th>\n",
       "      <th></th>\n",
       "      <th></th>\n",
       "    </tr>\n",
       "  </thead>\n",
       "  <tbody>\n",
       "    <tr>\n",
       "      <td>A (agr)</td>\n",
       "      <td>2</td>\n",
       "      <td>47300.000000</td>\n",
       "    </tr>\n",
       "    <tr>\n",
       "      <td>C (all)</td>\n",
       "      <td>19</td>\n",
       "      <td>78010.894737</td>\n",
       "    </tr>\n",
       "    <tr>\n",
       "      <td>FV</td>\n",
       "      <td>100</td>\n",
       "      <td>218414.500000</td>\n",
       "    </tr>\n",
       "    <tr>\n",
       "      <td>I (all)</td>\n",
       "      <td>1</td>\n",
       "      <td>57625.000000</td>\n",
       "    </tr>\n",
       "    <tr>\n",
       "      <td>RH</td>\n",
       "      <td>14</td>\n",
       "      <td>148859.571429</td>\n",
       "    </tr>\n",
       "    <tr>\n",
       "      <td>RL</td>\n",
       "      <td>1591</td>\n",
       "      <td>191232.082338</td>\n",
       "    </tr>\n",
       "    <tr>\n",
       "      <td>RM</td>\n",
       "      <td>314</td>\n",
       "      <td>129209.363057</td>\n",
       "    </tr>\n",
       "  </tbody>\n",
       "</table>\n",
       "</div>"
      ],
      "text/plain": [
       "           Count      SalePrice\n",
       "MS Zoning                      \n",
       "A (agr)        2   47300.000000\n",
       "C (all)       19   78010.894737\n",
       "FV           100  218414.500000\n",
       "I (all)        1   57625.000000\n",
       "RH            14  148859.571429\n",
       "RL          1591  191232.082338\n",
       "RM           314  129209.363057"
      ]
     },
     "execution_count": 55,
     "metadata": {},
     "output_type": "execute_result"
    }
   ],
   "source": [
    "df.groupby('MS Zoning').agg({'MS Zoning':'size', 'SalePrice':'mean'}).rename(columns={'MS Zoning': 'Count'})"
   ]
  },
  {
   "cell_type": "code",
   "execution_count": 56,
   "metadata": {},
   "outputs": [
    {
     "name": "stdout",
     "output_type": "stream",
     "text": [
      "Std of MS Zoning 66435.32018115005\n"
     ]
    }
   ],
   "source": [
    "print('Std of MS Zoning', df.groupby('MS Zoning').agg({'MS Zoning':'size', 'SalePrice':'mean'})['SalePrice'].std())"
   ]
  },
  {
   "cell_type": "markdown",
   "metadata": {},
   "source": [
    "Find columns with high variance"
   ]
  },
  {
   "cell_type": "code",
   "execution_count": 57,
   "metadata": {},
   "outputs": [
    {
     "data": {
      "text/html": [
       "<div>\n",
       "<style scoped>\n",
       "    .dataframe tbody tr th:only-of-type {\n",
       "        vertical-align: middle;\n",
       "    }\n",
       "\n",
       "    .dataframe tbody tr th {\n",
       "        vertical-align: top;\n",
       "    }\n",
       "\n",
       "    .dataframe thead th {\n",
       "        text-align: right;\n",
       "    }\n",
       "</style>\n",
       "<table border=\"1\" class=\"dataframe\">\n",
       "  <thead>\n",
       "    <tr style=\"text-align: right;\">\n",
       "      <th></th>\n",
       "      <th>std</th>\n",
       "    </tr>\n",
       "  </thead>\n",
       "  <tbody>\n",
       "    <tr>\n",
       "      <td>Neighborhood</td>\n",
       "      <td>67054.921453</td>\n",
       "    </tr>\n",
       "    <tr>\n",
       "      <td>MS Zoning</td>\n",
       "      <td>66435.320181</td>\n",
       "    </tr>\n",
       "    <tr>\n",
       "      <td>Exterior 1st</td>\n",
       "      <td>57529.541044</td>\n",
       "    </tr>\n",
       "    <tr>\n",
       "      <td>Sale Type</td>\n",
       "      <td>55903.517519</td>\n",
       "    </tr>\n",
       "    <tr>\n",
       "      <td>Mas Vnr Type</td>\n",
       "      <td>55717.017364</td>\n",
       "    </tr>\n",
       "    <tr>\n",
       "      <td>Garage Type</td>\n",
       "      <td>52985.584658</td>\n",
       "    </tr>\n",
       "    <tr>\n",
       "      <td>Land Contour</td>\n",
       "      <td>50460.374194</td>\n",
       "    </tr>\n",
       "    <tr>\n",
       "      <td>Condition 1</td>\n",
       "      <td>49824.093031</td>\n",
       "    </tr>\n",
       "    <tr>\n",
       "      <td>Foundation</td>\n",
       "      <td>42876.216319</td>\n",
       "    </tr>\n",
       "    <tr>\n",
       "      <td>House Style</td>\n",
       "      <td>41615.408802</td>\n",
       "    </tr>\n",
       "    <tr>\n",
       "      <td>MS SubClass</td>\n",
       "      <td>40396.654096</td>\n",
       "    </tr>\n",
       "    <tr>\n",
       "      <td>Exterior 2nd</td>\n",
       "      <td>40270.369016</td>\n",
       "    </tr>\n",
       "    <tr>\n",
       "      <td>Bldg Type</td>\n",
       "      <td>33818.539354</td>\n",
       "    </tr>\n",
       "    <tr>\n",
       "      <td>Roof Style</td>\n",
       "      <td>32969.806418</td>\n",
       "    </tr>\n",
       "    <tr>\n",
       "      <td>Lot Config</td>\n",
       "      <td>25166.023759</td>\n",
       "    </tr>\n",
       "  </tbody>\n",
       "</table>\n",
       "</div>"
      ],
      "text/plain": [
       "                       std\n",
       "Neighborhood  67054.921453\n",
       "MS Zoning     66435.320181\n",
       "Exterior 1st  57529.541044\n",
       "Sale Type     55903.517519\n",
       "Mas Vnr Type  55717.017364\n",
       "Garage Type   52985.584658\n",
       "Land Contour  50460.374194\n",
       "Condition 1   49824.093031\n",
       "Foundation    42876.216319\n",
       "House Style   41615.408802\n",
       "MS SubClass   40396.654096\n",
       "Exterior 2nd  40270.369016\n",
       "Bldg Type     33818.539354\n",
       "Roof Style    32969.806418\n",
       "Lot Config    25166.023759"
      ]
     },
     "execution_count": 57,
     "metadata": {},
     "output_type": "execute_result"
    }
   ],
   "source": [
    "pd.DataFrame.from_dict({col: df.groupby(col).agg({col:'size', 'SalePrice':'mean'})['SalePrice'].std() \n",
    "              for col in filtered_nominal_cols}, orient='index', \n",
    "                       columns=['std']).sort_values(by='std', ascending=False)"
   ]
  },
  {
   "cell_type": "code",
   "execution_count": 58,
   "metadata": {},
   "outputs": [
    {
     "data": {
      "text/html": [
       "<div>\n",
       "<style scoped>\n",
       "    .dataframe tbody tr th:only-of-type {\n",
       "        vertical-align: middle;\n",
       "    }\n",
       "\n",
       "    .dataframe tbody tr th {\n",
       "        vertical-align: top;\n",
       "    }\n",
       "\n",
       "    .dataframe thead th {\n",
       "        text-align: right;\n",
       "    }\n",
       "</style>\n",
       "<table border=\"1\" class=\"dataframe\">\n",
       "  <thead>\n",
       "    <tr style=\"text-align: right;\">\n",
       "      <th></th>\n",
       "      <th>Count</th>\n",
       "      <th>SalePrice</th>\n",
       "    </tr>\n",
       "    <tr>\n",
       "      <th>Lot Config</th>\n",
       "      <th></th>\n",
       "      <th></th>\n",
       "    </tr>\n",
       "  </thead>\n",
       "  <tbody>\n",
       "    <tr>\n",
       "      <td>Corner</td>\n",
       "      <td>346</td>\n",
       "      <td>180667.913295</td>\n",
       "    </tr>\n",
       "    <tr>\n",
       "      <td>CulDSac</td>\n",
       "      <td>131</td>\n",
       "      <td>230744.358779</td>\n",
       "    </tr>\n",
       "    <tr>\n",
       "      <td>FR2</td>\n",
       "      <td>59</td>\n",
       "      <td>175037.559322</td>\n",
       "    </tr>\n",
       "    <tr>\n",
       "      <td>FR3</td>\n",
       "      <td>8</td>\n",
       "      <td>213550.000000</td>\n",
       "    </tr>\n",
       "    <tr>\n",
       "      <td>Inside</td>\n",
       "      <td>1497</td>\n",
       "      <td>177426.635939</td>\n",
       "    </tr>\n",
       "  </tbody>\n",
       "</table>\n",
       "</div>"
      ],
      "text/plain": [
       "            Count      SalePrice\n",
       "Lot Config                      \n",
       "Corner        346  180667.913295\n",
       "CulDSac       131  230744.358779\n",
       "FR2            59  175037.559322\n",
       "FR3             8  213550.000000\n",
       "Inside       1497  177426.635939"
      ]
     },
     "execution_count": 58,
     "metadata": {},
     "output_type": "execute_result"
    }
   ],
   "source": [
    "df.groupby('Lot Config').agg({'Lot Config':'size', 'SalePrice':'mean'}).rename(columns={'Lot Config': 'Count'})"
   ]
  },
  {
   "cell_type": "markdown",
   "metadata": {},
   "source": [
    "2. Drop nominal cols with low variance of mean price per category\n"
   ]
  },
  {
   "cell_type": "code",
   "execution_count": 59,
   "metadata": {},
   "outputs": [],
   "source": [
    "filtered_nominal_cols = [col for col in filtered_nominal_cols \n",
    "                         if col not in ['Lot Config', 'Roof Style', 'Exterior 2nd','MS SubClass']]"
   ]
  },
  {
   "cell_type": "markdown",
   "metadata": {},
   "source": [
    "3. One hot encoding"
   ]
  },
  {
   "cell_type": "code",
   "execution_count": 60,
   "metadata": {},
   "outputs": [],
   "source": [
    "filtered_nominal_dummies_cols = list(pd.get_dummies(df[filtered_nominal_cols].astype(str)).columns)"
   ]
  },
  {
   "cell_type": "markdown",
   "metadata": {},
   "source": [
    "4. Join dataframe"
   ]
  },
  {
   "cell_type": "code",
   "execution_count": 61,
   "metadata": {},
   "outputs": [],
   "source": [
    "df = df.join(pd.get_dummies(df[filtered_nominal_cols].astype(str))) # join original df with dummies df"
   ]
  },
  {
   "cell_type": "markdown",
   "metadata": {},
   "source": [
    "### Filtering continuous data using sales price correlation"
   ]
  },
  {
   "cell_type": "code",
   "execution_count": 62,
   "metadata": {},
   "outputs": [
    {
     "data": {
      "text/html": [
       "<div>\n",
       "<style scoped>\n",
       "    .dataframe tbody tr th:only-of-type {\n",
       "        vertical-align: middle;\n",
       "    }\n",
       "\n",
       "    .dataframe tbody tr th {\n",
       "        vertical-align: top;\n",
       "    }\n",
       "\n",
       "    .dataframe thead th {\n",
       "        text-align: right;\n",
       "    }\n",
       "</style>\n",
       "<table border=\"1\" class=\"dataframe\">\n",
       "  <thead>\n",
       "    <tr style=\"text-align: right;\">\n",
       "      <th></th>\n",
       "      <th>SalePrice</th>\n",
       "    </tr>\n",
       "  </thead>\n",
       "  <tbody>\n",
       "    <tr>\n",
       "      <td>Enclosed Porch</td>\n",
       "      <td>-0.135542</td>\n",
       "    </tr>\n",
       "    <tr>\n",
       "      <td>Screen Porch</td>\n",
       "      <td>0.133878</td>\n",
       "    </tr>\n",
       "    <tr>\n",
       "      <td>Lot Frontage</td>\n",
       "      <td>0.189200</td>\n",
       "    </tr>\n",
       "    <tr>\n",
       "      <td>Bsmt Unf SF</td>\n",
       "      <td>0.191418</td>\n",
       "    </tr>\n",
       "    <tr>\n",
       "      <td>2nd Flr SF</td>\n",
       "      <td>0.249263</td>\n",
       "    </tr>\n",
       "    <tr>\n",
       "      <td>Wood Deck SF</td>\n",
       "      <td>0.339371</td>\n",
       "    </tr>\n",
       "    <tr>\n",
       "      <td>Open Porch SF</td>\n",
       "      <td>0.339869</td>\n",
       "    </tr>\n",
       "    <tr>\n",
       "      <td>BsmtFin SF 1</td>\n",
       "      <td>0.447255</td>\n",
       "    </tr>\n",
       "    <tr>\n",
       "      <td>Mas Vnr Area</td>\n",
       "      <td>0.518730</td>\n",
       "    </tr>\n",
       "    <tr>\n",
       "      <td>1st Flr SF</td>\n",
       "      <td>0.654157</td>\n",
       "    </tr>\n",
       "    <tr>\n",
       "      <td>Garage Area</td>\n",
       "      <td>0.657977</td>\n",
       "    </tr>\n",
       "    <tr>\n",
       "      <td>Total Bsmt SF</td>\n",
       "      <td>0.668839</td>\n",
       "    </tr>\n",
       "    <tr>\n",
       "      <td>Gr Liv Area</td>\n",
       "      <td>0.721281</td>\n",
       "    </tr>\n",
       "    <tr>\n",
       "      <td>SalePrice</td>\n",
       "      <td>1.000000</td>\n",
       "    </tr>\n",
       "  </tbody>\n",
       "</table>\n",
       "</div>"
      ],
      "text/plain": [
       "                SalePrice\n",
       "Enclosed Porch  -0.135542\n",
       "Screen Porch     0.133878\n",
       "Lot Frontage     0.189200\n",
       "Bsmt Unf SF      0.191418\n",
       "2nd Flr SF       0.249263\n",
       "Wood Deck SF     0.339371\n",
       "Open Porch SF    0.339869\n",
       "BsmtFin SF 1     0.447255\n",
       "Mas Vnr Area     0.518730\n",
       "1st Flr SF       0.654157\n",
       "Garage Area      0.657977\n",
       "Total Bsmt SF    0.668839\n",
       "Gr Liv Area      0.721281\n",
       "SalePrice        1.000000"
      ]
     },
     "execution_count": 62,
     "metadata": {},
     "output_type": "execute_result"
    }
   ],
   "source": [
    "continuous_corr = df[filtered_continuous_cols].corr().loc['SalePrice', : ].to_frame().sort_values(by='SalePrice')\n",
    "continuous_corr"
   ]
  },
  {
   "cell_type": "code",
   "execution_count": 63,
   "metadata": {},
   "outputs": [
    {
     "data": {
      "text/html": [
       "<div>\n",
       "<style scoped>\n",
       "    .dataframe tbody tr th:only-of-type {\n",
       "        vertical-align: middle;\n",
       "    }\n",
       "\n",
       "    .dataframe tbody tr th {\n",
       "        vertical-align: top;\n",
       "    }\n",
       "\n",
       "    .dataframe thead th {\n",
       "        text-align: right;\n",
       "    }\n",
       "</style>\n",
       "<table border=\"1\" class=\"dataframe\">\n",
       "  <thead>\n",
       "    <tr style=\"text-align: right;\">\n",
       "      <th></th>\n",
       "      <th>Lot Frontage</th>\n",
       "      <th>Mas Vnr Area</th>\n",
       "      <th>BsmtFin SF 1</th>\n",
       "      <th>Bsmt Unf SF</th>\n",
       "      <th>Total Bsmt SF</th>\n",
       "      <th>1st Flr SF</th>\n",
       "      <th>2nd Flr SF</th>\n",
       "      <th>Gr Liv Area</th>\n",
       "      <th>Garage Area</th>\n",
       "      <th>Wood Deck SF</th>\n",
       "      <th>Open Porch SF</th>\n",
       "      <th>Enclosed Porch</th>\n",
       "      <th>Screen Porch</th>\n",
       "      <th>SalePrice</th>\n",
       "    </tr>\n",
       "  </thead>\n",
       "  <tbody>\n",
       "    <tr>\n",
       "      <td>SalePrice</td>\n",
       "      <td>0.189200</td>\n",
       "      <td>0.518730</td>\n",
       "      <td>0.447255</td>\n",
       "      <td>0.191418</td>\n",
       "      <td>0.668839</td>\n",
       "      <td>0.654157</td>\n",
       "      <td>0.249263</td>\n",
       "      <td>0.721281</td>\n",
       "      <td>0.657977</td>\n",
       "      <td>0.339371</td>\n",
       "      <td>0.339869</td>\n",
       "      <td>-0.135542</td>\n",
       "      <td>0.133878</td>\n",
       "      <td>1.000000</td>\n",
       "    </tr>\n",
       "    <tr>\n",
       "      <td>Gr Liv Area</td>\n",
       "      <td>0.132673</td>\n",
       "      <td>0.368109</td>\n",
       "      <td>0.158333</td>\n",
       "      <td>0.245122</td>\n",
       "      <td>0.421753</td>\n",
       "      <td>0.522951</td>\n",
       "      <td>0.662631</td>\n",
       "      <td>1.000000</td>\n",
       "      <td>0.480666</td>\n",
       "      <td>0.274398</td>\n",
       "      <td>0.313236</td>\n",
       "      <td>-0.005019</td>\n",
       "      <td>0.107737</td>\n",
       "      <td>0.721281</td>\n",
       "    </tr>\n",
       "    <tr>\n",
       "      <td>Total Bsmt SF</td>\n",
       "      <td>0.183071</td>\n",
       "      <td>0.385842</td>\n",
       "      <td>0.490056</td>\n",
       "      <td>0.437079</td>\n",
       "      <td>1.000000</td>\n",
       "      <td>0.818051</td>\n",
       "      <td>-0.237128</td>\n",
       "      <td>0.421753</td>\n",
       "      <td>0.485989</td>\n",
       "      <td>0.223510</td>\n",
       "      <td>0.235464</td>\n",
       "      <td>-0.089834</td>\n",
       "      <td>0.083175</td>\n",
       "      <td>0.668839</td>\n",
       "    </tr>\n",
       "    <tr>\n",
       "      <td>Garage Area</td>\n",
       "      <td>0.152465</td>\n",
       "      <td>0.377306</td>\n",
       "      <td>0.313864</td>\n",
       "      <td>0.148856</td>\n",
       "      <td>0.485989</td>\n",
       "      <td>0.491899</td>\n",
       "      <td>0.122164</td>\n",
       "      <td>0.480666</td>\n",
       "      <td>1.000000</td>\n",
       "      <td>0.243021</td>\n",
       "      <td>0.231539</td>\n",
       "      <td>-0.111188</td>\n",
       "      <td>0.072926</td>\n",
       "      <td>0.657977</td>\n",
       "    </tr>\n",
       "    <tr>\n",
       "      <td>1st Flr SF</td>\n",
       "      <td>0.185107</td>\n",
       "      <td>0.376863</td>\n",
       "      <td>0.423424</td>\n",
       "      <td>0.324314</td>\n",
       "      <td>0.818051</td>\n",
       "      <td>1.000000</td>\n",
       "      <td>-0.283720</td>\n",
       "      <td>0.522951</td>\n",
       "      <td>0.491899</td>\n",
       "      <td>0.222164</td>\n",
       "      <td>0.209593</td>\n",
       "      <td>-0.040118</td>\n",
       "      <td>0.100221</td>\n",
       "      <td>0.654157</td>\n",
       "    </tr>\n",
       "    <tr>\n",
       "      <td>Mas Vnr Area</td>\n",
       "      <td>0.090304</td>\n",
       "      <td>1.000000</td>\n",
       "      <td>0.294075</td>\n",
       "      <td>0.083379</td>\n",
       "      <td>0.385842</td>\n",
       "      <td>0.376863</td>\n",
       "      <td>0.094365</td>\n",
       "      <td>0.368109</td>\n",
       "      <td>0.377306</td>\n",
       "      <td>0.168428</td>\n",
       "      <td>0.141540</td>\n",
       "      <td>-0.105987</td>\n",
       "      <td>0.078645</td>\n",
       "      <td>0.518730</td>\n",
       "    </tr>\n",
       "    <tr>\n",
       "      <td>BsmtFin SF 1</td>\n",
       "      <td>0.009389</td>\n",
       "      <td>0.294075</td>\n",
       "      <td>1.000000</td>\n",
       "      <td>-0.501336</td>\n",
       "      <td>0.490056</td>\n",
       "      <td>0.423424</td>\n",
       "      <td>-0.182497</td>\n",
       "      <td>0.158333</td>\n",
       "      <td>0.313864</td>\n",
       "      <td>0.205259</td>\n",
       "      <td>0.107938</td>\n",
       "      <td>-0.077521</td>\n",
       "      <td>0.100466</td>\n",
       "      <td>0.447255</td>\n",
       "    </tr>\n",
       "    <tr>\n",
       "      <td>Open Porch SF</td>\n",
       "      <td>0.071702</td>\n",
       "      <td>0.141540</td>\n",
       "      <td>0.107938</td>\n",
       "      <td>0.119346</td>\n",
       "      <td>0.235464</td>\n",
       "      <td>0.209593</td>\n",
       "      <td>0.172207</td>\n",
       "      <td>0.313236</td>\n",
       "      <td>0.231539</td>\n",
       "      <td>0.036856</td>\n",
       "      <td>1.000000</td>\n",
       "      <td>-0.075107</td>\n",
       "      <td>0.063596</td>\n",
       "      <td>0.339869</td>\n",
       "    </tr>\n",
       "    <tr>\n",
       "      <td>Wood Deck SF</td>\n",
       "      <td>0.010675</td>\n",
       "      <td>0.168428</td>\n",
       "      <td>0.205259</td>\n",
       "      <td>-0.030713</td>\n",
       "      <td>0.223510</td>\n",
       "      <td>0.222164</td>\n",
       "      <td>0.118421</td>\n",
       "      <td>0.274398</td>\n",
       "      <td>0.243021</td>\n",
       "      <td>1.000000</td>\n",
       "      <td>0.036856</td>\n",
       "      <td>-0.116353</td>\n",
       "      <td>-0.066664</td>\n",
       "      <td>0.339371</td>\n",
       "    </tr>\n",
       "    <tr>\n",
       "      <td>2nd Flr SF</td>\n",
       "      <td>-0.013618</td>\n",
       "      <td>0.094365</td>\n",
       "      <td>-0.182497</td>\n",
       "      <td>-0.013765</td>\n",
       "      <td>-0.237128</td>\n",
       "      <td>-0.283720</td>\n",
       "      <td>1.000000</td>\n",
       "      <td>0.662631</td>\n",
       "      <td>0.122164</td>\n",
       "      <td>0.118421</td>\n",
       "      <td>0.172207</td>\n",
       "      <td>0.018713</td>\n",
       "      <td>0.032560</td>\n",
       "      <td>0.249263</td>\n",
       "    </tr>\n",
       "    <tr>\n",
       "      <td>Bsmt Unf SF</td>\n",
       "      <td>0.163769</td>\n",
       "      <td>0.083379</td>\n",
       "      <td>-0.501336</td>\n",
       "      <td>1.000000</td>\n",
       "      <td>0.437079</td>\n",
       "      <td>0.324314</td>\n",
       "      <td>-0.013765</td>\n",
       "      <td>0.245122</td>\n",
       "      <td>0.148856</td>\n",
       "      <td>-0.030713</td>\n",
       "      <td>0.119346</td>\n",
       "      <td>-0.010983</td>\n",
       "      <td>-0.055729</td>\n",
       "      <td>0.191418</td>\n",
       "    </tr>\n",
       "    <tr>\n",
       "      <td>Lot Frontage</td>\n",
       "      <td>1.000000</td>\n",
       "      <td>0.090304</td>\n",
       "      <td>0.009389</td>\n",
       "      <td>0.163769</td>\n",
       "      <td>0.183071</td>\n",
       "      <td>0.185107</td>\n",
       "      <td>-0.013618</td>\n",
       "      <td>0.132673</td>\n",
       "      <td>0.152465</td>\n",
       "      <td>0.010675</td>\n",
       "      <td>0.071702</td>\n",
       "      <td>0.015342</td>\n",
       "      <td>0.041881</td>\n",
       "      <td>0.189200</td>\n",
       "    </tr>\n",
       "    <tr>\n",
       "      <td>Screen Porch</td>\n",
       "      <td>0.041881</td>\n",
       "      <td>0.078645</td>\n",
       "      <td>0.100466</td>\n",
       "      <td>-0.055729</td>\n",
       "      <td>0.083175</td>\n",
       "      <td>0.100221</td>\n",
       "      <td>0.032560</td>\n",
       "      <td>0.107737</td>\n",
       "      <td>0.072926</td>\n",
       "      <td>-0.066664</td>\n",
       "      <td>0.063596</td>\n",
       "      <td>-0.068816</td>\n",
       "      <td>1.000000</td>\n",
       "      <td>0.133878</td>\n",
       "    </tr>\n",
       "    <tr>\n",
       "      <td>Enclosed Porch</td>\n",
       "      <td>0.015342</td>\n",
       "      <td>-0.105987</td>\n",
       "      <td>-0.077521</td>\n",
       "      <td>-0.010983</td>\n",
       "      <td>-0.089834</td>\n",
       "      <td>-0.040118</td>\n",
       "      <td>0.018713</td>\n",
       "      <td>-0.005019</td>\n",
       "      <td>-0.111188</td>\n",
       "      <td>-0.116353</td>\n",
       "      <td>-0.075107</td>\n",
       "      <td>1.000000</td>\n",
       "      <td>-0.068816</td>\n",
       "      <td>-0.135542</td>\n",
       "    </tr>\n",
       "  </tbody>\n",
       "</table>\n",
       "</div>"
      ],
      "text/plain": [
       "                Lot Frontage  Mas Vnr Area  BsmtFin SF 1  Bsmt Unf SF  \\\n",
       "SalePrice           0.189200      0.518730      0.447255     0.191418   \n",
       "Gr Liv Area         0.132673      0.368109      0.158333     0.245122   \n",
       "Total Bsmt SF       0.183071      0.385842      0.490056     0.437079   \n",
       "Garage Area         0.152465      0.377306      0.313864     0.148856   \n",
       "1st Flr SF          0.185107      0.376863      0.423424     0.324314   \n",
       "Mas Vnr Area        0.090304      1.000000      0.294075     0.083379   \n",
       "BsmtFin SF 1        0.009389      0.294075      1.000000    -0.501336   \n",
       "Open Porch SF       0.071702      0.141540      0.107938     0.119346   \n",
       "Wood Deck SF        0.010675      0.168428      0.205259    -0.030713   \n",
       "2nd Flr SF         -0.013618      0.094365     -0.182497    -0.013765   \n",
       "Bsmt Unf SF         0.163769      0.083379     -0.501336     1.000000   \n",
       "Lot Frontage        1.000000      0.090304      0.009389     0.163769   \n",
       "Screen Porch        0.041881      0.078645      0.100466    -0.055729   \n",
       "Enclosed Porch      0.015342     -0.105987     -0.077521    -0.010983   \n",
       "\n",
       "                Total Bsmt SF  1st Flr SF  2nd Flr SF  Gr Liv Area  \\\n",
       "SalePrice            0.668839    0.654157    0.249263     0.721281   \n",
       "Gr Liv Area          0.421753    0.522951    0.662631     1.000000   \n",
       "Total Bsmt SF        1.000000    0.818051   -0.237128     0.421753   \n",
       "Garage Area          0.485989    0.491899    0.122164     0.480666   \n",
       "1st Flr SF           0.818051    1.000000   -0.283720     0.522951   \n",
       "Mas Vnr Area         0.385842    0.376863    0.094365     0.368109   \n",
       "BsmtFin SF 1         0.490056    0.423424   -0.182497     0.158333   \n",
       "Open Porch SF        0.235464    0.209593    0.172207     0.313236   \n",
       "Wood Deck SF         0.223510    0.222164    0.118421     0.274398   \n",
       "2nd Flr SF          -0.237128   -0.283720    1.000000     0.662631   \n",
       "Bsmt Unf SF          0.437079    0.324314   -0.013765     0.245122   \n",
       "Lot Frontage         0.183071    0.185107   -0.013618     0.132673   \n",
       "Screen Porch         0.083175    0.100221    0.032560     0.107737   \n",
       "Enclosed Porch      -0.089834   -0.040118    0.018713    -0.005019   \n",
       "\n",
       "                Garage Area  Wood Deck SF  Open Porch SF  Enclosed Porch  \\\n",
       "SalePrice          0.657977      0.339371       0.339869       -0.135542   \n",
       "Gr Liv Area        0.480666      0.274398       0.313236       -0.005019   \n",
       "Total Bsmt SF      0.485989      0.223510       0.235464       -0.089834   \n",
       "Garage Area        1.000000      0.243021       0.231539       -0.111188   \n",
       "1st Flr SF         0.491899      0.222164       0.209593       -0.040118   \n",
       "Mas Vnr Area       0.377306      0.168428       0.141540       -0.105987   \n",
       "BsmtFin SF 1       0.313864      0.205259       0.107938       -0.077521   \n",
       "Open Porch SF      0.231539      0.036856       1.000000       -0.075107   \n",
       "Wood Deck SF       0.243021      1.000000       0.036856       -0.116353   \n",
       "2nd Flr SF         0.122164      0.118421       0.172207        0.018713   \n",
       "Bsmt Unf SF        0.148856     -0.030713       0.119346       -0.010983   \n",
       "Lot Frontage       0.152465      0.010675       0.071702        0.015342   \n",
       "Screen Porch       0.072926     -0.066664       0.063596       -0.068816   \n",
       "Enclosed Porch    -0.111188     -0.116353      -0.075107        1.000000   \n",
       "\n",
       "                Screen Porch  SalePrice  \n",
       "SalePrice           0.133878   1.000000  \n",
       "Gr Liv Area         0.107737   0.721281  \n",
       "Total Bsmt SF       0.083175   0.668839  \n",
       "Garage Area         0.072926   0.657977  \n",
       "1st Flr SF          0.100221   0.654157  \n",
       "Mas Vnr Area        0.078645   0.518730  \n",
       "BsmtFin SF 1        0.100466   0.447255  \n",
       "Open Porch SF       0.063596   0.339869  \n",
       "Wood Deck SF       -0.066664   0.339371  \n",
       "2nd Flr SF          0.032560   0.249263  \n",
       "Bsmt Unf SF        -0.055729   0.191418  \n",
       "Lot Frontage        0.041881   0.189200  \n",
       "Screen Porch        1.000000   0.133878  \n",
       "Enclosed Porch     -0.068816  -0.135542  "
      ]
     },
     "execution_count": 63,
     "metadata": {},
     "output_type": "execute_result"
    }
   ],
   "source": [
    "continuous_corr = df[filtered_continuous_cols].corr().sort_values(by='SalePrice', ascending=False)\n",
    "continuous_corr  # continuous variable correlations"
   ]
  },
  {
   "cell_type": "code",
   "execution_count": 64,
   "metadata": {},
   "outputs": [
    {
     "data": {
      "text/plain": [
       "<matplotlib.axes._subplots.AxesSubplot at 0x1a1e406410>"
      ]
     },
     "execution_count": 64,
     "metadata": {},
     "output_type": "execute_result"
    },
    {
     "data": {
      "image/png": "[encoded data removed]",
      "text/plain": [
       "<Figure size 1440x720 with 2 Axes>"
      ]
     },
     "metadata": {
      "needs_background": "light"
     },
     "output_type": "display_data"
    }
   ],
   "source": [
    "plt.figure(figsize=(20,10))\n",
    "sns.heatmap(df[filtered_continuous_cols].corr(), cmap='coolwarm')"
   ]
  },
  {
   "cell_type": "markdown",
   "metadata": {},
   "source": [
    "Reduce cols by filtering low corr cols with sales price"
   ]
  },
  {
   "cell_type": "code",
   "execution_count": 65,
   "metadata": {},
   "outputs": [],
   "source": [
    "continuous_corr_cols = list(continuous_corr.index)\n",
    "continuous_corr_cols.remove('SalePrice') # Remove price to prepare for poly fit"
   ]
  },
  {
   "cell_type": "code",
   "execution_count": 66,
   "metadata": {},
   "outputs": [
    {
     "data": {
      "text/plain": [
       "['Gr Liv Area',\n",
       " 'Total Bsmt SF',\n",
       " 'Garage Area',\n",
       " '1st Flr SF',\n",
       " 'Mas Vnr Area',\n",
       " 'BsmtFin SF 1',\n",
       " 'Open Porch SF']"
      ]
     },
     "execution_count": 66,
     "metadata": {},
     "output_type": "execute_result"
    }
   ],
   "source": [
    "cols_to_poly = continuous_corr_cols[:7] # Select top features that are highly correlated to sales price\n",
    "cols_to_poly"
   ]
  },
  {
   "cell_type": "markdown",
   "metadata": {},
   "source": [
    "### Adding polynomial features"
   ]
  },
  {
   "cell_type": "code",
   "execution_count": 67,
   "metadata": {},
   "outputs": [],
   "source": [
    "poly = PolynomialFeatures(include_bias=False)\n",
    "X_poly = poly.fit_transform(df[cols_to_poly])"
   ]
  },
  {
   "cell_type": "code",
   "execution_count": 68,
   "metadata": {},
   "outputs": [
    {
     "data": {
      "text/plain": [
       "(2041, 35)"
      ]
     },
     "execution_count": 68,
     "metadata": {},
     "output_type": "execute_result"
    }
   ],
   "source": [
    "X_poly.shape"
   ]
  },
  {
   "cell_type": "code",
   "execution_count": 69,
   "metadata": {},
   "outputs": [],
   "source": [
    "filtered_continuous_cols = poly.get_feature_names(cols_to_poly)"
   ]
  },
  {
   "cell_type": "code",
   "execution_count": 70,
   "metadata": {},
   "outputs": [],
   "source": [
    "df_poly = pd.DataFrame(X_poly, columns=filtered_continuous_cols)"
   ]
  },
  {
   "cell_type": "code",
   "execution_count": 71,
   "metadata": {},
   "outputs": [
    {
     "data": {
      "text/plain": [
       "(2041, 183)"
      ]
     },
     "execution_count": 71,
     "metadata": {},
     "output_type": "execute_result"
    }
   ],
   "source": [
    "df.shape"
   ]
  },
  {
   "cell_type": "code",
   "execution_count": 72,
   "metadata": {},
   "outputs": [
    {
     "data": {
      "text/plain": [
       "(2041, 35)"
      ]
     },
     "execution_count": 72,
     "metadata": {},
     "output_type": "execute_result"
    }
   ],
   "source": [
    "df_poly.shape"
   ]
  },
  {
   "cell_type": "code",
   "execution_count": 73,
   "metadata": {},
   "outputs": [],
   "source": [
    "remain_cols = [col for col in poly.get_feature_names(cols_to_poly) if col not in cols_to_poly]"
   ]
  },
  {
   "cell_type": "code",
   "execution_count": 74,
   "metadata": {},
   "outputs": [],
   "source": [
    "df = df.reset_index()"
   ]
  },
  {
   "cell_type": "code",
   "execution_count": 75,
   "metadata": {},
   "outputs": [],
   "source": [
    "df = pd.concat([df, df_poly[remain_cols]], axis=1, sort=False)"
   ]
  },
  {
   "cell_type": "code",
   "execution_count": 76,
   "metadata": {},
   "outputs": [
    {
     "data": {
      "text/plain": [
       "(2041, 35)"
      ]
     },
     "execution_count": 76,
     "metadata": {},
     "output_type": "execute_result"
    }
   ],
   "source": [
    "df[filtered_continuous_cols].shape"
   ]
  },
  {
   "cell_type": "code",
   "execution_count": 77,
   "metadata": {},
   "outputs": [],
   "source": [
    "features = filtered_continuous_cols + filtered_nominal_dummies_cols + filtered_ordinal_cols + filtered_discrete_cols"
   ]
  },
  {
   "cell_type": "code",
   "execution_count": 78,
   "metadata": {},
   "outputs": [
    {
     "data": {
      "text/plain": [
       "164"
      ]
     },
     "execution_count": 78,
     "metadata": {},
     "output_type": "execute_result"
    }
   ],
   "source": [
    "len(features)"
   ]
  },
  {
   "cell_type": "markdown",
   "metadata": {},
   "source": [
    "### Train test split"
   ]
  },
  {
   "cell_type": "code",
   "execution_count": 79,
   "metadata": {},
   "outputs": [],
   "source": [
    "X = df[features]\n",
    "y = df['SalePrice']"
   ]
  },
  {
   "cell_type": "code",
   "execution_count": 80,
   "metadata": {},
   "outputs": [],
   "source": [
    "X_train, X_test, y_train, y_test = train_test_split(X, y, random_state=50)"
   ]
  },
  {
   "cell_type": "markdown",
   "metadata": {},
   "source": [
    "### Standard Scaling"
   ]
  },
  {
   "cell_type": "code",
   "execution_count": 81,
   "metadata": {},
   "outputs": [],
   "source": [
    "ss = StandardScaler()\n",
    "X_train_scaled = ss.fit_transform(X_train)\n",
    "X_test_scaled = ss.transform(X_test)"
   ]
  },
  {
   "cell_type": "markdown",
   "metadata": {},
   "source": [
    "### Cross Validation"
   ]
  },
  {
   "cell_type": "code",
   "execution_count": 82,
   "metadata": {},
   "outputs": [],
   "source": [
    "lr = LinearRegression()\n",
    "lasso = LassoCV(n_alphas=10000,cv=5)\n",
    "ridge = RidgeCV(alphas=np.linspace(.1, 10, 100))"
   ]
  },
  {
   "cell_type": "code",
   "execution_count": 83,
   "metadata": {},
   "outputs": [],
   "source": [
    "lr.fit(X_train_scaled, y_train)\n",
    "lr_pred=lr.predict(X_test_scaled)"
   ]
  },
  {
   "cell_type": "code",
   "execution_count": 84,
   "metadata": {},
   "outputs": [],
   "source": [
    "lasso.fit(X_train_scaled, y_train)\n",
    "lasso_pred=lasso.predict(X_test_scaled)"
   ]
  },
  {
   "cell_type": "code",
   "execution_count": 85,
   "metadata": {},
   "outputs": [],
   "source": [
    "ridge.fit(X_train_scaled, y_train)\n",
    "ridge_pred=ridge.predict(X_test_scaled)"
   ]
  },
  {
   "cell_type": "code",
   "execution_count": 86,
   "metadata": {},
   "outputs": [
    {
     "data": {
      "text/html": [
       "<div>\n",
       "<style scoped>\n",
       "    .dataframe tbody tr th:only-of-type {\n",
       "        vertical-align: middle;\n",
       "    }\n",
       "\n",
       "    .dataframe tbody tr th {\n",
       "        vertical-align: top;\n",
       "    }\n",
       "\n",
       "    .dataframe thead th {\n",
       "        text-align: right;\n",
       "    }\n",
       "</style>\n",
       "<table border=\"1\" class=\"dataframe\">\n",
       "  <thead>\n",
       "    <tr style=\"text-align: right;\">\n",
       "      <th></th>\n",
       "      <th>variable</th>\n",
       "      <th>coef</th>\n",
       "      <th>abs_coef</th>\n",
       "    </tr>\n",
       "  </thead>\n",
       "  <tbody>\n",
       "    <tr>\n",
       "      <td>8</td>\n",
       "      <td>Gr Liv Area Total Bsmt SF</td>\n",
       "      <td>13203.101473</td>\n",
       "      <td>13203.101473</td>\n",
       "    </tr>\n",
       "    <tr>\n",
       "      <td>7</td>\n",
       "      <td>Gr Liv Area^2</td>\n",
       "      <td>12866.575935</td>\n",
       "      <td>12866.575935</td>\n",
       "    </tr>\n",
       "    <tr>\n",
       "      <td>138</td>\n",
       "      <td>Overall Qual</td>\n",
       "      <td>11982.731448</td>\n",
       "      <td>11982.731448</td>\n",
       "    </tr>\n",
       "    <tr>\n",
       "      <td>9</td>\n",
       "      <td>Gr Liv Area Garage Area</td>\n",
       "      <td>8985.172512</td>\n",
       "      <td>8985.172512</td>\n",
       "    </tr>\n",
       "    <tr>\n",
       "      <td>18</td>\n",
       "      <td>Total Bsmt SF BsmtFin SF 1</td>\n",
       "      <td>8734.311691</td>\n",
       "      <td>8734.311691</td>\n",
       "    </tr>\n",
       "    <tr>\n",
       "      <td>1</td>\n",
       "      <td>Total Bsmt SF</td>\n",
       "      <td>-6676.548438</td>\n",
       "      <td>6676.548438</td>\n",
       "    </tr>\n",
       "    <tr>\n",
       "      <td>83</td>\n",
       "      <td>Bldg Type_1Fam</td>\n",
       "      <td>6625.739631</td>\n",
       "      <td>6625.739631</td>\n",
       "    </tr>\n",
       "    <tr>\n",
       "      <td>15</td>\n",
       "      <td>Total Bsmt SF Garage Area</td>\n",
       "      <td>6524.715362</td>\n",
       "      <td>6524.715362</td>\n",
       "    </tr>\n",
       "    <tr>\n",
       "      <td>71</td>\n",
       "      <td>Neighborhood_StoneBr</td>\n",
       "      <td>6377.002398</td>\n",
       "      <td>6377.002398</td>\n",
       "    </tr>\n",
       "    <tr>\n",
       "      <td>65</td>\n",
       "      <td>Neighborhood_NridgHt</td>\n",
       "      <td>5765.496508</td>\n",
       "      <td>5765.496508</td>\n",
       "    </tr>\n",
       "    <tr>\n",
       "      <td>153</td>\n",
       "      <td>Year Built</td>\n",
       "      <td>5739.688246</td>\n",
       "      <td>5739.688246</td>\n",
       "    </tr>\n",
       "    <tr>\n",
       "      <td>139</td>\n",
       "      <td>Overall Cond</td>\n",
       "      <td>5589.802803</td>\n",
       "      <td>5589.802803</td>\n",
       "    </tr>\n",
       "    <tr>\n",
       "      <td>17</td>\n",
       "      <td>Total Bsmt SF Mas Vnr Area</td>\n",
       "      <td>4615.313843</td>\n",
       "      <td>4615.313843</td>\n",
       "    </tr>\n",
       "    <tr>\n",
       "      <td>144</td>\n",
       "      <td>Bsmt Exposure</td>\n",
       "      <td>4131.457485</td>\n",
       "      <td>4131.457485</td>\n",
       "    </tr>\n",
       "    <tr>\n",
       "      <td>134</td>\n",
       "      <td>Sale Type_New</td>\n",
       "      <td>4072.044164</td>\n",
       "      <td>4072.044164</td>\n",
       "    </tr>\n",
       "    <tr>\n",
       "      <td>24</td>\n",
       "      <td>Garage Area Open Porch SF</td>\n",
       "      <td>4046.189213</td>\n",
       "      <td>4046.189213</td>\n",
       "    </tr>\n",
       "    <tr>\n",
       "      <td>148</td>\n",
       "      <td>Kitchen Qual</td>\n",
       "      <td>3925.880697</td>\n",
       "      <td>3925.880697</td>\n",
       "    </tr>\n",
       "    <tr>\n",
       "      <td>140</td>\n",
       "      <td>Exter Qual</td>\n",
       "      <td>3831.945229</td>\n",
       "      <td>3831.945229</td>\n",
       "    </tr>\n",
       "    <tr>\n",
       "      <td>142</td>\n",
       "      <td>Bsmt Qual</td>\n",
       "      <td>3785.736918</td>\n",
       "      <td>3785.736918</td>\n",
       "    </tr>\n",
       "    <tr>\n",
       "      <td>2</td>\n",
       "      <td>Garage Area</td>\n",
       "      <td>-3670.823303</td>\n",
       "      <td>3670.823303</td>\n",
       "    </tr>\n",
       "    <tr>\n",
       "      <td>155</td>\n",
       "      <td>Bsmt Full Bath</td>\n",
       "      <td>3256.878661</td>\n",
       "      <td>3256.878661</td>\n",
       "    </tr>\n",
       "    <tr>\n",
       "      <td>11</td>\n",
       "      <td>Gr Liv Area Mas Vnr Area</td>\n",
       "      <td>3071.279299</td>\n",
       "      <td>3071.279299</td>\n",
       "    </tr>\n",
       "    <tr>\n",
       "      <td>29</td>\n",
       "      <td>Mas Vnr Area^2</td>\n",
       "      <td>-3034.815093</td>\n",
       "      <td>3034.815093</td>\n",
       "    </tr>\n",
       "    <tr>\n",
       "      <td>99</td>\n",
       "      <td>Exterior 1st_BrkFace</td>\n",
       "      <td>2963.471903</td>\n",
       "      <td>2963.471903</td>\n",
       "    </tr>\n",
       "    <tr>\n",
       "      <td>127</td>\n",
       "      <td>Garage Type_None</td>\n",
       "      <td>2874.228067</td>\n",
       "      <td>2874.228067</td>\n",
       "    </tr>\n",
       "    <tr>\n",
       "      <td>6</td>\n",
       "      <td>Open Porch SF</td>\n",
       "      <td>-2678.235369</td>\n",
       "      <td>2678.235369</td>\n",
       "    </tr>\n",
       "    <tr>\n",
       "      <td>52</td>\n",
       "      <td>Neighborhood_Crawfor</td>\n",
       "      <td>2441.625436</td>\n",
       "      <td>2441.625436</td>\n",
       "    </tr>\n",
       "    <tr>\n",
       "      <td>151</td>\n",
       "      <td>Garage Qual</td>\n",
       "      <td>2347.695857</td>\n",
       "      <td>2347.695857</td>\n",
       "    </tr>\n",
       "    <tr>\n",
       "      <td>56</td>\n",
       "      <td>Neighborhood_GrnHill</td>\n",
       "      <td>2253.039050</td>\n",
       "      <td>2253.039050</td>\n",
       "    </tr>\n",
       "    <tr>\n",
       "      <td>77</td>\n",
       "      <td>Condition 1_PosA</td>\n",
       "      <td>2160.047993</td>\n",
       "      <td>2160.047993</td>\n",
       "    </tr>\n",
       "  </tbody>\n",
       "</table>\n",
       "</div>"
      ],
      "text/plain": [
       "                       variable          coef      abs_coef\n",
       "8     Gr Liv Area Total Bsmt SF  13203.101473  13203.101473\n",
       "7                 Gr Liv Area^2  12866.575935  12866.575935\n",
       "138                Overall Qual  11982.731448  11982.731448\n",
       "9       Gr Liv Area Garage Area   8985.172512   8985.172512\n",
       "18   Total Bsmt SF BsmtFin SF 1   8734.311691   8734.311691\n",
       "1                 Total Bsmt SF  -6676.548438   6676.548438\n",
       "83               Bldg Type_1Fam   6625.739631   6625.739631\n",
       "15    Total Bsmt SF Garage Area   6524.715362   6524.715362\n",
       "71         Neighborhood_StoneBr   6377.002398   6377.002398\n",
       "65         Neighborhood_NridgHt   5765.496508   5765.496508\n",
       "153                  Year Built   5739.688246   5739.688246\n",
       "139                Overall Cond   5589.802803   5589.802803\n",
       "17   Total Bsmt SF Mas Vnr Area   4615.313843   4615.313843\n",
       "144               Bsmt Exposure   4131.457485   4131.457485\n",
       "134               Sale Type_New   4072.044164   4072.044164\n",
       "24    Garage Area Open Porch SF   4046.189213   4046.189213\n",
       "148                Kitchen Qual   3925.880697   3925.880697\n",
       "140                  Exter Qual   3831.945229   3831.945229\n",
       "142                   Bsmt Qual   3785.736918   3785.736918\n",
       "2                   Garage Area  -3670.823303   3670.823303\n",
       "155              Bsmt Full Bath   3256.878661   3256.878661\n",
       "11     Gr Liv Area Mas Vnr Area   3071.279299   3071.279299\n",
       "29               Mas Vnr Area^2  -3034.815093   3034.815093\n",
       "99         Exterior 1st_BrkFace   2963.471903   2963.471903\n",
       "127            Garage Type_None   2874.228067   2874.228067\n",
       "6                 Open Porch SF  -2678.235369   2678.235369\n",
       "52         Neighborhood_Crawfor   2441.625436   2441.625436\n",
       "151                 Garage Qual   2347.695857   2347.695857\n",
       "56         Neighborhood_GrnHill   2253.039050   2253.039050\n",
       "77             Condition 1_PosA   2160.047993   2160.047993"
      ]
     },
     "execution_count": 86,
     "metadata": {},
     "output_type": "execute_result"
    }
   ],
   "source": [
    "lasso_coefs = pd.DataFrame({'variable': X[features].columns,\n",
    "                            'coef': lasso.coef_,\n",
    "                            'abs_coef': np.abs(lasso.coef_)})\n",
    "lasso_coefs.sort_values('abs_coef', inplace=True, ascending=False)\n",
    "lasso_coefs.head(30)"
   ]
  },
  {
   "cell_type": "code",
   "execution_count": 87,
   "metadata": {},
   "outputs": [],
   "source": [
    "zero_coef_vars = list(lasso_coefs[lasso_coefs['abs_coef'] == 0]['variable'])"
   ]
  },
  {
   "cell_type": "markdown",
   "metadata": {},
   "source": [
    "### Model scoring"
   ]
  },
  {
   "cell_type": "code",
   "execution_count": 88,
   "metadata": {},
   "outputs": [],
   "source": [
    "lr = LinearRegression()\n",
    "linreg_scores = cross_val_score(lr, X_train, y_train, cv=10)\n"
   ]
  },
  {
   "cell_type": "code",
   "execution_count": 89,
   "metadata": {},
   "outputs": [
    {
     "data": {
      "text/plain": [
       "0.9107022117568541"
      ]
     },
     "execution_count": 89,
     "metadata": {},
     "output_type": "execute_result"
    }
   ],
   "source": [
    "linreg_scores.mean()"
   ]
  },
  {
   "cell_type": "code",
   "execution_count": 90,
   "metadata": {},
   "outputs": [
    {
     "name": "stdout",
     "output_type": "stream",
     "text": [
      "lr_rmse: 23891.142701776815\n",
      "lasso_rmse: 22097.805793542546\n",
      "ridge_rmse: 23324.57635448145\n",
      "\n",
      "lr_adj_r2 score: 0.9057774284266177\n",
      "lasso_adj_r2 score: 0.9193917647460038\n",
      "ridge_adj_r2 score: 0.9101933209149107\n"
     ]
    }
   ],
   "source": [
    "lr_rmse = print('lr_rmse:', np.sqrt(mean_squared_error(y_test,lr_pred)))\n",
    "lasso_rmse = print('lasso_rmse:', np.sqrt(mean_squared_error(y_test,lasso_pred)))\n",
    "ridge_rmse = print('ridge_rmse:', np.sqrt(mean_squared_error(y_test,ridge_pred)))\n",
    "print('')\n",
    "\n",
    "n = X_train_scaled.shape[0]\n",
    "p = X_train_scaled.shape[1]\n",
    "\n",
    "print('lr_adj_r2 score:', 1-(1-r2_score(y_test,lr_pred))*(n-1)/(n-p-1))\n",
    "print('lasso_adj_r2 score:', 1-(1-r2_score(y_test,lasso_pred))*(n-1)/(n-p-1))\n",
    "print('ridge_adj_r2 score:', 1-(1-r2_score(y_test,ridge_pred))*(n-1)/(n-p-1))"
   ]
  },
  {
   "cell_type": "markdown",
   "metadata": {},
   "source": [
    "Lasso performs the best"
   ]
  },
  {
   "cell_type": "markdown",
   "metadata": {},
   "source": [
    "### Cleaning test data"
   ]
  },
  {
   "cell_type": "code",
   "execution_count": 91,
   "metadata": {},
   "outputs": [],
   "source": [
    "df_test = pd.read_csv('../data/test.csv')\n",
    "df_test_ID = df_test['Id']\n",
    "df_test.drop(['Id', 'PID'], axis = 1, inplace = True)"
   ]
  },
  {
   "cell_type": "code",
   "execution_count": 92,
   "metadata": {},
   "outputs": [
    {
     "data": {
      "text/html": [
       "<div>\n",
       "<style scoped>\n",
       "    .dataframe tbody tr th:only-of-type {\n",
       "        vertical-align: middle;\n",
       "    }\n",
       "\n",
       "    .dataframe tbody tr th {\n",
       "        vertical-align: top;\n",
       "    }\n",
       "\n",
       "    .dataframe thead th {\n",
       "        text-align: right;\n",
       "    }\n",
       "</style>\n",
       "<table border=\"1\" class=\"dataframe\">\n",
       "  <thead>\n",
       "    <tr style=\"text-align: right;\">\n",
       "      <th></th>\n",
       "      <th>missing_count</th>\n",
       "      <th>missing_percentage</th>\n",
       "    </tr>\n",
       "  </thead>\n",
       "  <tbody>\n",
       "    <tr>\n",
       "      <td>Pool QC</td>\n",
       "      <td>875</td>\n",
       "      <td>99.544937</td>\n",
       "    </tr>\n",
       "    <tr>\n",
       "      <td>Misc Feature</td>\n",
       "      <td>838</td>\n",
       "      <td>95.335609</td>\n",
       "    </tr>\n",
       "    <tr>\n",
       "      <td>Alley</td>\n",
       "      <td>821</td>\n",
       "      <td>93.401593</td>\n",
       "    </tr>\n",
       "    <tr>\n",
       "      <td>Fence</td>\n",
       "      <td>707</td>\n",
       "      <td>80.432309</td>\n",
       "    </tr>\n",
       "    <tr>\n",
       "      <td>Fireplace Qu</td>\n",
       "      <td>422</td>\n",
       "      <td>48.009101</td>\n",
       "    </tr>\n",
       "    <tr>\n",
       "      <td>Lot Frontage</td>\n",
       "      <td>160</td>\n",
       "      <td>18.202503</td>\n",
       "    </tr>\n",
       "    <tr>\n",
       "      <td>Garage Cond</td>\n",
       "      <td>45</td>\n",
       "      <td>5.119454</td>\n",
       "    </tr>\n",
       "    <tr>\n",
       "      <td>Garage Qual</td>\n",
       "      <td>45</td>\n",
       "      <td>5.119454</td>\n",
       "    </tr>\n",
       "    <tr>\n",
       "      <td>Garage Yr Blt</td>\n",
       "      <td>45</td>\n",
       "      <td>5.119454</td>\n",
       "    </tr>\n",
       "    <tr>\n",
       "      <td>Garage Finish</td>\n",
       "      <td>45</td>\n",
       "      <td>5.119454</td>\n",
       "    </tr>\n",
       "    <tr>\n",
       "      <td>Garage Type</td>\n",
       "      <td>44</td>\n",
       "      <td>5.005688</td>\n",
       "    </tr>\n",
       "    <tr>\n",
       "      <td>BsmtFin Type 1</td>\n",
       "      <td>25</td>\n",
       "      <td>2.844141</td>\n",
       "    </tr>\n",
       "    <tr>\n",
       "      <td>BsmtFin Type 2</td>\n",
       "      <td>25</td>\n",
       "      <td>2.844141</td>\n",
       "    </tr>\n",
       "    <tr>\n",
       "      <td>Bsmt Qual</td>\n",
       "      <td>25</td>\n",
       "      <td>2.844141</td>\n",
       "    </tr>\n",
       "    <tr>\n",
       "      <td>Bsmt Cond</td>\n",
       "      <td>25</td>\n",
       "      <td>2.844141</td>\n",
       "    </tr>\n",
       "    <tr>\n",
       "      <td>Bsmt Exposure</td>\n",
       "      <td>25</td>\n",
       "      <td>2.844141</td>\n",
       "    </tr>\n",
       "    <tr>\n",
       "      <td>Electrical</td>\n",
       "      <td>1</td>\n",
       "      <td>0.113766</td>\n",
       "    </tr>\n",
       "    <tr>\n",
       "      <td>Mas Vnr Area</td>\n",
       "      <td>1</td>\n",
       "      <td>0.113766</td>\n",
       "    </tr>\n",
       "    <tr>\n",
       "      <td>Mas Vnr Type</td>\n",
       "      <td>1</td>\n",
       "      <td>0.113766</td>\n",
       "    </tr>\n",
       "  </tbody>\n",
       "</table>\n",
       "</div>"
      ],
      "text/plain": [
       "                missing_count  missing_percentage\n",
       "Pool QC                   875           99.544937\n",
       "Misc Feature              838           95.335609\n",
       "Alley                     821           93.401593\n",
       "Fence                     707           80.432309\n",
       "Fireplace Qu              422           48.009101\n",
       "Lot Frontage              160           18.202503\n",
       "Garage Cond                45            5.119454\n",
       "Garage Qual                45            5.119454\n",
       "Garage Yr Blt              45            5.119454\n",
       "Garage Finish              45            5.119454\n",
       "Garage Type                44            5.005688\n",
       "BsmtFin Type 1             25            2.844141\n",
       "BsmtFin Type 2             25            2.844141\n",
       "Bsmt Qual                  25            2.844141\n",
       "Bsmt Cond                  25            2.844141\n",
       "Bsmt Exposure              25            2.844141\n",
       "Electrical                  1            0.113766\n",
       "Mas Vnr Area                1            0.113766\n",
       "Mas Vnr Type                1            0.113766"
      ]
     },
     "execution_count": 92,
     "metadata": {},
     "output_type": "execute_result"
    }
   ],
   "source": [
    "missing_cols = get_missing_cols(df_test)\n",
    "missing_cols"
   ]
  },
  {
   "cell_type": "code",
   "execution_count": 93,
   "metadata": {},
   "outputs": [],
   "source": [
    "handle_missing_data(df_test, missing_cols);"
   ]
  },
  {
   "cell_type": "code",
   "execution_count": 94,
   "metadata": {},
   "outputs": [],
   "source": [
    "# Label Encode\n",
    "for col in ordinal_cat_ranking:\n",
    "    df_test[col] = df_test[col].map(lambda x: ordinal_cat_ranking[col].index(x) + 1)"
   ]
  },
  {
   "cell_type": "code",
   "execution_count": 95,
   "metadata": {},
   "outputs": [],
   "source": [
    "df_test[filtered_discrete_cols] = df_test[filtered_discrete_cols].astype(int) # Convert all discrete values to integer"
   ]
  },
  {
   "cell_type": "code",
   "execution_count": 96,
   "metadata": {},
   "outputs": [],
   "source": [
    "df_test = df_test.join(pd.get_dummies(df_test[filtered_nominal_cols].astype(str)))"
   ]
  },
  {
   "cell_type": "code",
   "execution_count": 97,
   "metadata": {},
   "outputs": [],
   "source": [
    "# polynominal\n",
    "poly = PolynomialFeatures(include_bias=False)\n",
    "X_poly = poly.fit_transform(df_test[cols_to_poly])\n",
    "df_poly = pd.DataFrame(X_poly, columns=poly.get_feature_names(cols_to_poly))\n",
    "df_test = df_test.reset_index()\n",
    "df_test = pd.concat([df_test, df_poly[remain_cols]], axis=1, sort=False)"
   ]
  },
  {
   "cell_type": "markdown",
   "metadata": {},
   "source": [
    "Tried removing features with zero lasso coef but does not improve model."
   ]
  },
  {
   "cell_type": "code",
   "execution_count": 98,
   "metadata": {},
   "outputs": [],
   "source": [
    "# features = [var for var in features if var not in zero_coef_vars]"
   ]
  },
  {
   "cell_type": "code",
   "execution_count": 99,
   "metadata": {},
   "outputs": [],
   "source": [
    "features = list(lasso_coefs['variable'].values)"
   ]
  },
  {
   "cell_type": "code",
   "execution_count": 100,
   "metadata": {},
   "outputs": [
    {
     "data": {
      "text/plain": [
       "164"
      ]
     },
     "execution_count": 100,
     "metadata": {},
     "output_type": "execute_result"
    }
   ],
   "source": [
    "len(features)"
   ]
  },
  {
   "cell_type": "code",
   "execution_count": 101,
   "metadata": {},
   "outputs": [],
   "source": [
    "train, test = df[features].align(df_test, join='inner', axis=1)"
   ]
  },
  {
   "cell_type": "code",
   "execution_count": 102,
   "metadata": {},
   "outputs": [],
   "source": [
    "features = list(train.columns)"
   ]
  },
  {
   "cell_type": "code",
   "execution_count": 103,
   "metadata": {},
   "outputs": [
    {
     "data": {
      "text/plain": [
       "158"
      ]
     },
     "execution_count": 103,
     "metadata": {},
     "output_type": "execute_result"
    }
   ],
   "source": [
    "len(features)"
   ]
  },
  {
   "cell_type": "code",
   "execution_count": 104,
   "metadata": {},
   "outputs": [
    {
     "data": {
      "text/plain": [
       "(2041, 158)"
      ]
     },
     "execution_count": 104,
     "metadata": {},
     "output_type": "execute_result"
    }
   ],
   "source": [
    "train.shape"
   ]
  },
  {
   "cell_type": "markdown",
   "metadata": {},
   "source": [
    "### Fitting-test-data"
   ]
  },
  {
   "cell_type": "code",
   "execution_count": 105,
   "metadata": {},
   "outputs": [],
   "source": [
    "ss = StandardScaler()\n",
    "train_scaled = ss.fit_transform(train)\n",
    "test_scaled = ss.transform(test)"
   ]
  },
  {
   "cell_type": "code",
   "execution_count": 106,
   "metadata": {},
   "outputs": [],
   "source": [
    "lr = LinearRegression()\n",
    "lr.fit(train, y)\n",
    "lr_pred=lr.predict(test)"
   ]
  },
  {
   "cell_type": "code",
   "execution_count": 107,
   "metadata": {},
   "outputs": [
    {
     "name": "stderr",
     "output_type": "stream",
     "text": [
      "/usr/local/anaconda3/lib/python3.7/site-packages/sklearn/model_selection/_split.py:1978: FutureWarning: The default value of cv will change from 3 to 5 in version 0.22. Specify it explicitly to silence this warning.\n",
      "  warnings.warn(CV_WARNING, FutureWarning)\n"
     ]
    }
   ],
   "source": [
    "lasso = LassoCV(n_alphas=10000)\n",
    "lasso.fit(train_scaled,y)\n",
    "lasso_pred=lasso.predict(test_scaled)"
   ]
  },
  {
   "cell_type": "code",
   "execution_count": 108,
   "metadata": {},
   "outputs": [],
   "source": [
    "ridge = RidgeCV(alphas=np.linspace(.1, 10, 100))\n",
    "ridge.fit(train_scaled,y)\n",
    "ridge_pred=ridge.predict(test_scaled)"
   ]
  },
  {
   "cell_type": "markdown",
   "metadata": {},
   "source": [
    "### Top coefficient"
   ]
  },
  {
   "cell_type": "markdown",
   "metadata": {},
   "source": [
    "Top 20 most important coefficient for Ridge"
   ]
  },
  {
   "cell_type": "code",
   "execution_count": 109,
   "metadata": {},
   "outputs": [
    {
     "data": {
      "text/plain": [
       "<matplotlib.axes._subplots.AxesSubplot at 0x1a1d12b210>"
      ]
     },
     "execution_count": 109,
     "metadata": {},
     "output_type": "execute_result"
    },
    {
     "data": {
      "image/png": "[encoded data removed]",
      "text/plain": [
       "<Figure size 1080x504 with 1 Axes>"
      ]
     },
     "metadata": {
      "needs_background": "light"
     },
     "output_type": "display_data"
    }
   ],
   "source": [
    "pd.Series(ridge.coef_[:20], index=features[:20]).sort_values(ascending=False).plot.bar(figsize=(15, 7))"
   ]
  },
  {
   "cell_type": "markdown",
   "metadata": {},
   "source": [
    "Top 20 most important coefficient for Lasso: "
   ]
  },
  {
   "cell_type": "code",
   "execution_count": 110,
   "metadata": {},
   "outputs": [
    {
     "data": {
      "text/plain": [
       "<matplotlib.axes._subplots.AxesSubplot at 0x1a1efa0990>"
      ]
     },
     "execution_count": 110,
     "metadata": {},
     "output_type": "execute_result"
    },
    {
     "data": {
      "image/png": "[encoded data removed]",
      "text/plain": [
       "<Figure size 1080x504 with 1 Axes>"
      ]
     },
     "metadata": {
      "needs_background": "light"
     },
     "output_type": "display_data"
    }
   ],
   "source": [
    "pd.Series(lasso.coef_[:20], index=features[:20]).sort_values(ascending=False).plot.bar(figsize=(15, 7))"
   ]
  },
  {
   "cell_type": "markdown",
   "metadata": {},
   "source": [
    "### Output-results-to-csv"
   ]
  },
  {
   "cell_type": "code",
   "execution_count": 111,
   "metadata": {},
   "outputs": [],
   "source": [
    "def convert_pred_to_csv(pred, model_type='lr'):\n",
    "    final = pd.DataFrame([df_test_ID, pred]).T\n",
    "    final['Id'] = final['Id'].astype(int)    \n",
    "    final.rename(columns={'Unnamed 0': 'SalePrice'}, inplace= True)  \n",
    "    final.to_csv('../data/{}_submission.csv'.format(model_type), index=False)    \n",
    "    return final"
   ]
  },
  {
   "cell_type": "code",
   "execution_count": 112,
   "metadata": {},
   "outputs": [
    {
     "data": {
      "text/html": [
       "<div>\n",
       "<style scoped>\n",
       "    .dataframe tbody tr th:only-of-type {\n",
       "        vertical-align: middle;\n",
       "    }\n",
       "\n",
       "    .dataframe tbody tr th {\n",
       "        vertical-align: top;\n",
       "    }\n",
       "\n",
       "    .dataframe thead th {\n",
       "        text-align: right;\n",
       "    }\n",
       "</style>\n",
       "<table border=\"1\" class=\"dataframe\">\n",
       "  <thead>\n",
       "    <tr style=\"text-align: right;\">\n",
       "      <th></th>\n",
       "      <th>Id</th>\n",
       "      <th>SalePrice</th>\n",
       "    </tr>\n",
       "  </thead>\n",
       "  <tbody>\n",
       "    <tr>\n",
       "      <td>0</td>\n",
       "      <td>2658</td>\n",
       "      <td>135551.147086</td>\n",
       "    </tr>\n",
       "    <tr>\n",
       "      <td>1</td>\n",
       "      <td>2718</td>\n",
       "      <td>163553.120220</td>\n",
       "    </tr>\n",
       "    <tr>\n",
       "      <td>2</td>\n",
       "      <td>2414</td>\n",
       "      <td>218446.346901</td>\n",
       "    </tr>\n",
       "    <tr>\n",
       "      <td>3</td>\n",
       "      <td>1989</td>\n",
       "      <td>100281.476885</td>\n",
       "    </tr>\n",
       "    <tr>\n",
       "      <td>4</td>\n",
       "      <td>625</td>\n",
       "      <td>175861.255289</td>\n",
       "    </tr>\n",
       "    <tr>\n",
       "      <td>...</td>\n",
       "      <td>...</td>\n",
       "      <td>...</td>\n",
       "    </tr>\n",
       "    <tr>\n",
       "      <td>874</td>\n",
       "      <td>1662</td>\n",
       "      <td>192136.946147</td>\n",
       "    </tr>\n",
       "    <tr>\n",
       "      <td>875</td>\n",
       "      <td>1234</td>\n",
       "      <td>213974.487428</td>\n",
       "    </tr>\n",
       "    <tr>\n",
       "      <td>876</td>\n",
       "      <td>1373</td>\n",
       "      <td>121627.482549</td>\n",
       "    </tr>\n",
       "    <tr>\n",
       "      <td>877</td>\n",
       "      <td>1672</td>\n",
       "      <td>110098.363799</td>\n",
       "    </tr>\n",
       "    <tr>\n",
       "      <td>878</td>\n",
       "      <td>1939</td>\n",
       "      <td>127312.693550</td>\n",
       "    </tr>\n",
       "  </tbody>\n",
       "</table>\n",
       "<p>879 rows × 2 columns</p>\n",
       "</div>"
      ],
      "text/plain": [
       "       Id      SalePrice\n",
       "0    2658  135551.147086\n",
       "1    2718  163553.120220\n",
       "2    2414  218446.346901\n",
       "3    1989  100281.476885\n",
       "4     625  175861.255289\n",
       "..    ...            ...\n",
       "874  1662  192136.946147\n",
       "875  1234  213974.487428\n",
       "876  1373  121627.482549\n",
       "877  1672  110098.363799\n",
       "878  1939  127312.693550\n",
       "\n",
       "[879 rows x 2 columns]"
      ]
     },
     "execution_count": 112,
     "metadata": {},
     "output_type": "execute_result"
    }
   ],
   "source": [
    "convert_pred_to_csv(lr_pred)\n",
    "convert_pred_to_csv(lasso_pred,'lasso')\n",
    "convert_pred_to_csv(ridge_pred,'ridge')"
   ]
  },
  {
   "cell_type": "code",
   "execution_count": 113,
   "metadata": {},
   "outputs": [
    {
     "data": {
      "text/html": [
       "<div>\n",
       "<style scoped>\n",
       "    .dataframe tbody tr th:only-of-type {\n",
       "        vertical-align: middle;\n",
       "    }\n",
       "\n",
       "    .dataframe tbody tr th {\n",
       "        vertical-align: top;\n",
       "    }\n",
       "\n",
       "    .dataframe thead th {\n",
       "        text-align: right;\n",
       "    }\n",
       "</style>\n",
       "<table border=\"1\" class=\"dataframe\">\n",
       "  <thead>\n",
       "    <tr style=\"text-align: right;\">\n",
       "      <th></th>\n",
       "      <th>Id</th>\n",
       "      <th>SalePrice</th>\n",
       "    </tr>\n",
       "  </thead>\n",
       "  <tbody>\n",
       "    <tr>\n",
       "      <td>count</td>\n",
       "      <td>879.000000</td>\n",
       "      <td>879.000000</td>\n",
       "    </tr>\n",
       "    <tr>\n",
       "      <td>mean</td>\n",
       "      <td>1445.588168</td>\n",
       "      <td>180865.817218</td>\n",
       "    </tr>\n",
       "    <tr>\n",
       "      <td>std</td>\n",
       "      <td>850.717105</td>\n",
       "      <td>78544.312076</td>\n",
       "    </tr>\n",
       "    <tr>\n",
       "      <td>min</td>\n",
       "      <td>2.000000</td>\n",
       "      <td>36917.246320</td>\n",
       "    </tr>\n",
       "    <tr>\n",
       "      <td>25%</td>\n",
       "      <td>692.500000</td>\n",
       "      <td>128029.716872</td>\n",
       "    </tr>\n",
       "    <tr>\n",
       "      <td>50%</td>\n",
       "      <td>1435.000000</td>\n",
       "      <td>159631.574116</td>\n",
       "    </tr>\n",
       "    <tr>\n",
       "      <td>75%</td>\n",
       "      <td>2197.000000</td>\n",
       "      <td>217841.472009</td>\n",
       "    </tr>\n",
       "    <tr>\n",
       "      <td>max</td>\n",
       "      <td>2928.000000</td>\n",
       "      <td>802094.659002</td>\n",
       "    </tr>\n",
       "  </tbody>\n",
       "</table>\n",
       "</div>"
      ],
      "text/plain": [
       "                Id      SalePrice\n",
       "count   879.000000     879.000000\n",
       "mean   1445.588168  180865.817218\n",
       "std     850.717105   78544.312076\n",
       "min       2.000000   36917.246320\n",
       "25%     692.500000  128029.716872\n",
       "50%    1435.000000  159631.574116\n",
       "75%    2197.000000  217841.472009\n",
       "max    2928.000000  802094.659002"
      ]
     },
     "execution_count": 113,
     "metadata": {},
     "output_type": "execute_result"
    }
   ],
   "source": [
    "convert_pred_to_csv(lasso_pred).describe()"
   ]
  },
  {
   "cell_type": "code",
   "execution_count": null,
   "metadata": {},
   "outputs": [],
   "source": []
  }
 ],
 "metadata": {
  "kernelspec": {
   "display_name": "Python 3",
   "language": "python",
   "name": "python3"
  },
  "language_info": {
   "codemirror_mode": {
    "name": "ipython",
    "version": 3
   },
   "file_extension": ".py",
   "mimetype": "text/x-python",
   "name": "python",
   "nbconvert_exporter": "python",
   "pygments_lexer": "ipython3",
   "version": "3.7.4"
  }
 },
 "nbformat": 4,
 "nbformat_minor": 2
}
