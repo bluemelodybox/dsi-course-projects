{
 "cells": [
  {
   "cell_type": "markdown",
   "metadata": {},
   "source": [
    "# Project 3: Web APIs & Classification\n",
    "## Problem Statement\n",
    "The intend of this project is to build different classification models that can accurately classify between subreddit topics based on text posts and find out which model gives the best accuracy.\n",
    "\n",
    "### General approach\n",
    "- Scrape subreddit data\n",
    "- Clean text, lemmatize and remove stopwords\n",
    "- Convert processed text to vectors using countvectorizor or tf-idf\n",
    "- Perform grid search over all parameters for all models\n",
    "- Evaluate models base on accuracy score\n",
    "- Find out frequently occuring words that are classified correctly and wrongly\n"
   ]
  },
  {
   "cell_type": "code",
   "execution_count": 1,
   "metadata": {},
   "outputs": [],
   "source": [
    "import pandas as pd\n",
    "import numpy as np\n",
    "import requests\n",
    "import time\n",
    "import random\n",
    "import matplotlib.pyplot as plt\n",
    "from pprint import pprint\n",
    "from collections import Counter\n",
    "from nltk.corpus import stopwords # Import the stop word list\n",
    "from nltk.stem.porter import PorterStemmer\n",
    "from sklearn.model_selection import train_test_split, GridSearchCV\n",
    "from sklearn.feature_extraction.text import CountVectorizer, TfidfTransformer\n",
    "from sklearn.linear_model import LogisticRegression\n",
    "from sklearn.pipeline import Pipeline\n",
    "from sklearn.metrics import confusion_matrix\n",
    "from sklearn.naive_bayes import MultinomialNB\n",
    "from sklearn.neighbors import KNeighborsClassifier\n",
    "from sklearn.ensemble import RandomForestClassifier, ExtraTreesClassifier, GradientBoostingClassifier, AdaBoostClassifier\n",
    "import regex as re\n"
   ]
  },
  {
   "cell_type": "markdown",
   "metadata": {},
   "source": [
    "- Get subreddit data from local drive. If not found, proceed to scrape from reddit website."
   ]
  },
  {
   "cell_type": "code",
   "execution_count": 2,
   "metadata": {},
   "outputs": [],
   "source": [
    "def get_subreddit_data(subreddit):\n",
    "    try: df = pd.read_csv(f'data/{subreddit}.csv', index_col=0)\n",
    "    except OSError: \n",
    "        print(f'{subreddit} not found, proceed to scrape')\n",
    "        df = scrape_subreddit(subreddit) # scrape subreddit if csv not found\n",
    "    return df"
   ]
  },
  {
   "cell_type": "markdown",
   "metadata": {},
   "source": [
    "- Function to scrape from reddit website"
   ]
  },
  {
   "cell_type": "code",
   "execution_count": 3,
   "metadata": {},
   "outputs": [],
   "source": [
    "def scrape_subreddit(subreddit):\n",
    "    posts = []\n",
    "    url = current_url = f'https://reddit.com/r/{subreddit}.json'\n",
    "    print(f'Scraping {subreddit}...')\n",
    "    for _ in range(40): # 25*40 = 1000\n",
    "        res = requests.get(current_url, headers={'User-agent': 'Pony Inc 1.0'})\n",
    "        if res.status_code != 200:\n",
    "            print('Status error', res.status_code)\n",
    "            break\n",
    "        current_dict = res.json()\n",
    "        after = current_dict['data']['after']\n",
    "        if after:\n",
    "            current_url = f'{url}?after={after}'\n",
    "            current_posts = [p['data'] for p in current_dict['data']['children']]\n",
    "            posts.extend(current_posts)\n",
    "            print(f'Scrapped {len(posts)} post...')\n",
    "            sleep_duration = random.randint(2,6)\n",
    "            time.sleep(sleep_duration)\n",
    "        else: break  # Break out of loop if after is None\n",
    "    pd.DataFrame(posts).to_csv(f'data/{subreddit}.csv') # Save posts to ./data/csv\n",
    "    print()\n",
    "    return pd.DataFrame(posts)     "
   ]
  },
  {
   "cell_type": "markdown",
   "metadata": {},
   "source": [
    "- Function to clean reddit data"
   ]
  },
  {
   "cell_type": "code",
   "execution_count": 4,
   "metadata": {},
   "outputs": [],
   "source": [
    "def clean_text(raw_text, customize_stops):\n",
    "    raw_text = re.sub(r'http[s]{0,1}://[^\\s]*', '', raw_text) # Strip urls\n",
    "    letters_only = re.sub(\"[^a-zA-Z]\", \" \", raw_text) # Remove non-letters\n",
    "    \n",
    "    words = letters_only.lower().split() # Convert to lower case, split to individual words\n",
    "    stops = set(stopwords.words('english')) # Default storpwords\n",
    "    stops.update(customize_stops) # Add customize stopwords\n",
    "    meaningful_words = [w for w in words if w not in stops]  \n",
    "    p_stemmer = PorterStemmer()\n",
    "    meaningful_words = [p_stemmer.stem(i) for i in meaningful_words] # Stem words\n",
    "    \n",
    "    return(\" \".join(meaningful_words))"
   ]
  },
  {
   "cell_type": "markdown",
   "metadata": {},
   "source": [
    "- Main functions \n",
    "(Output of get_clean_subreddits is the input of classify_subreddits)"
   ]
  },
  {
   "cell_type": "code",
   "execution_count": 5,
   "metadata": {},
   "outputs": [],
   "source": [
    "def get_clean_subreddits(subreddit_0, subreddit_1, customize_stops={}):\n",
    "    df_0 = get_subreddit_data(subreddit_0)\n",
    "    df_1 = get_subreddit_data(subreddit_1)\n",
    "    print()\n",
    "    print(f'Number of rows in subreddit {subreddit_0} : {df_0.shape[0]}')\n",
    "    print(f'Number of rows in subreddit {subreddit_1} : {df_1.shape[0]}')\n",
    "    df = pd.concat([df_0, df_1], sort=False)  # concat df of 2 subreddits\n",
    "    df = df.reset_index().drop(columns='index')\n",
    "    df['selftext'] = df['selftext'].fillna('')  # fillna values with ''\n",
    "    df['text'] = df[['selftext','title']].astype(str).apply(''.join,1)  # join selftext and title columns \n",
    "    df['text'] = df['text'].apply(clean_text, customize_stops=customize_stops)  # apply clean_text function to text\n",
    "    X = df['text']\n",
    "    y = df['subreddit']\n",
    "    print(f'Baseline accuracy: {y.value_counts(normalize=True).max()}')\n",
    "    print()\n",
    "    print('Displaying first 5 rows of cleaned data and labels...')\n",
    "    display(df[['text','subreddit']].head())\n",
    "    \n",
    "    return X,y,df"
   ]
  },
  {
   "cell_type": "code",
   "execution_count": 6,
   "metadata": {},
   "outputs": [],
   "source": [
    "def classify_subreddits(X, y, model='lr'):\n",
    "    \n",
    "    # train test split\n",
    "    X_train, X_test, y_train, y_test = train_test_split(X, y, stratify = y, random_state = 42)\n",
    "    models = {\n",
    "        'lr': LogisticRegression(solver='lbfgs'),\n",
    "        'knn': KNeighborsClassifier(),\n",
    "        'nb': MultinomialNB(),\n",
    "        'rf': RandomForestClassifier(),\n",
    "        'et': ExtraTreesClassifier(),\n",
    "        'ada': AdaBoostClassifier(),\n",
    "        'gb': GradientBoostingClassifier()\n",
    "    }\n",
    "    \n",
    "    # Building a pipeline\n",
    "    pipeline = Pipeline([\n",
    "        ('cvec', CountVectorizer()),\n",
    "        ('tfidf', TfidfTransformer()),\n",
    "        (model, models[model])\n",
    "    ])\n",
    "    \n",
    "    # Setting base pipeline parameters\n",
    "    parameters = {\n",
    "        'cvec__max_df': (0.5, 1.0), # Ignore words more than x% \n",
    "        'cvec__max_features': (2500, 5000, 10000),\n",
    "        'cvec__ngram_range': ((1, 1), (1, 2)),  # unigrams or bigrams\n",
    "        'tfidf__use_idf': (True, False)\n",
    "    }\n",
    "    \n",
    "    # Additional parameters for different models\n",
    "    if model == 'lr':\n",
    "        parameters.update({'lr__penalty': ('none','l2')})\n",
    "    elif model == 'knn':\n",
    "        parameters.update({\n",
    "            'knn__n_neighbors':[3,5,11],\n",
    "            'knn__weights':['uniform','distance'],\n",
    "#             'knn__metric':['euclidean','manhattan']\n",
    "        })\n",
    "    elif model == 'nb':\n",
    "        parameters.update({'nb__alpha':(1,2)})\n",
    "    \n",
    "    elif model == 'rf':\n",
    "        parameters.update({\n",
    "            'rf__n_estimators': [100,150],\n",
    "            'rf__max_depth': [1,2,None]\n",
    "        })\n",
    "    elif model == 'et':\n",
    "        parameters.update({\n",
    "            'et__n_estimators': [50,100,150]\n",
    "        })\n",
    "    elif model == 'ada':\n",
    "        parameters.update({\n",
    "            'ada__n_estimators': [50,75,100]\n",
    "        })\n",
    "        \n",
    "    # Perfrom grid search\n",
    "    grid_search = GridSearchCV(pipeline, parameters, n_jobs=-1, verbose=1, cv=5)\n",
    "    print(\"Performing grid search...\")\n",
    "    print(\"pipeline:\", [name for name, _ in pipeline.steps])\n",
    "    print(\"parameters:\")\n",
    "    pprint(parameters)\n",
    "    print()\n",
    "    grid_search.fit(X_train, y_train)\n",
    "    \n",
    "    print(\"Best score: %0.3f\" % grid_search.best_score_)\n",
    "    print(\"Best parameters set:\")\n",
    "    best_parameters = grid_search.best_estimator_.get_params()\n",
    "    for param_name in sorted(parameters.keys()):\n",
    "        print(\"\\t%s: %r\" % (param_name, best_parameters[param_name]))\n",
    "    print()  \n",
    "    \n",
    "    # Retrain model using best parameters with entire train set\n",
    "    pipeline_final = Pipeline([\n",
    "        ('cvec', CountVectorizer()),\n",
    "        ('tfidf', TfidfTransformer()),\n",
    "        (model, models[model])\n",
    "    ])\n",
    "    pipeline_final.set_params(**grid_search.best_params_)\n",
    "    final_model = pipeline.fit(X_train,y_train)\n",
    "    print('Final model score')\n",
    "    print()\n",
    "    print(f'Train score: {final_model.score(X_train,y_train)}') \n",
    "    print(f'Test score: {final_model.score(X_test,y_test)}')\n",
    "    \n",
    "    predictions = final_model.predict(X_test)\n",
    "    confusion_matrix(y_test, predictions)\n",
    "    tn, fp, fn, tp = confusion_matrix(y_test, predictions).ravel()\n",
    "    print()\n",
    "    print(\"True Negatives: %s\" % tn)\n",
    "    print(\"False Positives: %s\" % fp)\n",
    "    print(\"False Negatives: %s\" % fn)\n",
    "    print(\"True Positives: %s\" % tp)\n",
    "    return X_test,y_test, final_model.predict(X_test)"
   ]
  },
  {
   "cell_type": "code",
   "execution_count": 7,
   "metadata": {},
   "outputs": [],
   "source": [
    "def run_all_models(X,y):\n",
    "    models = {\n",
    "    'lr': 'Logistic Regresson',\n",
    "    'knn': 'K Nearest Neighbours',\n",
    "    'nb': 'Naive Bayes',\n",
    "    'rf': 'Random Forest',\n",
    "    'et': 'Extra Trees',\n",
    "    'ada': 'Ada Boost',\n",
    "    }\n",
    "\n",
    "    models_pred = {m:None for m in models}\n",
    "\n",
    "    for model in models:\n",
    "        print(f'----------------------- {models[model]} ------------------------')\n",
    "        models_pred['text'],models_pred['label'],models_pred[model] = classify_subreddits(X, y, model=model)\n",
    "        print()\n",
    "\n",
    "    cols = ['text','lr','knn','nb','rf','et','ada','label']\n",
    "    model_df = pd.DataFrame(models_pred)[cols]\n",
    "    return model_df"
   ]
  },
  {
   "cell_type": "markdown",
   "metadata": {},
   "source": [
    "## Subreddit of Datascience and Learnprogramming"
   ]
  },
  {
   "cell_type": "code",
   "execution_count": 8,
   "metadata": {
    "scrolled": true
   },
   "outputs": [
    {
     "name": "stdout",
     "output_type": "stream",
     "text": [
      "\n",
      "Number of rows in subreddit datascience : 827\n",
      "Number of rows in subreddit learnprogramming : 976\n",
      "Baseline accuracy: 0.5413200221852468\n",
      "\n",
      "Displaying first 5 rows of cleaned data and labels...\n"
     ]
    },
    {
     "data": {
      "text/html": [
       "<div>\n",
       "<style scoped>\n",
       "    .dataframe tbody tr th:only-of-type {\n",
       "        vertical-align: middle;\n",
       "    }\n",
       "\n",
       "    .dataframe tbody tr th {\n",
       "        vertical-align: top;\n",
       "    }\n",
       "\n",
       "    .dataframe thead th {\n",
       "        text-align: right;\n",
       "    }\n",
       "</style>\n",
       "<table border=\"1\" class=\"dataframe\">\n",
       "  <thead>\n",
       "    <tr style=\"text-align: right;\">\n",
       "      <th></th>\n",
       "      <th>text</th>\n",
       "      <th>subreddit</th>\n",
       "    </tr>\n",
       "  </thead>\n",
       "  <tbody>\n",
       "    <tr>\n",
       "      <td>0</td>\n",
       "      <td>bleep bloop welcom week enter transit thread t...</td>\n",
       "      <td>datascience</td>\n",
       "    </tr>\n",
       "    <tr>\n",
       "      <td>1</td>\n",
       "      <td>r grown consider past year k subscrib jan k su...</td>\n",
       "      <td>datascience</td>\n",
       "    </tr>\n",
       "    <tr>\n",
       "      <td>2</td>\n",
       "      <td>hello everyon current scienc traine start amaz...</td>\n",
       "      <td>datascience</td>\n",
       "    </tr>\n",
       "    <tr>\n",
       "      <td>3</td>\n",
       "      <td>interview come task scientist actual dataset r...</td>\n",
       "      <td>datascience</td>\n",
       "    </tr>\n",
       "    <tr>\n",
       "      <td>4</td>\n",
       "      <td>hi everyon senior tax account one big four stu...</td>\n",
       "      <td>datascience</td>\n",
       "    </tr>\n",
       "  </tbody>\n",
       "</table>\n",
       "</div>"
      ],
      "text/plain": [
       "                                                text    subreddit\n",
       "0  bleep bloop welcom week enter transit thread t...  datascience\n",
       "1  r grown consider past year k subscrib jan k su...  datascience\n",
       "2  hello everyon current scienc traine start amaz...  datascience\n",
       "3  interview come task scientist actual dataset r...  datascience\n",
       "4  hi everyon senior tax account one big four stu...  datascience"
      ]
     },
     "metadata": {},
     "output_type": "display_data"
    }
   ],
   "source": [
    "X,y,df = get_clean_subreddits('datascience', 'learnprogramming', \n",
    "                    customize_stops={'datascience','learnprogramming','lt','gur','cur','gt','amp','data'})"
   ]
  },
  {
   "cell_type": "markdown",
   "metadata": {},
   "source": [
    "### Models"
   ]
  },
  {
   "cell_type": "code",
   "execution_count": 9,
   "metadata": {
    "scrolled": false
   },
   "outputs": [
    {
     "name": "stdout",
     "output_type": "stream",
     "text": [
      "----------------------- Logistic Regresson ------------------------\n",
      "Performing grid search...\n",
      "pipeline: ['cvec', 'tfidf', 'lr']\n",
      "parameters:\n",
      "{'cvec__max_df': (0.5, 1.0),\n",
      " 'cvec__max_features': (2500, 5000, 10000),\n",
      " 'cvec__ngram_range': ((1, 1), (1, 2)),\n",
      " 'lr__penalty': ('none', 'l2'),\n",
      " 'tfidf__use_idf': (True, False)}\n",
      "\n",
      "Fitting 5 folds for each of 48 candidates, totalling 240 fits\n"
     ]
    },
    {
     "name": "stderr",
     "output_type": "stream",
     "text": [
      "[Parallel(n_jobs=-1)]: Using backend LokyBackend with 8 concurrent workers.\n",
      "[Parallel(n_jobs=-1)]: Done  34 tasks      | elapsed:    3.5s\n",
      "[Parallel(n_jobs=-1)]: Done 184 tasks      | elapsed:    9.1s\n",
      "[Parallel(n_jobs=-1)]: Done 240 out of 240 | elapsed:   11.7s finished\n"
     ]
    },
    {
     "name": "stdout",
     "output_type": "stream",
     "text": [
      "Best score: 0.908\n",
      "Best parameters set:\n",
      "\tcvec__max_df: 0.5\n",
      "\tcvec__max_features: 2500\n",
      "\tcvec__ngram_range: (1, 1)\n",
      "\tlr__penalty: 'l2'\n",
      "\ttfidf__use_idf: True\n",
      "\n",
      "Final model score\n",
      "\n",
      "Train score: 0.9674556213017751\n",
      "Test score: 0.9068736141906873\n",
      "\n",
      "True Negatives: 176\n",
      "False Positives: 31\n",
      "False Negatives: 11\n",
      "True Positives: 233\n",
      "\n",
      "----------------------- K Nearest Neighbours ------------------------\n",
      "Performing grid search...\n",
      "pipeline: ['cvec', 'tfidf', 'knn']\n",
      "parameters:\n",
      "{'cvec__max_df': (0.5, 1.0),\n",
      " 'cvec__max_features': (2500, 5000, 10000),\n",
      " 'cvec__ngram_range': ((1, 1), (1, 2)),\n",
      " 'knn__n_neighbors': [3, 5, 11],\n",
      " 'knn__weights': ['uniform', 'distance'],\n",
      " 'tfidf__use_idf': (True, False)}\n",
      "\n",
      "Fitting 5 folds for each of 144 candidates, totalling 720 fits\n"
     ]
    },
    {
     "name": "stderr",
     "output_type": "stream",
     "text": [
      "[Parallel(n_jobs=-1)]: Using backend LokyBackend with 8 concurrent workers.\n",
      "[Parallel(n_jobs=-1)]: Done  52 tasks      | elapsed:    1.3s\n",
      "[Parallel(n_jobs=-1)]: Done 352 tasks      | elapsed:   14.1s\n",
      "[Parallel(n_jobs=-1)]: Done 720 out of 720 | elapsed:   28.7s finished\n"
     ]
    },
    {
     "name": "stdout",
     "output_type": "stream",
     "text": [
      "Best score: 0.861\n",
      "Best parameters set:\n",
      "\tcvec__max_df: 0.5\n",
      "\tcvec__max_features: 2500\n",
      "\tcvec__ngram_range: (1, 2)\n",
      "\tknn__n_neighbors: 11\n",
      "\tknn__weights: 'distance'\n",
      "\ttfidf__use_idf: True\n",
      "\n",
      "Final model score\n",
      "\n",
      "Train score: 1.0\n",
      "Test score: 0.893569844789357\n",
      "\n",
      "True Negatives: 170\n",
      "False Positives: 37\n",
      "False Negatives: 11\n",
      "True Positives: 233\n",
      "\n",
      "----------------------- Naive Bayes ------------------------\n",
      "Performing grid search...\n",
      "pipeline: ['cvec', 'tfidf', 'nb']\n",
      "parameters:\n",
      "{'cvec__max_df': (0.5, 1.0),\n",
      " 'cvec__max_features': (2500, 5000, 10000),\n",
      " 'cvec__ngram_range': ((1, 1), (1, 2)),\n",
      " 'nb__alpha': (1, 2),\n",
      " 'tfidf__use_idf': (True, False)}\n",
      "\n",
      "Fitting 5 folds for each of 48 candidates, totalling 240 fits\n"
     ]
    },
    {
     "name": "stderr",
     "output_type": "stream",
     "text": [
      "[Parallel(n_jobs=-1)]: Using backend LokyBackend with 8 concurrent workers.\n",
      "[Parallel(n_jobs=-1)]: Done  52 tasks      | elapsed:    1.7s\n",
      "[Parallel(n_jobs=-1)]: Done 240 out of 240 | elapsed:    9.1s finished\n"
     ]
    },
    {
     "name": "stdout",
     "output_type": "stream",
     "text": [
      "Best score: 0.896\n",
      "Best parameters set:\n",
      "\tcvec__max_df: 0.5\n",
      "\tcvec__max_features: 2500\n",
      "\tcvec__ngram_range: (1, 1)\n",
      "\tnb__alpha: 1\n",
      "\ttfidf__use_idf: True\n",
      "\n",
      "Final model score\n",
      "\n",
      "Train score: 0.9563609467455622\n",
      "Test score: 0.8824833702882483\n",
      "\n",
      "True Negatives: 160\n",
      "False Positives: 47\n",
      "False Negatives: 6\n",
      "True Positives: 238\n",
      "\n",
      "----------------------- Random Forest ------------------------\n",
      "Performing grid search...\n",
      "pipeline: ['cvec', 'tfidf', 'rf']\n",
      "parameters:\n",
      "{'cvec__max_df': (0.5, 1.0),\n",
      " 'cvec__max_features': (2500, 5000, 10000),\n",
      " 'cvec__ngram_range': ((1, 1), (1, 2)),\n",
      " 'rf__max_depth': [1, 2, None],\n",
      " 'rf__n_estimators': [100, 150],\n",
      " 'tfidf__use_idf': (True, False)}\n",
      "\n",
      "Fitting 5 folds for each of 144 candidates, totalling 720 fits\n"
     ]
    },
    {
     "name": "stderr",
     "output_type": "stream",
     "text": [
      "[Parallel(n_jobs=-1)]: Using backend LokyBackend with 8 concurrent workers.\n",
      "[Parallel(n_jobs=-1)]: Done  34 tasks      | elapsed:    2.1s\n",
      "[Parallel(n_jobs=-1)]: Done 184 tasks      | elapsed:   16.8s\n",
      "[Parallel(n_jobs=-1)]: Done 434 tasks      | elapsed:   41.9s\n",
      "[Parallel(n_jobs=-1)]: Done 720 out of 720 | elapsed:  1.2min finished\n"
     ]
    },
    {
     "name": "stdout",
     "output_type": "stream",
     "text": [
      "Best score: 0.903\n",
      "Best parameters set:\n",
      "\tcvec__max_df: 1.0\n",
      "\tcvec__max_features: 2500\n",
      "\tcvec__ngram_range: (1, 2)\n",
      "\trf__max_depth: None\n",
      "\trf__n_estimators: 150\n",
      "\ttfidf__use_idf: False\n",
      "\n",
      "Final model score\n",
      "\n",
      "Train score: 1.0\n",
      "Test score: 0.8957871396895787\n",
      "\n",
      "True Negatives: 172\n",
      "False Positives: 35\n",
      "False Negatives: 12\n",
      "True Positives: 232\n",
      "\n",
      "----------------------- Extra Trees ------------------------\n",
      "Performing grid search...\n",
      "pipeline: ['cvec', 'tfidf', 'et']\n",
      "parameters:\n",
      "{'cvec__max_df': (0.5, 1.0),\n",
      " 'cvec__max_features': (2500, 5000, 10000),\n",
      " 'cvec__ngram_range': ((1, 1), (1, 2)),\n",
      " 'et__n_estimators': [50, 100, 150],\n",
      " 'tfidf__use_idf': (True, False)}\n",
      "\n",
      "Fitting 5 folds for each of 72 candidates, totalling 360 fits\n"
     ]
    },
    {
     "name": "stderr",
     "output_type": "stream",
     "text": [
      "[Parallel(n_jobs=-1)]: Using backend LokyBackend with 8 concurrent workers.\n",
      "[Parallel(n_jobs=-1)]: Done  34 tasks      | elapsed:    3.6s\n",
      "[Parallel(n_jobs=-1)]: Done 184 tasks      | elapsed:   25.0s\n",
      "[Parallel(n_jobs=-1)]: Done 360 out of 360 | elapsed:   49.9s finished\n"
     ]
    },
    {
     "name": "stdout",
     "output_type": "stream",
     "text": [
      "Best score: 0.899\n",
      "Best parameters set:\n",
      "\tcvec__max_df: 0.5\n",
      "\tcvec__max_features: 2500\n",
      "\tcvec__ngram_range: (1, 2)\n",
      "\tet__n_estimators: 150\n",
      "\ttfidf__use_idf: False\n",
      "\n",
      "Final model score\n",
      "\n",
      "Train score: 1.0\n",
      "Test score: 0.8802660753880266\n",
      "\n",
      "True Negatives: 171\n",
      "False Positives: 36\n",
      "False Negatives: 18\n",
      "True Positives: 226\n",
      "\n",
      "----------------------- Ada Boost ------------------------\n",
      "Performing grid search...\n",
      "pipeline: ['cvec', 'tfidf', 'ada']\n",
      "parameters:\n",
      "{'ada__n_estimators': [50, 75, 100],\n",
      " 'cvec__max_df': (0.5, 1.0),\n",
      " 'cvec__max_features': (2500, 5000, 10000),\n",
      " 'cvec__ngram_range': ((1, 1), (1, 2)),\n",
      " 'tfidf__use_idf': (True, False)}\n",
      "\n",
      "Fitting 5 folds for each of 72 candidates, totalling 360 fits\n"
     ]
    },
    {
     "name": "stderr",
     "output_type": "stream",
     "text": [
      "[Parallel(n_jobs=-1)]: Using backend LokyBackend with 8 concurrent workers.\n",
      "[Parallel(n_jobs=-1)]: Done  34 tasks      | elapsed:    3.8s\n",
      "[Parallel(n_jobs=-1)]: Done 184 tasks      | elapsed:   23.6s\n",
      "[Parallel(n_jobs=-1)]: Done 360 out of 360 | elapsed:   55.4s finished\n"
     ]
    },
    {
     "name": "stdout",
     "output_type": "stream",
     "text": [
      "Best score: 0.862\n",
      "Best parameters set:\n",
      "\tada__n_estimators: 100\n",
      "\tcvec__max_df: 0.5\n",
      "\tcvec__max_features: 5000\n",
      "\tcvec__ngram_range: (1, 1)\n",
      "\ttfidf__use_idf: False\n",
      "\n",
      "Final model score\n",
      "\n",
      "Train score: 0.9704142011834319\n",
      "Test score: 0.8580931263858093\n",
      "\n",
      "True Negatives: 169\n",
      "False Positives: 38\n",
      "False Negatives: 26\n",
      "True Positives: 218\n",
      "\n"
     ]
    }
   ],
   "source": [
    "ds_lp_df = run_all_models(X,y)"
   ]
  },
  {
   "cell_type": "markdown",
   "metadata": {},
   "source": [
    "### Comparing results accross different models"
   ]
  },
  {
   "cell_type": "code",
   "execution_count": 10,
   "metadata": {},
   "outputs": [
    {
     "data": {
      "text/html": [
       "<div>\n",
       "<style scoped>\n",
       "    .dataframe tbody tr th:only-of-type {\n",
       "        vertical-align: middle;\n",
       "    }\n",
       "\n",
       "    .dataframe tbody tr th {\n",
       "        vertical-align: top;\n",
       "    }\n",
       "\n",
       "    .dataframe thead th {\n",
       "        text-align: right;\n",
       "    }\n",
       "</style>\n",
       "<table border=\"1\" class=\"dataframe\">\n",
       "  <thead>\n",
       "    <tr style=\"text-align: right;\">\n",
       "      <th></th>\n",
       "      <th>text</th>\n",
       "      <th>lr</th>\n",
       "      <th>knn</th>\n",
       "      <th>nb</th>\n",
       "      <th>rf</th>\n",
       "      <th>et</th>\n",
       "      <th>ada</th>\n",
       "      <th>label</th>\n",
       "    </tr>\n",
       "  </thead>\n",
       "  <tbody>\n",
       "    <tr>\n",
       "      <td>654</td>\n",
       "      <td>tri build classif model estim likelihood given...</td>\n",
       "      <td>datascience</td>\n",
       "      <td>datascience</td>\n",
       "      <td>datascience</td>\n",
       "      <td>datascience</td>\n",
       "      <td>datascience</td>\n",
       "      <td>datascience</td>\n",
       "      <td>datascience</td>\n",
       "    </tr>\n",
       "    <tr>\n",
       "      <td>413</td>\n",
       "      <td>work transact tri cluster user base featur num...</td>\n",
       "      <td>datascience</td>\n",
       "      <td>datascience</td>\n",
       "      <td>datascience</td>\n",
       "      <td>datascience</td>\n",
       "      <td>datascience</td>\n",
       "      <td>datascience</td>\n",
       "      <td>datascience</td>\n",
       "    </tr>\n",
       "    <tr>\n",
       "      <td>491</td>\n",
       "      <td>improv runtim perform directli import python e...</td>\n",
       "      <td>datascience</td>\n",
       "      <td>datascience</td>\n",
       "      <td>datascience</td>\n",
       "      <td>datascience</td>\n",
       "      <td>datascience</td>\n",
       "      <td>datascience</td>\n",
       "      <td>datascience</td>\n",
       "    </tr>\n",
       "    <tr>\n",
       "      <td>1709</td>\n",
       "      <td>new python simul blackjack game figur find num...</td>\n",
       "      <td>learnprogramming</td>\n",
       "      <td>learnprogramming</td>\n",
       "      <td>learnprogramming</td>\n",
       "      <td>learnprogramming</td>\n",
       "      <td>learnprogramming</td>\n",
       "      <td>learnprogramming</td>\n",
       "      <td>learnprogramming</td>\n",
       "    </tr>\n",
       "    <tr>\n",
       "      <td>629</td>\n",
       "      <td>scrape r made sampl machin learn project educ ...</td>\n",
       "      <td>learnprogramming</td>\n",
       "      <td>datascience</td>\n",
       "      <td>learnprogramming</td>\n",
       "      <td>learnprogramming</td>\n",
       "      <td>learnprogramming</td>\n",
       "      <td>learnprogramming</td>\n",
       "      <td>datascience</td>\n",
       "    </tr>\n",
       "  </tbody>\n",
       "</table>\n",
       "</div>"
      ],
      "text/plain": [
       "                                                   text                lr  \\\n",
       "654   tri build classif model estim likelihood given...       datascience   \n",
       "413   work transact tri cluster user base featur num...       datascience   \n",
       "491   improv runtim perform directli import python e...       datascience   \n",
       "1709  new python simul blackjack game figur find num...  learnprogramming   \n",
       "629   scrape r made sampl machin learn project educ ...  learnprogramming   \n",
       "\n",
       "                   knn                nb                rf                et  \\\n",
       "654        datascience       datascience       datascience       datascience   \n",
       "413        datascience       datascience       datascience       datascience   \n",
       "491        datascience       datascience       datascience       datascience   \n",
       "1709  learnprogramming  learnprogramming  learnprogramming  learnprogramming   \n",
       "629        datascience  learnprogramming  learnprogramming  learnprogramming   \n",
       "\n",
       "                   ada             label  \n",
       "654        datascience       datascience  \n",
       "413        datascience       datascience  \n",
       "491        datascience       datascience  \n",
       "1709  learnprogramming  learnprogramming  \n",
       "629   learnprogramming       datascience  "
      ]
     },
     "execution_count": 10,
     "metadata": {},
     "output_type": "execute_result"
    }
   ],
   "source": [
    "ds_lp_df.head()"
   ]
  },
  {
   "cell_type": "code",
   "execution_count": 11,
   "metadata": {},
   "outputs": [],
   "source": [
    "models = {\n",
    "    'lr': 'Logistic Regresson',\n",
    "    'knn': 'K Nearest Neighbours',\n",
    "    'nb': 'Naive Bayes',\n",
    "    'rf': 'Random Forest',\n",
    "    'et': 'Extra Trees',\n",
    "    'ada': 'Ada Boost',\n",
    "    }\n",
    "models_list = [m for m in models]"
   ]
  },
  {
   "cell_type": "code",
   "execution_count": 12,
   "metadata": {},
   "outputs": [
    {
     "data": {
      "text/plain": [
       "{'lr': 0.9068736141906873,\n",
       " 'knn': 0.893569844789357,\n",
       " 'nb': 0.8824833702882483,\n",
       " 'rf': 0.8957871396895787,\n",
       " 'et': 0.8802660753880266,\n",
       " 'ada': 0.8580931263858093}"
      ]
     },
     "execution_count": 12,
     "metadata": {},
     "output_type": "execute_result"
    }
   ],
   "source": [
    "model_scores = {model: len(ds_lp_df[ds_lp_df[model] == ds_lp_df['label']]) \n",
    "                / len(ds_lp_df) for model in models}\n",
    "model_scores"
   ]
  },
  {
   "cell_type": "code",
   "execution_count": 13,
   "metadata": {},
   "outputs": [],
   "source": [
    "ds_lp_df['lp_count'] = ds_lp_df[ds_lp_df[models_list] =='learnprogramming'].count(axis=1)\n",
    "ds_lp_df['ds_count'] = ds_lp_df[ds_lp_df[models_list] =='datascience'].count(axis=1)\n"
   ]
  },
  {
   "cell_type": "markdown",
   "metadata": {},
   "source": [
    "Text with different classifications among models"
   ]
  },
  {
   "cell_type": "code",
   "execution_count": 14,
   "metadata": {},
   "outputs": [
    {
     "data": {
      "text/html": [
       "<div>\n",
       "<style scoped>\n",
       "    .dataframe tbody tr th:only-of-type {\n",
       "        vertical-align: middle;\n",
       "    }\n",
       "\n",
       "    .dataframe tbody tr th {\n",
       "        vertical-align: top;\n",
       "    }\n",
       "\n",
       "    .dataframe thead th {\n",
       "        text-align: right;\n",
       "    }\n",
       "</style>\n",
       "<table border=\"1\" class=\"dataframe\">\n",
       "  <thead>\n",
       "    <tr style=\"text-align: right;\">\n",
       "      <th></th>\n",
       "      <th>text</th>\n",
       "      <th>lr</th>\n",
       "      <th>knn</th>\n",
       "      <th>nb</th>\n",
       "      <th>rf</th>\n",
       "      <th>et</th>\n",
       "      <th>ada</th>\n",
       "      <th>label</th>\n",
       "      <th>lp_count</th>\n",
       "      <th>ds_count</th>\n",
       "    </tr>\n",
       "  </thead>\n",
       "  <tbody>\n",
       "    <tr>\n",
       "      <td>251</td>\n",
       "      <td>pleas help know one best program languag scien...</td>\n",
       "      <td>datascience</td>\n",
       "      <td>learnprogramming</td>\n",
       "      <td>learnprogramming</td>\n",
       "      <td>datascience</td>\n",
       "      <td>learnprogramming</td>\n",
       "      <td>datascience</td>\n",
       "      <td>datascience</td>\n",
       "      <td>3</td>\n",
       "      <td>3</td>\n",
       "    </tr>\n",
       "    <tr>\n",
       "      <td>674</td>\n",
       "      <td>hello want make xma gift person school scienc ...</td>\n",
       "      <td>datascience</td>\n",
       "      <td>learnprogramming</td>\n",
       "      <td>learnprogramming</td>\n",
       "      <td>datascience</td>\n",
       "      <td>learnprogramming</td>\n",
       "      <td>datascience</td>\n",
       "      <td>datascience</td>\n",
       "      <td>3</td>\n",
       "      <td>3</td>\n",
       "    </tr>\n",
       "    <tr>\n",
       "      <td>1630</td>\n",
       "      <td>youtub talk tri attract non programm channel p...</td>\n",
       "      <td>datascience</td>\n",
       "      <td>learnprogramming</td>\n",
       "      <td>learnprogramming</td>\n",
       "      <td>datascience</td>\n",
       "      <td>datascience</td>\n",
       "      <td>learnprogramming</td>\n",
       "      <td>learnprogramming</td>\n",
       "      <td>3</td>\n",
       "      <td>3</td>\n",
       "    </tr>\n",
       "    <tr>\n",
       "      <td>510</td>\n",
       "      <td>recent interview got ask state definit bia var...</td>\n",
       "      <td>datascience</td>\n",
       "      <td>datascience</td>\n",
       "      <td>datascience</td>\n",
       "      <td>learnprogramming</td>\n",
       "      <td>learnprogramming</td>\n",
       "      <td>learnprogramming</td>\n",
       "      <td>datascience</td>\n",
       "      <td>3</td>\n",
       "      <td>3</td>\n",
       "    </tr>\n",
       "    <tr>\n",
       "      <td>27</td>\n",
       "      <td>one week ago u needdatainsight made post amaz ...</td>\n",
       "      <td>datascience</td>\n",
       "      <td>datascience</td>\n",
       "      <td>datascience</td>\n",
       "      <td>learnprogramming</td>\n",
       "      <td>learnprogramming</td>\n",
       "      <td>learnprogramming</td>\n",
       "      <td>datascience</td>\n",
       "      <td>3</td>\n",
       "      <td>3</td>\n",
       "    </tr>\n",
       "    <tr>\n",
       "      <td>492</td>\n",
       "      <td>professor santa</td>\n",
       "      <td>learnprogramming</td>\n",
       "      <td>learnprogramming</td>\n",
       "      <td>learnprogramming</td>\n",
       "      <td>datascience</td>\n",
       "      <td>datascience</td>\n",
       "      <td>datascience</td>\n",
       "      <td>datascience</td>\n",
       "      <td>3</td>\n",
       "      <td>3</td>\n",
       "    </tr>\n",
       "    <tr>\n",
       "      <td>738</td>\n",
       "      <td>hi everyon work zookeep one task monitor nestb...</td>\n",
       "      <td>datascience</td>\n",
       "      <td>datascience</td>\n",
       "      <td>learnprogramming</td>\n",
       "      <td>learnprogramming</td>\n",
       "      <td>learnprogramming</td>\n",
       "      <td>datascience</td>\n",
       "      <td>datascience</td>\n",
       "      <td>3</td>\n",
       "      <td>3</td>\n",
       "    </tr>\n",
       "    <tr>\n",
       "      <td>472</td>\n",
       "      <td>built simul model one custom predict custom vo...</td>\n",
       "      <td>datascience</td>\n",
       "      <td>datascience</td>\n",
       "      <td>learnprogramming</td>\n",
       "      <td>learnprogramming</td>\n",
       "      <td>learnprogramming</td>\n",
       "      <td>datascience</td>\n",
       "      <td>datascience</td>\n",
       "      <td>3</td>\n",
       "      <td>3</td>\n",
       "    </tr>\n",
       "    <tr>\n",
       "      <td>219</td>\n",
       "      <td>hi build deep learn rig gpu budget either buy ...</td>\n",
       "      <td>learnprogramming</td>\n",
       "      <td>datascience</td>\n",
       "      <td>datascience</td>\n",
       "      <td>learnprogramming</td>\n",
       "      <td>datascience</td>\n",
       "      <td>learnprogramming</td>\n",
       "      <td>datascience</td>\n",
       "      <td>3</td>\n",
       "      <td>3</td>\n",
       "    </tr>\n",
       "    <tr>\n",
       "      <td>378</td>\n",
       "      <td>learn school exampl ridicul case use happen re...</td>\n",
       "      <td>datascience</td>\n",
       "      <td>learnprogramming</td>\n",
       "      <td>datascience</td>\n",
       "      <td>learnprogramming</td>\n",
       "      <td>learnprogramming</td>\n",
       "      <td>datascience</td>\n",
       "      <td>datascience</td>\n",
       "      <td>3</td>\n",
       "      <td>3</td>\n",
       "    </tr>\n",
       "    <tr>\n",
       "      <td>729</td>\n",
       "      <td>valid receiv know pipelin succeed matter chang...</td>\n",
       "      <td>learnprogramming</td>\n",
       "      <td>datascience</td>\n",
       "      <td>datascience</td>\n",
       "      <td>learnprogramming</td>\n",
       "      <td>datascience</td>\n",
       "      <td>learnprogramming</td>\n",
       "      <td>datascience</td>\n",
       "      <td>3</td>\n",
       "      <td>3</td>\n",
       "    </tr>\n",
       "    <tr>\n",
       "      <td>1376</td>\n",
       "      <td>train brain understand inform video x faster n...</td>\n",
       "      <td>learnprogramming</td>\n",
       "      <td>learnprogramming</td>\n",
       "      <td>learnprogramming</td>\n",
       "      <td>datascience</td>\n",
       "      <td>datascience</td>\n",
       "      <td>datascience</td>\n",
       "      <td>learnprogramming</td>\n",
       "      <td>3</td>\n",
       "      <td>3</td>\n",
       "    </tr>\n",
       "    <tr>\n",
       "      <td>455</td>\n",
       "      <td>taken class r python want learn analyt increas...</td>\n",
       "      <td>learnprogramming</td>\n",
       "      <td>learnprogramming</td>\n",
       "      <td>learnprogramming</td>\n",
       "      <td>datascience</td>\n",
       "      <td>datascience</td>\n",
       "      <td>datascience</td>\n",
       "      <td>datascience</td>\n",
       "      <td>3</td>\n",
       "      <td>3</td>\n",
       "    </tr>\n",
       "    <tr>\n",
       "      <td>258</td>\n",
       "      <td>yesterday top post sub day trial ibm give scie...</td>\n",
       "      <td>datascience</td>\n",
       "      <td>learnprogramming</td>\n",
       "      <td>learnprogramming</td>\n",
       "      <td>datascience</td>\n",
       "      <td>learnprogramming</td>\n",
       "      <td>datascience</td>\n",
       "      <td>datascience</td>\n",
       "      <td>3</td>\n",
       "      <td>3</td>\n",
       "    </tr>\n",
       "    <tr>\n",
       "      <td>998</td>\n",
       "      <td>current offer look opinion peopl thank edit li...</td>\n",
       "      <td>datascience</td>\n",
       "      <td>learnprogramming</td>\n",
       "      <td>learnprogramming</td>\n",
       "      <td>learnprogramming</td>\n",
       "      <td>datascience</td>\n",
       "      <td>datascience</td>\n",
       "      <td>learnprogramming</td>\n",
       "      <td>3</td>\n",
       "      <td>3</td>\n",
       "    </tr>\n",
       "    <tr>\n",
       "      <td>627</td>\n",
       "      <td>wonder anyon suggest good book relat web scrap...</td>\n",
       "      <td>datascience</td>\n",
       "      <td>datascience</td>\n",
       "      <td>learnprogramming</td>\n",
       "      <td>learnprogramming</td>\n",
       "      <td>learnprogramming</td>\n",
       "      <td>datascience</td>\n",
       "      <td>datascience</td>\n",
       "      <td>3</td>\n",
       "      <td>3</td>\n",
       "    </tr>\n",
       "    <tr>\n",
       "      <td>461</td>\n",
       "      <td>video game board game good measur ai intellig</td>\n",
       "      <td>learnprogramming</td>\n",
       "      <td>learnprogramming</td>\n",
       "      <td>learnprogramming</td>\n",
       "      <td>datascience</td>\n",
       "      <td>datascience</td>\n",
       "      <td>datascience</td>\n",
       "      <td>datascience</td>\n",
       "      <td>3</td>\n",
       "      <td>3</td>\n",
       "    </tr>\n",
       "    <tr>\n",
       "      <td>1248</td>\n",
       "      <td>made clean instal docker desktop notic option ...</td>\n",
       "      <td>datascience</td>\n",
       "      <td>learnprogramming</td>\n",
       "      <td>learnprogramming</td>\n",
       "      <td>datascience</td>\n",
       "      <td>datascience</td>\n",
       "      <td>learnprogramming</td>\n",
       "      <td>learnprogramming</td>\n",
       "      <td>3</td>\n",
       "      <td>3</td>\n",
       "    </tr>\n",
       "    <tr>\n",
       "      <td>295</td>\n",
       "      <td>month final day intern year board game tournam...</td>\n",
       "      <td>learnprogramming</td>\n",
       "      <td>learnprogramming</td>\n",
       "      <td>learnprogramming</td>\n",
       "      <td>datascience</td>\n",
       "      <td>datascience</td>\n",
       "      <td>datascience</td>\n",
       "      <td>datascience</td>\n",
       "      <td>3</td>\n",
       "      <td>3</td>\n",
       "    </tr>\n",
       "    <tr>\n",
       "      <td>1152</td>\n",
       "      <td>impress browser os prevent system touch javasc...</td>\n",
       "      <td>learnprogramming</td>\n",
       "      <td>learnprogramming</td>\n",
       "      <td>learnprogramming</td>\n",
       "      <td>datascience</td>\n",
       "      <td>datascience</td>\n",
       "      <td>datascience</td>\n",
       "      <td>learnprogramming</td>\n",
       "      <td>3</td>\n",
       "      <td>3</td>\n",
       "    </tr>\n",
       "    <tr>\n",
       "      <td>504</td>\n",
       "      <td>represent problem graph studi collect like bun...</td>\n",
       "      <td>datascience</td>\n",
       "      <td>datascience</td>\n",
       "      <td>learnprogramming</td>\n",
       "      <td>learnprogramming</td>\n",
       "      <td>datascience</td>\n",
       "      <td>learnprogramming</td>\n",
       "      <td>datascience</td>\n",
       "      <td>3</td>\n",
       "      <td>3</td>\n",
       "    </tr>\n",
       "    <tr>\n",
       "      <td>1099</td>\n",
       "      <td>hello sort uniqu posit work compani creat paym...</td>\n",
       "      <td>learnprogramming</td>\n",
       "      <td>datascience</td>\n",
       "      <td>datascience</td>\n",
       "      <td>learnprogramming</td>\n",
       "      <td>datascience</td>\n",
       "      <td>learnprogramming</td>\n",
       "      <td>learnprogramming</td>\n",
       "      <td>3</td>\n",
       "      <td>3</td>\n",
       "    </tr>\n",
       "  </tbody>\n",
       "</table>\n",
       "</div>"
      ],
      "text/plain": [
       "                                                   text                lr  \\\n",
       "251   pleas help know one best program languag scien...       datascience   \n",
       "674   hello want make xma gift person school scienc ...       datascience   \n",
       "1630  youtub talk tri attract non programm channel p...       datascience   \n",
       "510   recent interview got ask state definit bia var...       datascience   \n",
       "27    one week ago u needdatainsight made post amaz ...       datascience   \n",
       "492                                     professor santa  learnprogramming   \n",
       "738   hi everyon work zookeep one task monitor nestb...       datascience   \n",
       "472   built simul model one custom predict custom vo...       datascience   \n",
       "219   hi build deep learn rig gpu budget either buy ...  learnprogramming   \n",
       "378   learn school exampl ridicul case use happen re...       datascience   \n",
       "729   valid receiv know pipelin succeed matter chang...  learnprogramming   \n",
       "1376  train brain understand inform video x faster n...  learnprogramming   \n",
       "455   taken class r python want learn analyt increas...  learnprogramming   \n",
       "258   yesterday top post sub day trial ibm give scie...       datascience   \n",
       "998   current offer look opinion peopl thank edit li...       datascience   \n",
       "627   wonder anyon suggest good book relat web scrap...       datascience   \n",
       "461       video game board game good measur ai intellig  learnprogramming   \n",
       "1248  made clean instal docker desktop notic option ...       datascience   \n",
       "295   month final day intern year board game tournam...  learnprogramming   \n",
       "1152  impress browser os prevent system touch javasc...  learnprogramming   \n",
       "504   represent problem graph studi collect like bun...       datascience   \n",
       "1099  hello sort uniqu posit work compani creat paym...  learnprogramming   \n",
       "\n",
       "                   knn                nb                rf                et  \\\n",
       "251   learnprogramming  learnprogramming       datascience  learnprogramming   \n",
       "674   learnprogramming  learnprogramming       datascience  learnprogramming   \n",
       "1630  learnprogramming  learnprogramming       datascience       datascience   \n",
       "510        datascience       datascience  learnprogramming  learnprogramming   \n",
       "27         datascience       datascience  learnprogramming  learnprogramming   \n",
       "492   learnprogramming  learnprogramming       datascience       datascience   \n",
       "738        datascience  learnprogramming  learnprogramming  learnprogramming   \n",
       "472        datascience  learnprogramming  learnprogramming  learnprogramming   \n",
       "219        datascience       datascience  learnprogramming       datascience   \n",
       "378   learnprogramming       datascience  learnprogramming  learnprogramming   \n",
       "729        datascience       datascience  learnprogramming       datascience   \n",
       "1376  learnprogramming  learnprogramming       datascience       datascience   \n",
       "455   learnprogramming  learnprogramming       datascience       datascience   \n",
       "258   learnprogramming  learnprogramming       datascience  learnprogramming   \n",
       "998   learnprogramming  learnprogramming  learnprogramming       datascience   \n",
       "627        datascience  learnprogramming  learnprogramming  learnprogramming   \n",
       "461   learnprogramming  learnprogramming       datascience       datascience   \n",
       "1248  learnprogramming  learnprogramming       datascience       datascience   \n",
       "295   learnprogramming  learnprogramming       datascience       datascience   \n",
       "1152  learnprogramming  learnprogramming       datascience       datascience   \n",
       "504        datascience  learnprogramming  learnprogramming       datascience   \n",
       "1099       datascience       datascience  learnprogramming       datascience   \n",
       "\n",
       "                   ada             label  lp_count  ds_count  \n",
       "251        datascience       datascience         3         3  \n",
       "674        datascience       datascience         3         3  \n",
       "1630  learnprogramming  learnprogramming         3         3  \n",
       "510   learnprogramming       datascience         3         3  \n",
       "27    learnprogramming       datascience         3         3  \n",
       "492        datascience       datascience         3         3  \n",
       "738        datascience       datascience         3         3  \n",
       "472        datascience       datascience         3         3  \n",
       "219   learnprogramming       datascience         3         3  \n",
       "378        datascience       datascience         3         3  \n",
       "729   learnprogramming       datascience         3         3  \n",
       "1376       datascience  learnprogramming         3         3  \n",
       "455        datascience       datascience         3         3  \n",
       "258        datascience       datascience         3         3  \n",
       "998        datascience  learnprogramming         3         3  \n",
       "627        datascience       datascience         3         3  \n",
       "461        datascience       datascience         3         3  \n",
       "1248  learnprogramming  learnprogramming         3         3  \n",
       "295        datascience       datascience         3         3  \n",
       "1152       datascience  learnprogramming         3         3  \n",
       "504   learnprogramming       datascience         3         3  \n",
       "1099  learnprogramming  learnprogramming         3         3  "
      ]
     },
     "execution_count": 14,
     "metadata": {},
     "output_type": "execute_result"
    }
   ],
   "source": [
    "ds_lp_df[ds_lp_df['ds_count'] == 3]"
   ]
  },
  {
   "cell_type": "markdown",
   "metadata": {},
   "source": [
    "## Correctly classified words"
   ]
  },
  {
   "cell_type": "code",
   "execution_count": 51,
   "metadata": {},
   "outputs": [],
   "source": [
    "# True positive\n",
    "ds_index = ds_lp_df[(ds_lp_df['lr'] == ds_lp_df['label']) & (ds_lp_df['label'] == 'datascience')].index\n",
    "\n",
    "# True negative\n",
    "lp_index = ds_lp_df[(ds_lp_df['lr'] == ds_lp_df['label']) & (ds_lp_df['label'] == 'learnprogramming')].index\n"
   ]
  },
  {
   "cell_type": "markdown",
   "metadata": {},
   "source": [
    "### Top 10 Datascience reddit words\n",
    "Join all text in correctly classified words, tokenize text and then plot most common occurances"
   ]
  },
  {
   "cell_type": "code",
   "execution_count": 60,
   "metadata": {},
   "outputs": [
    {
     "data": {
      "text/plain": [
       "<matplotlib.axes._subplots.AxesSubplot at 0x1a208f0710>"
      ]
     },
     "execution_count": 60,
     "metadata": {},
     "output_type": "execute_result"
    },
    {
     "data": {
      "image/png": "[encoded data removed]",
      "text/plain": [
       "<Figure size 432x288 with 1 Axes>"
      ]
     },
     "metadata": {
      "needs_background": "light"
     },
     "output_type": "display_data"
    }
   ],
   "source": [
    "pd.DataFrame(Counter(' '.join([df[df.index==i]['text'].values[0] for i in ds_index])\n",
    "                     .split()).most_common()).head(10).set_index(0).rename(columns={1:'count'}).plot(kind='barh')"
   ]
  },
  {
   "cell_type": "markdown",
   "metadata": {},
   "source": [
    "### Top 10 Learnprogramming reddit words"
   ]
  },
  {
   "cell_type": "code",
   "execution_count": 62,
   "metadata": {},
   "outputs": [
    {
     "data": {
      "text/plain": [
       "<matplotlib.axes._subplots.AxesSubplot at 0x1a231075d0>"
      ]
     },
     "execution_count": 62,
     "metadata": {},
     "output_type": "execute_result"
    },
    {
     "data": {
      "image/png": "[encoded data removed]",
      "text/plain": [
       "<Figure size 432x288 with 1 Axes>"
      ]
     },
     "metadata": {
      "needs_background": "light"
     },
     "output_type": "display_data"
    }
   ],
   "source": [
    "pd.DataFrame(Counter(' '.join([df[df.index==i]['text'].values[0] for i in lp_index])\n",
    "                     .split()).most_common()).head(10).set_index(0).rename(columns={1:'count'}).plot(kind='barh')"
   ]
  },
  {
   "cell_type": "markdown",
   "metadata": {},
   "source": [
    "## Misclassified words"
   ]
  },
  {
   "cell_type": "code",
   "execution_count": 63,
   "metadata": {},
   "outputs": [],
   "source": [
    "# False Positive\n",
    "# Post that are suppose to be in ds but classified as lp\n",
    "ds_index_misclass = ds_lp_df[(ds_lp_df['lr'] == 'learnprogramming') & (ds_lp_df['label'] == 'datascience')].index \n",
    "\n",
    "# False Negative\n",
    "# Post that are suppose to be in lp but classified as ds\n",
    "lp_index_misclass = ds_lp_df[(ds_lp_df['lr'] == 'datascience') & (ds_lp_df['label'] == 'learnprogramming')].index \n"
   ]
  },
  {
   "cell_type": "markdown",
   "metadata": {},
   "source": [
    "### Top 10 Reddit misclassified words for datascience\n",
    "Post that are suppose to be in datascience but are classified as learnprogramming"
   ]
  },
  {
   "cell_type": "code",
   "execution_count": 64,
   "metadata": {},
   "outputs": [
    {
     "data": {
      "text/plain": [
       "<matplotlib.axes._subplots.AxesSubplot at 0x1a218c4210>"
      ]
     },
     "execution_count": 64,
     "metadata": {},
     "output_type": "execute_result"
    },
    {
     "data": {
      "image/png": "[encoded data removed]",
      "text/plain": [
       "<Figure size 432x288 with 1 Axes>"
      ]
     },
     "metadata": {
      "needs_background": "light"
     },
     "output_type": "display_data"
    }
   ],
   "source": [
    "pd.DataFrame(Counter(' '.join([df[df.index==i]['text'].values[0] for i in ds_index_misclass])\n",
    "                     .split()).most_common()).head(10).set_index(0).rename(columns={1:'count'}).plot(kind='barh')"
   ]
  },
  {
   "cell_type": "markdown",
   "metadata": {},
   "source": [
    "### Top 10 Reddit misclassified words for learnprogramming\n",
    "Post that are suppose to be in learnprogramming but are classified as datascience"
   ]
  },
  {
   "cell_type": "code",
   "execution_count": 65,
   "metadata": {},
   "outputs": [
    {
     "data": {
      "text/plain": [
       "<matplotlib.axes._subplots.AxesSubplot at 0x1a21993cd0>"
      ]
     },
     "execution_count": 65,
     "metadata": {},
     "output_type": "execute_result"
    },
    {
     "data": {
      "image/png": "[encoded data removed]",
      "text/plain": [
       "<Figure size 432x288 with 1 Axes>"
      ]
     },
     "metadata": {
      "needs_background": "light"
     },
     "output_type": "display_data"
    }
   ],
   "source": [
    "pd.DataFrame(Counter(' '.join([df[df.index==i]['text'].values[0] for i in lp_index_misclass])\n",
    "                     .split()).most_common()).head(10).set_index(0).rename(columns={1:'count'}).plot(kind='barh')"
   ]
  },
  {
   "cell_type": "code",
   "execution_count": null,
   "metadata": {},
   "outputs": [],
   "source": []
  },
  {
   "cell_type": "markdown",
   "metadata": {},
   "source": [
    "Removed stemmer to make words to be more readable"
   ]
  },
  {
   "cell_type": "code",
   "execution_count": 66,
   "metadata": {},
   "outputs": [],
   "source": [
    "def clean_text(raw_text, customize_stops):\n",
    "    raw_text = re.sub(r'http[s]{0,1}://[^\\s]*', '', raw_text) # Strip urls\n",
    "    letters_only = re.sub(\"[^a-zA-Z]\", \" \", raw_text) # Remove non-letters\n",
    "    \n",
    "    words = letters_only.lower().split() # Convert to lower case, split to individual words\n",
    "    stops = set(stopwords.words('english')) # Default storpwords\n",
    "    stops.update(customize_stops) # Add customize stopwords\n",
    "    meaningful_words = [w for w in words if w not in stops]  \n",
    "    p_stemmer = PorterStemmer()\n",
    "#     meaningful_words = [p_stemmer.stem(i) for i in meaningful_words] # Stem words\n",
    "    \n",
    "    return(\" \".join(meaningful_words))"
   ]
  },
  {
   "cell_type": "code",
   "execution_count": 67,
   "metadata": {},
   "outputs": [
    {
     "name": "stdout",
     "output_type": "stream",
     "text": [
      "\n",
      "Number of rows in subreddit datascience : 827\n",
      "Number of rows in subreddit learnprogramming : 976\n",
      "Baseline accuracy: 0.5413200221852468\n",
      "\n",
      "Displaying first 5 rows of cleaned data and labels...\n"
     ]
    },
    {
     "data": {
      "text/html": [
       "<div>\n",
       "<style scoped>\n",
       "    .dataframe tbody tr th:only-of-type {\n",
       "        vertical-align: middle;\n",
       "    }\n",
       "\n",
       "    .dataframe tbody tr th {\n",
       "        vertical-align: top;\n",
       "    }\n",
       "\n",
       "    .dataframe thead th {\n",
       "        text-align: right;\n",
       "    }\n",
       "</style>\n",
       "<table border=\"1\" class=\"dataframe\">\n",
       "  <thead>\n",
       "    <tr style=\"text-align: right;\">\n",
       "      <th></th>\n",
       "      <th>text</th>\n",
       "      <th>subreddit</th>\n",
       "    </tr>\n",
       "  </thead>\n",
       "  <tbody>\n",
       "    <tr>\n",
       "      <td>0</td>\n",
       "      <td>bleep bloop welcome week entering transitionin...</td>\n",
       "      <td>datascience</td>\n",
       "    </tr>\n",
       "    <tr>\n",
       "      <td>1</td>\n",
       "      <td>r grown considerably past year k subscribers j...</td>\n",
       "      <td>datascience</td>\n",
       "    </tr>\n",
       "    <tr>\n",
       "      <td>2</td>\n",
       "      <td>hello everyone currently science trainee start...</td>\n",
       "      <td>datascience</td>\n",
       "    </tr>\n",
       "    <tr>\n",
       "      <td>3</td>\n",
       "      <td>interview coming task scientist actual dataset...</td>\n",
       "      <td>datascience</td>\n",
       "    </tr>\n",
       "    <tr>\n",
       "      <td>4</td>\n",
       "      <td>hi everyone senior tax accountant one big four...</td>\n",
       "      <td>datascience</td>\n",
       "    </tr>\n",
       "  </tbody>\n",
       "</table>\n",
       "</div>"
      ],
      "text/plain": [
       "                                                text    subreddit\n",
       "0  bleep bloop welcome week entering transitionin...  datascience\n",
       "1  r grown considerably past year k subscribers j...  datascience\n",
       "2  hello everyone currently science trainee start...  datascience\n",
       "3  interview coming task scientist actual dataset...  datascience\n",
       "4  hi everyone senior tax accountant one big four...  datascience"
      ]
     },
     "metadata": {},
     "output_type": "display_data"
    }
   ],
   "source": [
    "X,y,df = get_clean_subreddits('datascience', 'learnprogramming', \n",
    "                    customize_stops={'datascience','learnprogramming','lt','gur',\n",
    "                                     'cur','gt','amp','data','get','want','like','would','use','new','x','b'})"
   ]
  },
  {
   "cell_type": "markdown",
   "metadata": {},
   "source": [
    "Examples of misclassified text for datascience\n",
    "(Post that are suppose to be in datascience but are classified as learnprogramming)"
   ]
  },
  {
   "cell_type": "code",
   "execution_count": 86,
   "metadata": {},
   "outputs": [
    {
     "data": {
      "text/plain": [
       "\"I have a link to a personal project on my resume, but I'm wondering if this is the best way to go about it. Would it be better to post it separately somewhere in the application?\""
      ]
     },
     "execution_count": 86,
     "metadata": {},
     "output_type": "execute_result"
    }
   ],
   "source": [
    "df.loc[random.choice(ds_index_misclass)]['selftext']"
   ]
  },
  {
   "cell_type": "code",
   "execution_count": 87,
   "metadata": {},
   "outputs": [
    {
     "data": {
      "text/plain": [
       "\"Hi guys, I'm typically playing with data of several GBs, be it JSON or CSV. It's something I do at home, with my own pc and a little server I have (no fancy hardware, just don't want hear the fans running at night so I've installed the server in the living room).\\n\\nNow, I typically transform this data with Knime and PowerQuery because it's easy to work with, but they really struggle with the ~7Gb allocated for them. My sever has even less memory, and it's running other stuff.\\n\\nI tried all sorts of tricks but it becomes very slow, or just cannot work because of the available ram (Knime). I also tried with R and, yeah I get better results but it removes the fast&amp;easy element from it and it becomes a time sink. Same with python, where I'm even less proficient.\\n\\nI've been wondering about loading that data into a mariadb or sql database, and transforming that data in the server. I know databases are meant to work with this sort of problems, and I already know a bit of SQL, but I'm just exploring this option, so I come here for advice before sinking a lot of time again on it, because I'll need a lot of transformations.\\n\\nAny advice?\""
      ]
     },
     "execution_count": 87,
     "metadata": {},
     "output_type": "execute_result"
    }
   ],
   "source": [
    "df.loc[random.choice(ds_index_misclass)]['selftext']"
   ]
  },
  {
   "cell_type": "markdown",
   "metadata": {},
   "source": [
    "Examples of misclassified text for datascience (Post that are suppose to be in learnprogramming but are classified as datascience)"
   ]
  },
  {
   "cell_type": "code",
   "execution_count": 88,
   "metadata": {},
   "outputs": [
    {
     "data": {
      "text/plain": [
       "\"I'm planning to move there to study at that particular uni but I'm not sure if there's a point? Its fairly cheap and my Swedish student loan would cover everything nicely.\""
      ]
     },
     "execution_count": 88,
     "metadata": {},
     "output_type": "execute_result"
    }
   ],
   "source": [
    "df.loc[random.choice(lp_index_misclass)]['selftext']"
   ]
  },
  {
   "cell_type": "code",
   "execution_count": 92,
   "metadata": {},
   "outputs": [
    {
     "data": {
      "text/plain": [
       "\"So I know that I can use Pytest to write my own unit tests. I've written a bunch of unit tests for my applications. Now my question is, when do I run these tests? Are there some general guidelines or best practices on when to unit test?\\n\\nIs it a best practice to run these tests daily to see whether something changed in my environment that my application is dependent upon so I can verify that my application still works?Do I run these tests after every commit to verify that I did not break something?Are there other factors that come into play here?\\n\\nIn the same vein, should I put all my tests in a test suite that's isolated from the application being tested? Or should I put my test functions alongside the functions that are being tested? I figure the latter option is worse than the former because my application might break and that would also break my unit tests and I might not be able to tell - it's cleaner to separate tests from what's being tested so to avoid interferance. The code would be a lot more readable as well, being separated. But that's just my hunch and I'm again curious: is there a best practice here?\\n\\nFinally, does the same hold true for integration testing?\""
      ]
     },
     "execution_count": 92,
     "metadata": {},
     "output_type": "execute_result"
    }
   ],
   "source": [
    "df.loc[random.choice(ds_index_misclass)]['selftext']"
   ]
  },
  {
   "cell_type": "code",
   "execution_count": null,
   "metadata": {},
   "outputs": [],
   "source": []
  },
  {
   "cell_type": "markdown",
   "metadata": {},
   "source": [
    "# Extra"
   ]
  },
  {
   "cell_type": "markdown",
   "metadata": {},
   "source": [
    "## Subreddit of python and learnpython"
   ]
  },
  {
   "cell_type": "code",
   "execution_count": 97,
   "metadata": {},
   "outputs": [
    {
     "name": "stdout",
     "output_type": "stream",
     "text": [
      "python not found, proceed to scrape\n",
      "Scraping python...\n",
      "Scrapped 27 post...\n",
      "Scrapped 52 post...\n",
      "Scrapped 77 post...\n",
      "Scrapped 102 post...\n",
      "Scrapped 127 post...\n",
      "Scrapped 152 post...\n",
      "Scrapped 177 post...\n",
      "Scrapped 202 post...\n",
      "Scrapped 227 post...\n",
      "Scrapped 252 post...\n",
      "Scrapped 277 post...\n",
      "Scrapped 302 post...\n",
      "Scrapped 327 post...\n",
      "Scrapped 352 post...\n",
      "Scrapped 377 post...\n",
      "Scrapped 402 post...\n",
      "Scrapped 427 post...\n",
      "Scrapped 452 post...\n",
      "Scrapped 477 post...\n",
      "Scrapped 502 post...\n",
      "Scrapped 527 post...\n",
      "Scrapped 552 post...\n",
      "Scrapped 577 post...\n",
      "\n",
      "learnpython not found, proceed to scrape\n",
      "Scraping learnpython...\n",
      "Scrapped 26 post...\n",
      "Scrapped 51 post...\n",
      "Scrapped 76 post...\n",
      "Scrapped 101 post...\n",
      "Scrapped 126 post...\n",
      "Scrapped 151 post...\n",
      "Scrapped 176 post...\n",
      "Scrapped 201 post...\n",
      "Scrapped 226 post...\n",
      "Scrapped 251 post...\n",
      "Scrapped 276 post...\n",
      "Scrapped 301 post...\n",
      "Scrapped 326 post...\n",
      "Scrapped 351 post...\n",
      "Scrapped 376 post...\n",
      "Scrapped 401 post...\n",
      "Scrapped 426 post...\n",
      "Scrapped 451 post...\n",
      "Scrapped 476 post...\n",
      "Scrapped 501 post...\n",
      "Scrapped 526 post...\n",
      "Scrapped 551 post...\n",
      "Scrapped 576 post...\n",
      "Scrapped 601 post...\n",
      "Scrapped 626 post...\n",
      "Scrapped 651 post...\n",
      "Scrapped 676 post...\n",
      "Scrapped 701 post...\n",
      "Scrapped 726 post...\n",
      "Scrapped 751 post...\n",
      "Scrapped 776 post...\n",
      "Scrapped 801 post...\n",
      "Scrapped 826 post...\n",
      "Scrapped 851 post...\n",
      "Scrapped 876 post...\n",
      "Scrapped 901 post...\n",
      "Scrapped 926 post...\n",
      "Scrapped 951 post...\n",
      "Scrapped 976 post...\n",
      "\n",
      "\n",
      "Number of rows in subreddit python : 577\n",
      "Number of rows in subreddit learnpython : 976\n",
      "Baseline accuracy: 0.6284610431423052\n",
      "\n",
      "Displaying first 5 rows of cleaned data and labels...\n"
     ]
    },
    {
     "data": {
      "text/html": [
       "<div>\n",
       "<style scoped>\n",
       "    .dataframe tbody tr th:only-of-type {\n",
       "        vertical-align: middle;\n",
       "    }\n",
       "\n",
       "    .dataframe tbody tr th {\n",
       "        vertical-align: top;\n",
       "    }\n",
       "\n",
       "    .dataframe thead th {\n",
       "        text-align: right;\n",
       "    }\n",
       "</style>\n",
       "<table border=\"1\" class=\"dataframe\">\n",
       "  <thead>\n",
       "    <tr style=\"text-align: right;\">\n",
       "      <th></th>\n",
       "      <th>text</th>\n",
       "      <th>subreddit</th>\n",
       "    </tr>\n",
       "  </thead>\n",
       "  <tbody>\n",
       "    <tr>\n",
       "      <td>0</td>\n",
       "      <td>starting today going enforcing flair requireme...</td>\n",
       "      <td>Python</td>\n",
       "    </tr>\n",
       "    <tr>\n",
       "      <td>1</td>\n",
       "      <td>tell r working week bragging grousing sharing ...</td>\n",
       "      <td>Python</td>\n",
       "    </tr>\n",
       "    <tr>\n",
       "      <td>2</td>\n",
       "      <td>wrote small library enable flexible piping fin...</td>\n",
       "      <td>Python</td>\n",
       "    </tr>\n",
       "    <tr>\n",
       "      <td>3</td>\n",
       "      <td>pandas released</td>\n",
       "      <td>Python</td>\n",
       "    </tr>\n",
       "    <tr>\n",
       "      <td>4</td>\n",
       "      <td>inspired post comments saying much boilerplate...</td>\n",
       "      <td>Python</td>\n",
       "    </tr>\n",
       "  </tbody>\n",
       "</table>\n",
       "</div>"
      ],
      "text/plain": [
       "                                                text subreddit\n",
       "0  starting today going enforcing flair requireme...    Python\n",
       "1  tell r working week bragging grousing sharing ...    Python\n",
       "2  wrote small library enable flexible piping fin...    Python\n",
       "3                                    pandas released    Python\n",
       "4  inspired post comments saying much boilerplate...    Python"
      ]
     },
     "metadata": {},
     "output_type": "display_data"
    }
   ],
   "source": [
    "X,y,df = get_clean_subreddits('python', 'learnpython', \n",
    "                    customize_stops={'python','learnpython','learn','lt','gur','cur','gt','amp'})"
   ]
  },
  {
   "cell_type": "code",
   "execution_count": 98,
   "metadata": {
    "scrolled": false
   },
   "outputs": [
    {
     "name": "stdout",
     "output_type": "stream",
     "text": [
      "----------------------- Logistic Regresson ------------------------\n",
      "Performing grid search...\n",
      "pipeline: ['cvec', 'tfidf', 'lr']\n",
      "parameters:\n",
      "{'cvec__max_df': (0.5, 1.0),\n",
      " 'cvec__max_features': (2500, 5000, 10000),\n",
      " 'cvec__ngram_range': ((1, 1), (1, 2)),\n",
      " 'lr__penalty': ('none', 'l2'),\n",
      " 'tfidf__use_idf': (True, False)}\n",
      "\n",
      "Fitting 5 folds for each of 48 candidates, totalling 240 fits\n"
     ]
    },
    {
     "name": "stderr",
     "output_type": "stream",
     "text": [
      "[Parallel(n_jobs=-1)]: Using backend LokyBackend with 8 concurrent workers.\n",
      "[Parallel(n_jobs=-1)]: Done  34 tasks      | elapsed:    4.8s\n",
      "[Parallel(n_jobs=-1)]: Done 184 tasks      | elapsed:   10.0s\n",
      "[Parallel(n_jobs=-1)]: Done 240 out of 240 | elapsed:   12.5s finished\n"
     ]
    },
    {
     "name": "stdout",
     "output_type": "stream",
     "text": [
      "Best score: 0.838\n",
      "Best parameters set:\n",
      "\tcvec__max_df: 0.5\n",
      "\tcvec__max_features: 10000\n",
      "\tcvec__ngram_range: (1, 1)\n",
      "\tlr__penalty: 'l2'\n",
      "\ttfidf__use_idf: False\n",
      "\n",
      "Final model score\n",
      "\n",
      "Train score: 0.9415807560137457\n",
      "Test score: 0.7866323907455013\n",
      "\n",
      "True Negatives: 72\n",
      "False Positives: 73\n",
      "False Negatives: 10\n",
      "True Positives: 234\n",
      "\n",
      "----------------------- K Nearest Neighbours ------------------------\n",
      "Performing grid search...\n",
      "pipeline: ['cvec', 'tfidf', 'knn']\n",
      "parameters:\n",
      "{'cvec__max_df': (0.5, 1.0),\n",
      " 'cvec__max_features': (2500, 5000, 10000),\n",
      " 'cvec__ngram_range': ((1, 1), (1, 2)),\n",
      " 'knn__n_neighbors': [3, 5, 11],\n",
      " 'knn__weights': ['uniform', 'distance'],\n",
      " 'tfidf__use_idf': (True, False)}\n",
      "\n",
      "Fitting 5 folds for each of 144 candidates, totalling 720 fits\n"
     ]
    },
    {
     "name": "stderr",
     "output_type": "stream",
     "text": [
      "[Parallel(n_jobs=-1)]: Using backend LokyBackend with 8 concurrent workers.\n",
      "[Parallel(n_jobs=-1)]: Done  52 tasks      | elapsed:    1.2s\n",
      "[Parallel(n_jobs=-1)]: Done 352 tasks      | elapsed:   11.9s\n",
      "[Parallel(n_jobs=-1)]: Done 720 out of 720 | elapsed:   25.2s finished\n",
      "/usr/local/anaconda3/lib/python3.7/site-packages/sklearn/model_selection/_search.py:814: DeprecationWarning: The default of the `iid` parameter will change from True to False in version 0.22 and will be removed in 0.24. This will change numeric results when test-set sizes are unequal.\n",
      "  DeprecationWarning)\n"
     ]
    },
    {
     "name": "stdout",
     "output_type": "stream",
     "text": [
      "Best score: 0.766\n",
      "Best parameters set:\n",
      "\tcvec__max_df: 0.5\n",
      "\tcvec__max_features: 5000\n",
      "\tcvec__ngram_range: (1, 1)\n",
      "\tknn__n_neighbors: 11\n",
      "\tknn__weights: 'distance'\n",
      "\ttfidf__use_idf: False\n",
      "\n",
      "Final model score\n",
      "\n",
      "Train score: 0.9982817869415808\n",
      "Test score: 0.7480719794344473\n",
      "\n",
      "True Negatives: 68\n",
      "False Positives: 77\n",
      "False Negatives: 21\n",
      "True Positives: 223\n",
      "\n",
      "----------------------- Naive Bayes ------------------------\n",
      "Performing grid search...\n",
      "pipeline: ['cvec', 'tfidf', 'nb']\n",
      "parameters:\n",
      "{'cvec__max_df': (0.5, 1.0),\n",
      " 'cvec__max_features': (2500, 5000, 10000),\n",
      " 'cvec__ngram_range': ((1, 1), (1, 2)),\n",
      " 'nb__alpha': (1, 2),\n",
      " 'tfidf__use_idf': (True, False)}\n",
      "\n",
      "Fitting 5 folds for each of 48 candidates, totalling 240 fits\n"
     ]
    },
    {
     "name": "stderr",
     "output_type": "stream",
     "text": [
      "[Parallel(n_jobs=-1)]: Using backend LokyBackend with 8 concurrent workers.\n",
      "[Parallel(n_jobs=-1)]: Done  88 tasks      | elapsed:    2.9s\n",
      "[Parallel(n_jobs=-1)]: Done 240 out of 240 | elapsed:    8.0s finished\n"
     ]
    },
    {
     "name": "stdout",
     "output_type": "stream",
     "text": [
      "Best score: 0.741\n",
      "Best parameters set:\n",
      "\tcvec__max_df: 0.5\n",
      "\tcvec__max_features: 2500\n",
      "\tcvec__ngram_range: (1, 2)\n",
      "\tnb__alpha: 1\n",
      "\ttfidf__use_idf: True\n",
      "\n",
      "Final model score\n",
      "\n",
      "Train score: 0.8273195876288659\n",
      "Test score: 0.6760925449871465\n",
      "\n",
      "True Negatives: 20\n",
      "False Positives: 125\n",
      "False Negatives: 1\n",
      "True Positives: 243\n",
      "\n",
      "----------------------- Random Forest ------------------------\n",
      "Performing grid search...\n",
      "pipeline: ['cvec', 'tfidf', 'rf']\n",
      "parameters:\n",
      "{'cvec__max_df': (0.5, 1.0),\n",
      " 'cvec__max_features': (2500, 5000, 10000),\n",
      " 'cvec__ngram_range': ((1, 1), (1, 2)),\n",
      " 'rf__max_depth': [1, 2, None],\n",
      " 'rf__n_estimators': [100, 150],\n",
      " 'tfidf__use_idf': (True, False)}\n",
      "\n",
      "Fitting 5 folds for each of 144 candidates, totalling 720 fits\n"
     ]
    },
    {
     "name": "stderr",
     "output_type": "stream",
     "text": [
      "[Parallel(n_jobs=-1)]: Using backend LokyBackend with 8 concurrent workers.\n",
      "[Parallel(n_jobs=-1)]: Done  34 tasks      | elapsed:    2.1s\n",
      "[Parallel(n_jobs=-1)]: Done 184 tasks      | elapsed:   16.0s\n",
      "[Parallel(n_jobs=-1)]: Done 434 tasks      | elapsed:   39.3s\n",
      "[Parallel(n_jobs=-1)]: Done 720 out of 720 | elapsed:  1.1min finished\n"
     ]
    },
    {
     "name": "stdout",
     "output_type": "stream",
     "text": [
      "Best score: 0.846\n",
      "Best parameters set:\n",
      "\tcvec__max_df: 0.5\n",
      "\tcvec__max_features: 2500\n",
      "\tcvec__ngram_range: (1, 2)\n",
      "\trf__max_depth: None\n",
      "\trf__n_estimators: 100\n",
      "\ttfidf__use_idf: False\n",
      "\n",
      "Final model score\n",
      "\n",
      "Train score: 0.9982817869415808\n",
      "Test score: 0.8174807197943444\n",
      "\n",
      "True Negatives: 91\n",
      "False Positives: 54\n",
      "False Negatives: 17\n",
      "True Positives: 227\n",
      "\n",
      "----------------------- Extra Trees ------------------------\n",
      "Performing grid search...\n",
      "pipeline: ['cvec', 'tfidf', 'et']\n",
      "parameters:\n",
      "{'cvec__max_df': (0.5, 1.0),\n",
      " 'cvec__max_features': (2500, 5000, 10000),\n",
      " 'cvec__ngram_range': ((1, 1), (1, 2)),\n",
      " 'et__n_estimators': [50, 100, 150],\n",
      " 'tfidf__use_idf': (True, False)}\n",
      "\n",
      "Fitting 5 folds for each of 72 candidates, totalling 360 fits\n"
     ]
    },
    {
     "name": "stderr",
     "output_type": "stream",
     "text": [
      "[Parallel(n_jobs=-1)]: Using backend LokyBackend with 8 concurrent workers.\n",
      "[Parallel(n_jobs=-1)]: Done  34 tasks      | elapsed:    3.5s\n",
      "[Parallel(n_jobs=-1)]: Done 184 tasks      | elapsed:   25.0s\n",
      "[Parallel(n_jobs=-1)]: Done 360 out of 360 | elapsed:   50.1s finished\n"
     ]
    },
    {
     "name": "stdout",
     "output_type": "stream",
     "text": [
      "Best score: 0.850\n",
      "Best parameters set:\n",
      "\tcvec__max_df: 1.0\n",
      "\tcvec__max_features: 10000\n",
      "\tcvec__ngram_range: (1, 1)\n",
      "\tet__n_estimators: 50\n",
      "\ttfidf__use_idf: False\n",
      "\n",
      "Final model score\n",
      "\n",
      "Train score: 0.9982817869415808\n",
      "Test score: 0.8174807197943444\n",
      "\n",
      "True Negatives: 92\n",
      "False Positives: 53\n",
      "False Negatives: 18\n",
      "True Positives: 226\n",
      "\n",
      "----------------------- Ada Boost ------------------------\n",
      "Performing grid search...\n",
      "pipeline: ['cvec', 'tfidf', 'ada']\n",
      "parameters:\n",
      "{'ada__n_estimators': [50, 75, 100],\n",
      " 'cvec__max_df': (0.5, 1.0),\n",
      " 'cvec__max_features': (2500, 5000, 10000),\n",
      " 'cvec__ngram_range': ((1, 1), (1, 2)),\n",
      " 'tfidf__use_idf': (True, False)}\n",
      "\n",
      "Fitting 5 folds for each of 72 candidates, totalling 360 fits\n"
     ]
    },
    {
     "name": "stderr",
     "output_type": "stream",
     "text": [
      "[Parallel(n_jobs=-1)]: Using backend LokyBackend with 8 concurrent workers.\n",
      "[Parallel(n_jobs=-1)]: Done  34 tasks      | elapsed:    4.2s\n",
      "[Parallel(n_jobs=-1)]: Done 184 tasks      | elapsed:   25.0s\n",
      "[Parallel(n_jobs=-1)]: Done 360 out of 360 | elapsed:   56.6s finished\n"
     ]
    },
    {
     "name": "stdout",
     "output_type": "stream",
     "text": [
      "Best score: 0.801\n",
      "Best parameters set:\n",
      "\tada__n_estimators: 50\n",
      "\tcvec__max_df: 0.5\n",
      "\tcvec__max_features: 2500\n",
      "\tcvec__ngram_range: (1, 2)\n",
      "\ttfidf__use_idf: False\n",
      "\n",
      "Final model score\n",
      "\n",
      "Train score: 0.8797250859106529\n",
      "Test score: 0.8071979434447301\n",
      "\n",
      "True Negatives: 97\n",
      "False Positives: 48\n",
      "False Negatives: 27\n",
      "True Positives: 217\n",
      "\n"
     ]
    }
   ],
   "source": [
    "p_lp_df = run_all_models(X,y)"
   ]
  },
  {
   "cell_type": "code",
   "execution_count": null,
   "metadata": {},
   "outputs": [],
   "source": []
  },
  {
   "cell_type": "code",
   "execution_count": 100,
   "metadata": {},
   "outputs": [
    {
     "data": {
      "text/plain": [
       "{'lr': 0.7866323907455013,\n",
       " 'knn': 0.7480719794344473,\n",
       " 'nb': 0.6760925449871465,\n",
       " 'rf': 0.8174807197943444,\n",
       " 'et': 0.8174807197943444,\n",
       " 'ada': 0.8071979434447301}"
      ]
     },
     "execution_count": 100,
     "metadata": {},
     "output_type": "execute_result"
    }
   ],
   "source": [
    "model_scores = {model: len(p_lp_df[p_lp_df[model] == p_lp_df['label']]) \n",
    "                / len(p_lp_df) for model in models}\n",
    "model_scores"
   ]
  },
  {
   "cell_type": "code",
   "execution_count": 106,
   "metadata": {},
   "outputs": [],
   "source": [
    "p_lp_df['p_count'] = p_lp_df[p_lp_df[models_list] =='Python'].count(axis=1)\n",
    "p_lp_df['lp_count'] = p_lp_df[p_lp_df[models_list] =='learnpython'].count(axis=1)\n"
   ]
  },
  {
   "cell_type": "markdown",
   "metadata": {},
   "source": [
    "Text with different classifications among models"
   ]
  },
  {
   "cell_type": "code",
   "execution_count": 108,
   "metadata": {},
   "outputs": [
    {
     "data": {
      "text/html": [
       "<div>\n",
       "<style scoped>\n",
       "    .dataframe tbody tr th:only-of-type {\n",
       "        vertical-align: middle;\n",
       "    }\n",
       "\n",
       "    .dataframe tbody tr th {\n",
       "        vertical-align: top;\n",
       "    }\n",
       "\n",
       "    .dataframe thead th {\n",
       "        text-align: right;\n",
       "    }\n",
       "</style>\n",
       "<table border=\"1\" class=\"dataframe\">\n",
       "  <thead>\n",
       "    <tr style=\"text-align: right;\">\n",
       "      <th></th>\n",
       "      <th>text</th>\n",
       "      <th>lr</th>\n",
       "      <th>knn</th>\n",
       "      <th>nb</th>\n",
       "      <th>rf</th>\n",
       "      <th>et</th>\n",
       "      <th>ada</th>\n",
       "      <th>label</th>\n",
       "      <th>p_count</th>\n",
       "      <th>lp_count</th>\n",
       "    </tr>\n",
       "  </thead>\n",
       "  <tbody>\n",
       "    <tr>\n",
       "      <td>392</td>\n",
       "      <td>want run applications esp microcontroller boar...</td>\n",
       "      <td>learnpython</td>\n",
       "      <td>Python</td>\n",
       "      <td>learnpython</td>\n",
       "      <td>Python</td>\n",
       "      <td>Python</td>\n",
       "      <td>learnpython</td>\n",
       "      <td>Python</td>\n",
       "      <td>3</td>\n",
       "      <td>3</td>\n",
       "    </tr>\n",
       "    <tr>\n",
       "      <td>476</td>\n",
       "      <td>person coming javascript important idiosyncras...</td>\n",
       "      <td>learnpython</td>\n",
       "      <td>learnpython</td>\n",
       "      <td>learnpython</td>\n",
       "      <td>Python</td>\n",
       "      <td>Python</td>\n",
       "      <td>Python</td>\n",
       "      <td>Python</td>\n",
       "      <td>3</td>\n",
       "      <td>3</td>\n",
       "    </tr>\n",
       "    <tr>\n",
       "      <td>200</td>\n",
       "      <td>best way practice improve writing code learnin...</td>\n",
       "      <td>learnpython</td>\n",
       "      <td>learnpython</td>\n",
       "      <td>learnpython</td>\n",
       "      <td>Python</td>\n",
       "      <td>Python</td>\n",
       "      <td>Python</td>\n",
       "      <td>Python</td>\n",
       "      <td>3</td>\n",
       "      <td>3</td>\n",
       "    </tr>\n",
       "    <tr>\n",
       "      <td>213</td>\n",
       "      <td>hey want dapple ac transit api check actransit...</td>\n",
       "      <td>learnpython</td>\n",
       "      <td>learnpython</td>\n",
       "      <td>learnpython</td>\n",
       "      <td>Python</td>\n",
       "      <td>Python</td>\n",
       "      <td>Python</td>\n",
       "      <td>Python</td>\n",
       "      <td>3</td>\n",
       "      <td>3</td>\n",
       "    </tr>\n",
       "    <tr>\n",
       "      <td>20</td>\n",
       "      <td>pystencils uses sympy define stencil operation...</td>\n",
       "      <td>learnpython</td>\n",
       "      <td>learnpython</td>\n",
       "      <td>learnpython</td>\n",
       "      <td>Python</td>\n",
       "      <td>Python</td>\n",
       "      <td>Python</td>\n",
       "      <td>Python</td>\n",
       "      <td>3</td>\n",
       "      <td>3</td>\n",
       "    </tr>\n",
       "    <tr>\n",
       "      <td>545</td>\n",
       "      <td>time sixth discord code jam year got brand new...</td>\n",
       "      <td>Python</td>\n",
       "      <td>Python</td>\n",
       "      <td>learnpython</td>\n",
       "      <td>learnpython</td>\n",
       "      <td>learnpython</td>\n",
       "      <td>Python</td>\n",
       "      <td>Python</td>\n",
       "      <td>3</td>\n",
       "      <td>3</td>\n",
       "    </tr>\n",
       "    <tr>\n",
       "      <td>1539</td>\n",
       "      <td>per title looking recommendation books assist ...</td>\n",
       "      <td>learnpython</td>\n",
       "      <td>learnpython</td>\n",
       "      <td>learnpython</td>\n",
       "      <td>Python</td>\n",
       "      <td>Python</td>\n",
       "      <td>Python</td>\n",
       "      <td>learnpython</td>\n",
       "      <td>3</td>\n",
       "      <td>3</td>\n",
       "    </tr>\n",
       "    <tr>\n",
       "      <td>216</td>\n",
       "      <td>terminusdb foss graph db stores data like git ...</td>\n",
       "      <td>learnpython</td>\n",
       "      <td>learnpython</td>\n",
       "      <td>learnpython</td>\n",
       "      <td>Python</td>\n",
       "      <td>Python</td>\n",
       "      <td>Python</td>\n",
       "      <td>Python</td>\n",
       "      <td>3</td>\n",
       "      <td>3</td>\n",
       "    </tr>\n",
       "    <tr>\n",
       "      <td>217</td>\n",
       "      <td>full course beginners first part basic second ...</td>\n",
       "      <td>learnpython</td>\n",
       "      <td>learnpython</td>\n",
       "      <td>learnpython</td>\n",
       "      <td>Python</td>\n",
       "      <td>Python</td>\n",
       "      <td>Python</td>\n",
       "      <td>Python</td>\n",
       "      <td>3</td>\n",
       "      <td>3</td>\n",
       "    </tr>\n",
       "    <tr>\n",
       "      <td>639</td>\n",
       "      <td>hi background sql theoretical knowledge oops w...</td>\n",
       "      <td>learnpython</td>\n",
       "      <td>learnpython</td>\n",
       "      <td>learnpython</td>\n",
       "      <td>Python</td>\n",
       "      <td>Python</td>\n",
       "      <td>Python</td>\n",
       "      <td>learnpython</td>\n",
       "      <td>3</td>\n",
       "      <td>3</td>\n",
       "    </tr>\n",
       "    <tr>\n",
       "      <td>430</td>\n",
       "      <td>making programs blazingly fast</td>\n",
       "      <td>learnpython</td>\n",
       "      <td>learnpython</td>\n",
       "      <td>learnpython</td>\n",
       "      <td>Python</td>\n",
       "      <td>Python</td>\n",
       "      <td>Python</td>\n",
       "      <td>Python</td>\n",
       "      <td>3</td>\n",
       "      <td>3</td>\n",
       "    </tr>\n",
       "    <tr>\n",
       "      <td>189</td>\n",
       "      <td>one file example run data driven tests using n...</td>\n",
       "      <td>learnpython</td>\n",
       "      <td>Python</td>\n",
       "      <td>learnpython</td>\n",
       "      <td>Python</td>\n",
       "      <td>Python</td>\n",
       "      <td>learnpython</td>\n",
       "      <td>Python</td>\n",
       "      <td>3</td>\n",
       "      <td>3</td>\n",
       "    </tr>\n",
       "    <tr>\n",
       "      <td>8</td>\n",
       "      <td>short film legacy code russian subtitles</td>\n",
       "      <td>learnpython</td>\n",
       "      <td>learnpython</td>\n",
       "      <td>learnpython</td>\n",
       "      <td>Python</td>\n",
       "      <td>Python</td>\n",
       "      <td>Python</td>\n",
       "      <td>Python</td>\n",
       "      <td>3</td>\n",
       "      <td>3</td>\n",
       "    </tr>\n",
       "    <tr>\n",
       "      <td>201</td>\n",
       "      <td>automatically built tool explained basically h...</td>\n",
       "      <td>Python</td>\n",
       "      <td>Python</td>\n",
       "      <td>learnpython</td>\n",
       "      <td>learnpython</td>\n",
       "      <td>learnpython</td>\n",
       "      <td>Python</td>\n",
       "      <td>Python</td>\n",
       "      <td>3</td>\n",
       "      <td>3</td>\n",
       "    </tr>\n",
       "    <tr>\n",
       "      <td>427</td>\n",
       "      <td>basketball reference scraper api client access...</td>\n",
       "      <td>Python</td>\n",
       "      <td>Python</td>\n",
       "      <td>learnpython</td>\n",
       "      <td>learnpython</td>\n",
       "      <td>learnpython</td>\n",
       "      <td>Python</td>\n",
       "      <td>Python</td>\n",
       "      <td>3</td>\n",
       "      <td>3</td>\n",
       "    </tr>\n",
       "    <tr>\n",
       "      <td>64</td>\n",
       "      <td>text image script</td>\n",
       "      <td>learnpython</td>\n",
       "      <td>learnpython</td>\n",
       "      <td>learnpython</td>\n",
       "      <td>Python</td>\n",
       "      <td>Python</td>\n",
       "      <td>Python</td>\n",
       "      <td>Python</td>\n",
       "      <td>3</td>\n",
       "      <td>3</td>\n",
       "    </tr>\n",
       "    <tr>\n",
       "      <td>1312</td>\n",
       "      <td>hello everyone teaching finally created piece ...</td>\n",
       "      <td>Python</td>\n",
       "      <td>Python</td>\n",
       "      <td>learnpython</td>\n",
       "      <td>learnpython</td>\n",
       "      <td>learnpython</td>\n",
       "      <td>Python</td>\n",
       "      <td>learnpython</td>\n",
       "      <td>3</td>\n",
       "      <td>3</td>\n",
       "    </tr>\n",
       "    <tr>\n",
       "      <td>435</td>\n",
       "      <td>pygame show frame rate screen</td>\n",
       "      <td>learnpython</td>\n",
       "      <td>learnpython</td>\n",
       "      <td>learnpython</td>\n",
       "      <td>Python</td>\n",
       "      <td>Python</td>\n",
       "      <td>Python</td>\n",
       "      <td>Python</td>\n",
       "      <td>3</td>\n",
       "      <td>3</td>\n",
       "    </tr>\n",
       "    <tr>\n",
       "      <td>187</td>\n",
       "      <td>library browse starred github repositories com...</td>\n",
       "      <td>Python</td>\n",
       "      <td>learnpython</td>\n",
       "      <td>learnpython</td>\n",
       "      <td>Python</td>\n",
       "      <td>Python</td>\n",
       "      <td>learnpython</td>\n",
       "      <td>Python</td>\n",
       "      <td>3</td>\n",
       "      <td>3</td>\n",
       "    </tr>\n",
       "    <tr>\n",
       "      <td>949</td>\n",
       "      <td>hi interested learning find best course place ...</td>\n",
       "      <td>learnpython</td>\n",
       "      <td>learnpython</td>\n",
       "      <td>learnpython</td>\n",
       "      <td>Python</td>\n",
       "      <td>Python</td>\n",
       "      <td>Python</td>\n",
       "      <td>learnpython</td>\n",
       "      <td>3</td>\n",
       "      <td>3</td>\n",
       "    </tr>\n",
       "    <tr>\n",
       "      <td>581</td>\n",
       "      <td>would love checked silly feature ideas also ap...</td>\n",
       "      <td>Python</td>\n",
       "      <td>Python</td>\n",
       "      <td>learnpython</td>\n",
       "      <td>learnpython</td>\n",
       "      <td>learnpython</td>\n",
       "      <td>Python</td>\n",
       "      <td>learnpython</td>\n",
       "      <td>3</td>\n",
       "      <td>3</td>\n",
       "    </tr>\n",
       "    <tr>\n",
       "      <td>21</td>\n",
       "      <td>hey everyone trying hand coding made games upl...</td>\n",
       "      <td>Python</td>\n",
       "      <td>Python</td>\n",
       "      <td>learnpython</td>\n",
       "      <td>learnpython</td>\n",
       "      <td>learnpython</td>\n",
       "      <td>Python</td>\n",
       "      <td>Python</td>\n",
       "      <td>3</td>\n",
       "      <td>3</td>\n",
       "    </tr>\n",
       "    <tr>\n",
       "      <td>269</td>\n",
       "      <td>could get little pointer tools could use solve...</td>\n",
       "      <td>learnpython</td>\n",
       "      <td>learnpython</td>\n",
       "      <td>learnpython</td>\n",
       "      <td>Python</td>\n",
       "      <td>Python</td>\n",
       "      <td>Python</td>\n",
       "      <td>Python</td>\n",
       "      <td>3</td>\n",
       "      <td>3</td>\n",
       "    </tr>\n",
       "    <tr>\n",
       "      <td>344</td>\n",
       "      <td>runtype type safe dataclasses multiple dispatch</td>\n",
       "      <td>learnpython</td>\n",
       "      <td>learnpython</td>\n",
       "      <td>learnpython</td>\n",
       "      <td>Python</td>\n",
       "      <td>Python</td>\n",
       "      <td>Python</td>\n",
       "      <td>Python</td>\n",
       "      <td>3</td>\n",
       "      <td>3</td>\n",
       "    </tr>\n",
       "  </tbody>\n",
       "</table>\n",
       "</div>"
      ],
      "text/plain": [
       "                                                   text           lr  \\\n",
       "392   want run applications esp microcontroller boar...  learnpython   \n",
       "476   person coming javascript important idiosyncras...  learnpython   \n",
       "200   best way practice improve writing code learnin...  learnpython   \n",
       "213   hey want dapple ac transit api check actransit...  learnpython   \n",
       "20    pystencils uses sympy define stencil operation...  learnpython   \n",
       "545   time sixth discord code jam year got brand new...       Python   \n",
       "1539  per title looking recommendation books assist ...  learnpython   \n",
       "216   terminusdb foss graph db stores data like git ...  learnpython   \n",
       "217   full course beginners first part basic second ...  learnpython   \n",
       "639   hi background sql theoretical knowledge oops w...  learnpython   \n",
       "430                      making programs blazingly fast  learnpython   \n",
       "189   one file example run data driven tests using n...  learnpython   \n",
       "8              short film legacy code russian subtitles  learnpython   \n",
       "201   automatically built tool explained basically h...       Python   \n",
       "427   basketball reference scraper api client access...       Python   \n",
       "64                                    text image script  learnpython   \n",
       "1312  hello everyone teaching finally created piece ...       Python   \n",
       "435                       pygame show frame rate screen  learnpython   \n",
       "187   library browse starred github repositories com...       Python   \n",
       "949   hi interested learning find best course place ...  learnpython   \n",
       "581   would love checked silly feature ideas also ap...       Python   \n",
       "21    hey everyone trying hand coding made games upl...       Python   \n",
       "269   could get little pointer tools could use solve...  learnpython   \n",
       "344     runtype type safe dataclasses multiple dispatch  learnpython   \n",
       "\n",
       "              knn           nb           rf           et          ada  \\\n",
       "392        Python  learnpython       Python       Python  learnpython   \n",
       "476   learnpython  learnpython       Python       Python       Python   \n",
       "200   learnpython  learnpython       Python       Python       Python   \n",
       "213   learnpython  learnpython       Python       Python       Python   \n",
       "20    learnpython  learnpython       Python       Python       Python   \n",
       "545        Python  learnpython  learnpython  learnpython       Python   \n",
       "1539  learnpython  learnpython       Python       Python       Python   \n",
       "216   learnpython  learnpython       Python       Python       Python   \n",
       "217   learnpython  learnpython       Python       Python       Python   \n",
       "639   learnpython  learnpython       Python       Python       Python   \n",
       "430   learnpython  learnpython       Python       Python       Python   \n",
       "189        Python  learnpython       Python       Python  learnpython   \n",
       "8     learnpython  learnpython       Python       Python       Python   \n",
       "201        Python  learnpython  learnpython  learnpython       Python   \n",
       "427        Python  learnpython  learnpython  learnpython       Python   \n",
       "64    learnpython  learnpython       Python       Python       Python   \n",
       "1312       Python  learnpython  learnpython  learnpython       Python   \n",
       "435   learnpython  learnpython       Python       Python       Python   \n",
       "187   learnpython  learnpython       Python       Python  learnpython   \n",
       "949   learnpython  learnpython       Python       Python       Python   \n",
       "581        Python  learnpython  learnpython  learnpython       Python   \n",
       "21         Python  learnpython  learnpython  learnpython       Python   \n",
       "269   learnpython  learnpython       Python       Python       Python   \n",
       "344   learnpython  learnpython       Python       Python       Python   \n",
       "\n",
       "            label  p_count  lp_count  \n",
       "392        Python        3         3  \n",
       "476        Python        3         3  \n",
       "200        Python        3         3  \n",
       "213        Python        3         3  \n",
       "20         Python        3         3  \n",
       "545        Python        3         3  \n",
       "1539  learnpython        3         3  \n",
       "216        Python        3         3  \n",
       "217        Python        3         3  \n",
       "639   learnpython        3         3  \n",
       "430        Python        3         3  \n",
       "189        Python        3         3  \n",
       "8          Python        3         3  \n",
       "201        Python        3         3  \n",
       "427        Python        3         3  \n",
       "64         Python        3         3  \n",
       "1312  learnpython        3         3  \n",
       "435        Python        3         3  \n",
       "187        Python        3         3  \n",
       "949   learnpython        3         3  \n",
       "581   learnpython        3         3  \n",
       "21         Python        3         3  \n",
       "269        Python        3         3  \n",
       "344        Python        3         3  "
      ]
     },
     "execution_count": 108,
     "metadata": {},
     "output_type": "execute_result"
    }
   ],
   "source": [
    "p_lp_df[p_lp_df['p_count'] == 3]"
   ]
  },
  {
   "cell_type": "markdown",
   "metadata": {},
   "source": [
    "## Correctly classified words"
   ]
  },
  {
   "cell_type": "code",
   "execution_count": 110,
   "metadata": {},
   "outputs": [],
   "source": [
    "# True positive\n",
    "lp_index = p_lp_df[(p_lp_df['lr'] == p_lp_df['label']) & (p_lp_df['label'] == 'learnpython')].index\n",
    "\n",
    "# True negative\n",
    "p_index = p_lp_df[(p_lp_df['lr'] == p_lp_df['label']) & (p_lp_df['label'] == 'Python')].index\n"
   ]
  },
  {
   "cell_type": "markdown",
   "metadata": {},
   "source": [
    "### Top 10 Python reddit words\n",
    "Join all text in correctly classified words, tokenize text and then plot most common occurances"
   ]
  },
  {
   "cell_type": "code",
   "execution_count": 111,
   "metadata": {},
   "outputs": [
    {
     "data": {
      "text/plain": [
       "<matplotlib.axes._subplots.AxesSubplot at 0x1a21f49a50>"
      ]
     },
     "execution_count": 111,
     "metadata": {},
     "output_type": "execute_result"
    },
    {
     "data": {
      "image/png": "[encoded data removed]",
      "text/plain": [
       "<Figure size 432x288 with 1 Axes>"
      ]
     },
     "metadata": {
      "needs_background": "light"
     },
     "output_type": "display_data"
    }
   ],
   "source": [
    "pd.DataFrame(Counter(' '.join([df[df.index==i]['text'].values[0] for i in p_index])\n",
    "                     .split()).most_common()).head(10).set_index(0).rename(columns={1:'count'}).plot(kind='barh')"
   ]
  },
  {
   "cell_type": "markdown",
   "metadata": {},
   "source": [
    "### Top 10 Learnpython reddit words"
   ]
  },
  {
   "cell_type": "code",
   "execution_count": 112,
   "metadata": {},
   "outputs": [
    {
     "data": {
      "text/plain": [
       "<matplotlib.axes._subplots.AxesSubplot at 0x1a21fc9490>"
      ]
     },
     "execution_count": 112,
     "metadata": {},
     "output_type": "execute_result"
    },
    {
     "data": {
      "image/png": "[encoded data removed]",
      "text/plain": [
       "<Figure size 432x288 with 1 Axes>"
      ]
     },
     "metadata": {
      "needs_background": "light"
     },
     "output_type": "display_data"
    }
   ],
   "source": [
    "pd.DataFrame(Counter(' '.join([df[df.index==i]['text'].values[0] for i in lp_index])\n",
    "                     .split()).most_common()).head(10).set_index(0).rename(columns={1:'count'}).plot(kind='barh')"
   ]
  },
  {
   "cell_type": "markdown",
   "metadata": {},
   "source": [
    "## Misclassified words"
   ]
  },
  {
   "cell_type": "code",
   "execution_count": 119,
   "metadata": {},
   "outputs": [],
   "source": [
    "# False Positive\n",
    "# Post that are suppose to be in learnpython but classified as python\n",
    "lp_index_misclass = p_lp_df[(p_lp_df['lr'] == 'Python') & (p_lp_df['label'] == 'learnpython')].index \n",
    "\n",
    "# False Negative\n",
    "# Post that are suppose to be in python but classified as learnpython\n",
    "p_index_misclass = p_lp_df[(p_lp_df['lr'] == 'learnpython') & (p_lp_df['label'] == 'Python')].index \n"
   ]
  },
  {
   "cell_type": "markdown",
   "metadata": {},
   "source": [
    "### Top 10 Reddit misclassified words for python\n",
    "Post that are suppose to be in python but are classified as learnpython"
   ]
  },
  {
   "cell_type": "code",
   "execution_count": 120,
   "metadata": {},
   "outputs": [
    {
     "data": {
      "text/plain": [
       "<matplotlib.axes._subplots.AxesSubplot at 0x1a21ec2290>"
      ]
     },
     "execution_count": 120,
     "metadata": {},
     "output_type": "execute_result"
    },
    {
     "data": {
      "image/png": "[encoded data removed]",
      "text/plain": [
       "<Figure size 432x288 with 1 Axes>"
      ]
     },
     "metadata": {
      "needs_background": "light"
     },
     "output_type": "display_data"
    }
   ],
   "source": [
    "pd.DataFrame(Counter(' '.join([df[df.index==i]['text'].values[0] for i in p_index_misclass])\n",
    "                     .split()).most_common()).head(10).set_index(0).rename(columns={1:'count'}).plot(kind='barh')"
   ]
  },
  {
   "cell_type": "markdown",
   "metadata": {},
   "source": [
    "### Top 10 Reddit misclassified words for learnpython\n",
    "Post that are suppose to be in learnpython but are classified as python"
   ]
  },
  {
   "cell_type": "code",
   "execution_count": 118,
   "metadata": {},
   "outputs": [
    {
     "data": {
      "text/plain": [
       "<matplotlib.axes._subplots.AxesSubplot at 0x1a22057910>"
      ]
     },
     "execution_count": 118,
     "metadata": {},
     "output_type": "execute_result"
    },
    {
     "data": {
      "image/png": "[encoded data removed]",
      "text/plain": [
       "<Figure size 432x288 with 1 Axes>"
      ]
     },
     "metadata": {
      "needs_background": "light"
     },
     "output_type": "display_data"
    }
   ],
   "source": [
    "pd.DataFrame(Counter(' '.join([df[df.index==i]['text'].values[0] for i in lp_index_misclass])\n",
    "                     .split()).most_common()).head(10).set_index(0).rename(columns={1:'count'}).plot(kind='barh')"
   ]
  },
  {
   "cell_type": "code",
   "execution_count": null,
   "metadata": {},
   "outputs": [],
   "source": []
  },
  {
   "cell_type": "markdown",
   "metadata": {},
   "source": [
    "## Conclusion\n",
    "- Different model works well in different subreddit\n",
    "- There is no one model that can work well for all subreddit\n",
    "- Best model is logistic regression\n",
    "- Best parameters for count vectorizer is 1 gram tokenize with 2500 max features, using tfidf transform\n",
    "- Some of the misleading words that is oftenly misclassified includes 'python', 'r', 'people', 'work', 'science' for data science and 'artificial', 'intelligence', 'information', 'time' for learn programming"
   ]
  },
  {
   "cell_type": "code",
   "execution_count": null,
   "metadata": {},
   "outputs": [],
   "source": []
  }
 ],
 "metadata": {
  "kernelspec": {
   "display_name": "Python 3",
   "language": "python",
   "name": "python3"
  },
  "language_info": {
   "codemirror_mode": {
    "name": "ipython",
    "version": 3
   },
   "file_extension": ".py",
   "mimetype": "text/x-python",
   "name": "python",
   "nbconvert_exporter": "python",
   "pygments_lexer": "ipython3",
   "version": "3.7.4"
  }
 },
 "nbformat": 4,
 "nbformat_minor": 2
}
